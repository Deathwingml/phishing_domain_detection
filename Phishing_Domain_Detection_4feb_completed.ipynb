{
  "cells": [
    {
      "cell_type": "code",
      "source": [
        "pip install catboost\n",
        "\n",
        "pip install miceforest\n",
        "\n",
        "pip install kneed"
      ],
      "metadata": {
        "colab": {
          "base_uri": "https://localhost:8080/",
          "height": 130
        },
        "id": "ndijP1k3HLsk",
        "outputId": "44cdd8ba-6f9a-4598-eb4b-7cc5a8d3552a"
      },
      "id": "ndijP1k3HLsk",
      "execution_count": 1,
      "outputs": [
        {
          "output_type": "error",
          "ename": "SyntaxError",
          "evalue": "ignored",
          "traceback": [
            "\u001b[0;36m  File \u001b[0;32m\"<ipython-input-1-9c4863592966>\"\u001b[0;36m, line \u001b[0;32m1\u001b[0m\n\u001b[0;31m    pip install catboost\u001b[0m\n\u001b[0m        ^\u001b[0m\n\u001b[0;31mSyntaxError\u001b[0m\u001b[0;31m:\u001b[0m invalid syntax\n"
          ]
        }
      ]
    },
    {
      "cell_type": "code",
      "execution_count": 2,
      "id": "7a338eea",
      "metadata": {
        "id": "7a338eea"
      },
      "outputs": [],
      "source": [
        "import pandas as pd\n",
        "from urllib.parse import urlsplit\n",
        "from urllib.parse import urlparse\n",
        "import re\n",
        "import matplotlib.pyplot as plt\n",
        "import numpy as np\n",
        "import seaborn as sns\n",
        "\n",
        "from statistics import mean\n",
        "import warnings\n",
        "from sklearn.preprocessing import PowerTransformer\n",
        "from sklearn.preprocessing import LabelEncoder\n",
        "from sklearn.pipeline import Pipeline\n",
        "from sklearn.utils import resample\n",
        "\n",
        "from sklearn.linear_model import LogisticRegression\n",
        "from sklearn.ensemble import RandomForestClassifier, AdaBoostClassifier, GradientBoostingClassifier\n",
        "from sklearn.neighbors import KNeighborsClassifier\n",
        "from sklearn.tree import DecisionTreeClassifier\n",
        "from sklearn.svm import SVC\n",
        "from sklearn.metrics import accuracy_score, classification_report,ConfusionMatrixDisplay, \\\n",
        "                            precision_score, recall_score, f1_score, roc_auc_score,roc_curve,confusion_matrix\n",
        "\n",
        "\n",
        "from sklearn import metrics \n",
        "from sklearn.model_selection import  train_test_split, RepeatedStratifiedKFold, cross_val_score\n",
        "from sklearn.preprocessing import OneHotEncoder, MinMaxScaler\n",
        "from sklearn.compose import ColumnTransformer\n",
        "from sklearn.impute import SimpleImputer, KNNImputer\n",
        "from xgboost import XGBClassifier\n",
        "from sklearn.preprocessing import StandardScaler, MinMaxScaler,RobustScaler\n",
        "from sklearn.compose import ColumnTransformer\n",
        "from catboost import CatBoostClassifier\n",
        "\n",
        "from imblearn.combine import SMOTETomek\n",
        "from kneed import KneeLocator\n",
        "\n",
        "from prettytable import PrettyTable\n",
        "\n",
        "\n",
        "warnings.filterwarnings(\"ignore\")\n",
        "%matplotlib inline"
      ]
    },
    {
      "cell_type": "code",
      "source": [],
      "metadata": {
        "id": "BdNQP5PWBHCJ"
      },
      "id": "BdNQP5PWBHCJ",
      "execution_count": 2,
      "outputs": []
    },
    {
      "cell_type": "code",
      "source": [
        "from google.colab import drive\n",
        "drive.mount('/content/drive')"
      ],
      "metadata": {
        "colab": {
          "base_uri": "https://localhost:8080/"
        },
        "id": "RhDmCRnhBIl0",
        "outputId": "34e5cd3c-3d4e-4993-ccc3-b50b12e7344f"
      },
      "id": "RhDmCRnhBIl0",
      "execution_count": 3,
      "outputs": [
        {
          "output_type": "stream",
          "name": "stdout",
          "text": [
            "Drive already mounted at /content/drive; to attempt to forcibly remount, call drive.mount(\"/content/drive\", force_remount=True).\n"
          ]
        }
      ]
    },
    {
      "cell_type": "code",
      "execution_count": 4,
      "id": "3d512960",
      "metadata": {
        "id": "3d512960"
      },
      "outputs": [],
      "source": [
        "# Reading Data\n",
        "\n",
        "df = pd.read_csv(\"/content/drive/MyDrive/Colab Notebooks/phishing_site_urls.csv\")"
      ]
    },
    {
      "cell_type": "code",
      "execution_count": 5,
      "id": "6afd26f5",
      "metadata": {
        "colab": {
          "base_uri": "https://localhost:8080/",
          "height": 206
        },
        "id": "6afd26f5",
        "outputId": "1e8decb3-3b0f-43d1-8bd4-d7d76ea9e9d3"
      },
      "outputs": [
        {
          "output_type": "execute_result",
          "data": {
            "text/plain": [
              "                                                 URL Label\n",
              "0  nobell.it/70ffb52d079109dca5664cce6f317373782/...   bad\n",
              "1  www.dghjdgf.com/paypal.co.uk/cycgi-bin/webscrc...   bad\n",
              "2  serviciosbys.com/paypal.cgi.bin.get-into.herf....   bad\n",
              "3  mail.printakid.com/www.online.americanexpress....   bad\n",
              "4  thewhiskeydregs.com/wp-content/themes/widescre...   bad"
            ],
            "text/html": [
              "\n",
              "  <div id=\"df-dde24d9e-b613-43a8-9d91-4c2a0c086fd0\">\n",
              "    <div class=\"colab-df-container\">\n",
              "      <div>\n",
              "<style scoped>\n",
              "    .dataframe tbody tr th:only-of-type {\n",
              "        vertical-align: middle;\n",
              "    }\n",
              "\n",
              "    .dataframe tbody tr th {\n",
              "        vertical-align: top;\n",
              "    }\n",
              "\n",
              "    .dataframe thead th {\n",
              "        text-align: right;\n",
              "    }\n",
              "</style>\n",
              "<table border=\"1\" class=\"dataframe\">\n",
              "  <thead>\n",
              "    <tr style=\"text-align: right;\">\n",
              "      <th></th>\n",
              "      <th>URL</th>\n",
              "      <th>Label</th>\n",
              "    </tr>\n",
              "  </thead>\n",
              "  <tbody>\n",
              "    <tr>\n",
              "      <th>0</th>\n",
              "      <td>nobell.it/70ffb52d079109dca5664cce6f317373782/...</td>\n",
              "      <td>bad</td>\n",
              "    </tr>\n",
              "    <tr>\n",
              "      <th>1</th>\n",
              "      <td>www.dghjdgf.com/paypal.co.uk/cycgi-bin/webscrc...</td>\n",
              "      <td>bad</td>\n",
              "    </tr>\n",
              "    <tr>\n",
              "      <th>2</th>\n",
              "      <td>serviciosbys.com/paypal.cgi.bin.get-into.herf....</td>\n",
              "      <td>bad</td>\n",
              "    </tr>\n",
              "    <tr>\n",
              "      <th>3</th>\n",
              "      <td>mail.printakid.com/www.online.americanexpress....</td>\n",
              "      <td>bad</td>\n",
              "    </tr>\n",
              "    <tr>\n",
              "      <th>4</th>\n",
              "      <td>thewhiskeydregs.com/wp-content/themes/widescre...</td>\n",
              "      <td>bad</td>\n",
              "    </tr>\n",
              "  </tbody>\n",
              "</table>\n",
              "</div>\n",
              "      <button class=\"colab-df-convert\" onclick=\"convertToInteractive('df-dde24d9e-b613-43a8-9d91-4c2a0c086fd0')\"\n",
              "              title=\"Convert this dataframe to an interactive table.\"\n",
              "              style=\"display:none;\">\n",
              "        \n",
              "  <svg xmlns=\"http://www.w3.org/2000/svg\" height=\"24px\"viewBox=\"0 0 24 24\"\n",
              "       width=\"24px\">\n",
              "    <path d=\"M0 0h24v24H0V0z\" fill=\"none\"/>\n",
              "    <path d=\"M18.56 5.44l.94 2.06.94-2.06 2.06-.94-2.06-.94-.94-2.06-.94 2.06-2.06.94zm-11 1L8.5 8.5l.94-2.06 2.06-.94-2.06-.94L8.5 2.5l-.94 2.06-2.06.94zm10 10l.94 2.06.94-2.06 2.06-.94-2.06-.94-.94-2.06-.94 2.06-2.06.94z\"/><path d=\"M17.41 7.96l-1.37-1.37c-.4-.4-.92-.59-1.43-.59-.52 0-1.04.2-1.43.59L10.3 9.45l-7.72 7.72c-.78.78-.78 2.05 0 2.83L4 21.41c.39.39.9.59 1.41.59.51 0 1.02-.2 1.41-.59l7.78-7.78 2.81-2.81c.8-.78.8-2.07 0-2.86zM5.41 20L4 18.59l7.72-7.72 1.47 1.35L5.41 20z\"/>\n",
              "  </svg>\n",
              "      </button>\n",
              "      \n",
              "  <style>\n",
              "    .colab-df-container {\n",
              "      display:flex;\n",
              "      flex-wrap:wrap;\n",
              "      gap: 12px;\n",
              "    }\n",
              "\n",
              "    .colab-df-convert {\n",
              "      background-color: #E8F0FE;\n",
              "      border: none;\n",
              "      border-radius: 50%;\n",
              "      cursor: pointer;\n",
              "      display: none;\n",
              "      fill: #1967D2;\n",
              "      height: 32px;\n",
              "      padding: 0 0 0 0;\n",
              "      width: 32px;\n",
              "    }\n",
              "\n",
              "    .colab-df-convert:hover {\n",
              "      background-color: #E2EBFA;\n",
              "      box-shadow: 0px 1px 2px rgba(60, 64, 67, 0.3), 0px 1px 3px 1px rgba(60, 64, 67, 0.15);\n",
              "      fill: #174EA6;\n",
              "    }\n",
              "\n",
              "    [theme=dark] .colab-df-convert {\n",
              "      background-color: #3B4455;\n",
              "      fill: #D2E3FC;\n",
              "    }\n",
              "\n",
              "    [theme=dark] .colab-df-convert:hover {\n",
              "      background-color: #434B5C;\n",
              "      box-shadow: 0px 1px 3px 1px rgba(0, 0, 0, 0.15);\n",
              "      filter: drop-shadow(0px 1px 2px rgba(0, 0, 0, 0.3));\n",
              "      fill: #FFFFFF;\n",
              "    }\n",
              "  </style>\n",
              "\n",
              "      <script>\n",
              "        const buttonEl =\n",
              "          document.querySelector('#df-dde24d9e-b613-43a8-9d91-4c2a0c086fd0 button.colab-df-convert');\n",
              "        buttonEl.style.display =\n",
              "          google.colab.kernel.accessAllowed ? 'block' : 'none';\n",
              "\n",
              "        async function convertToInteractive(key) {\n",
              "          const element = document.querySelector('#df-dde24d9e-b613-43a8-9d91-4c2a0c086fd0');\n",
              "          const dataTable =\n",
              "            await google.colab.kernel.invokeFunction('convertToInteractive',\n",
              "                                                     [key], {});\n",
              "          if (!dataTable) return;\n",
              "\n",
              "          const docLinkHtml = 'Like what you see? Visit the ' +\n",
              "            '<a target=\"_blank\" href=https://colab.research.google.com/notebooks/data_table.ipynb>data table notebook</a>'\n",
              "            + ' to learn more about interactive tables.';\n",
              "          element.innerHTML = '';\n",
              "          dataTable['output_type'] = 'display_data';\n",
              "          await google.colab.output.renderOutput(dataTable, element);\n",
              "          const docLink = document.createElement('div');\n",
              "          docLink.innerHTML = docLinkHtml;\n",
              "          element.appendChild(docLink);\n",
              "        }\n",
              "      </script>\n",
              "    </div>\n",
              "  </div>\n",
              "  "
            ]
          },
          "metadata": {},
          "execution_count": 5
        }
      ],
      "source": [
        "# Checking first 5 rows\n",
        "\n",
        "df.head()"
      ]
    },
    {
      "cell_type": "code",
      "execution_count": 6,
      "id": "ff087022",
      "metadata": {
        "colab": {
          "base_uri": "https://localhost:8080/"
        },
        "id": "ff087022",
        "outputId": "86ea46f2-4958-4875-dc69-545da417072a"
      },
      "outputs": [
        {
          "output_type": "execute_result",
          "data": {
            "text/plain": [
              "(549346, 2)"
            ]
          },
          "metadata": {},
          "execution_count": 6
        }
      ],
      "source": [
        "# Number of rows and columns\n",
        "\n",
        "df.shape"
      ]
    },
    {
      "cell_type": "code",
      "execution_count": 7,
      "id": "11a2ce67",
      "metadata": {
        "colab": {
          "base_uri": "https://localhost:8080/",
          "height": 175
        },
        "id": "11a2ce67",
        "outputId": "229b0193-6f15-417d-bfba-8318fb53966f"
      },
      "outputs": [
        {
          "output_type": "execute_result",
          "data": {
            "text/plain": [
              "                                  URL   Label\n",
              "count                          549346  549346\n",
              "unique                         507195       2\n",
              "top     jhomitevd2abj3fk.tor2web.org/    good\n",
              "freq                               52  392924"
            ],
            "text/html": [
              "\n",
              "  <div id=\"df-a38a2834-0e2c-4dd7-9bd2-2369940ccdde\">\n",
              "    <div class=\"colab-df-container\">\n",
              "      <div>\n",
              "<style scoped>\n",
              "    .dataframe tbody tr th:only-of-type {\n",
              "        vertical-align: middle;\n",
              "    }\n",
              "\n",
              "    .dataframe tbody tr th {\n",
              "        vertical-align: top;\n",
              "    }\n",
              "\n",
              "    .dataframe thead th {\n",
              "        text-align: right;\n",
              "    }\n",
              "</style>\n",
              "<table border=\"1\" class=\"dataframe\">\n",
              "  <thead>\n",
              "    <tr style=\"text-align: right;\">\n",
              "      <th></th>\n",
              "      <th>URL</th>\n",
              "      <th>Label</th>\n",
              "    </tr>\n",
              "  </thead>\n",
              "  <tbody>\n",
              "    <tr>\n",
              "      <th>count</th>\n",
              "      <td>549346</td>\n",
              "      <td>549346</td>\n",
              "    </tr>\n",
              "    <tr>\n",
              "      <th>unique</th>\n",
              "      <td>507195</td>\n",
              "      <td>2</td>\n",
              "    </tr>\n",
              "    <tr>\n",
              "      <th>top</th>\n",
              "      <td>jhomitevd2abj3fk.tor2web.org/</td>\n",
              "      <td>good</td>\n",
              "    </tr>\n",
              "    <tr>\n",
              "      <th>freq</th>\n",
              "      <td>52</td>\n",
              "      <td>392924</td>\n",
              "    </tr>\n",
              "  </tbody>\n",
              "</table>\n",
              "</div>\n",
              "      <button class=\"colab-df-convert\" onclick=\"convertToInteractive('df-a38a2834-0e2c-4dd7-9bd2-2369940ccdde')\"\n",
              "              title=\"Convert this dataframe to an interactive table.\"\n",
              "              style=\"display:none;\">\n",
              "        \n",
              "  <svg xmlns=\"http://www.w3.org/2000/svg\" height=\"24px\"viewBox=\"0 0 24 24\"\n",
              "       width=\"24px\">\n",
              "    <path d=\"M0 0h24v24H0V0z\" fill=\"none\"/>\n",
              "    <path d=\"M18.56 5.44l.94 2.06.94-2.06 2.06-.94-2.06-.94-.94-2.06-.94 2.06-2.06.94zm-11 1L8.5 8.5l.94-2.06 2.06-.94-2.06-.94L8.5 2.5l-.94 2.06-2.06.94zm10 10l.94 2.06.94-2.06 2.06-.94-2.06-.94-.94-2.06-.94 2.06-2.06.94z\"/><path d=\"M17.41 7.96l-1.37-1.37c-.4-.4-.92-.59-1.43-.59-.52 0-1.04.2-1.43.59L10.3 9.45l-7.72 7.72c-.78.78-.78 2.05 0 2.83L4 21.41c.39.39.9.59 1.41.59.51 0 1.02-.2 1.41-.59l7.78-7.78 2.81-2.81c.8-.78.8-2.07 0-2.86zM5.41 20L4 18.59l7.72-7.72 1.47 1.35L5.41 20z\"/>\n",
              "  </svg>\n",
              "      </button>\n",
              "      \n",
              "  <style>\n",
              "    .colab-df-container {\n",
              "      display:flex;\n",
              "      flex-wrap:wrap;\n",
              "      gap: 12px;\n",
              "    }\n",
              "\n",
              "    .colab-df-convert {\n",
              "      background-color: #E8F0FE;\n",
              "      border: none;\n",
              "      border-radius: 50%;\n",
              "      cursor: pointer;\n",
              "      display: none;\n",
              "      fill: #1967D2;\n",
              "      height: 32px;\n",
              "      padding: 0 0 0 0;\n",
              "      width: 32px;\n",
              "    }\n",
              "\n",
              "    .colab-df-convert:hover {\n",
              "      background-color: #E2EBFA;\n",
              "      box-shadow: 0px 1px 2px rgba(60, 64, 67, 0.3), 0px 1px 3px 1px rgba(60, 64, 67, 0.15);\n",
              "      fill: #174EA6;\n",
              "    }\n",
              "\n",
              "    [theme=dark] .colab-df-convert {\n",
              "      background-color: #3B4455;\n",
              "      fill: #D2E3FC;\n",
              "    }\n",
              "\n",
              "    [theme=dark] .colab-df-convert:hover {\n",
              "      background-color: #434B5C;\n",
              "      box-shadow: 0px 1px 3px 1px rgba(0, 0, 0, 0.15);\n",
              "      filter: drop-shadow(0px 1px 2px rgba(0, 0, 0, 0.3));\n",
              "      fill: #FFFFFF;\n",
              "    }\n",
              "  </style>\n",
              "\n",
              "      <script>\n",
              "        const buttonEl =\n",
              "          document.querySelector('#df-a38a2834-0e2c-4dd7-9bd2-2369940ccdde button.colab-df-convert');\n",
              "        buttonEl.style.display =\n",
              "          google.colab.kernel.accessAllowed ? 'block' : 'none';\n",
              "\n",
              "        async function convertToInteractive(key) {\n",
              "          const element = document.querySelector('#df-a38a2834-0e2c-4dd7-9bd2-2369940ccdde');\n",
              "          const dataTable =\n",
              "            await google.colab.kernel.invokeFunction('convertToInteractive',\n",
              "                                                     [key], {});\n",
              "          if (!dataTable) return;\n",
              "\n",
              "          const docLinkHtml = 'Like what you see? Visit the ' +\n",
              "            '<a target=\"_blank\" href=https://colab.research.google.com/notebooks/data_table.ipynb>data table notebook</a>'\n",
              "            + ' to learn more about interactive tables.';\n",
              "          element.innerHTML = '';\n",
              "          dataTable['output_type'] = 'display_data';\n",
              "          await google.colab.output.renderOutput(dataTable, element);\n",
              "          const docLink = document.createElement('div');\n",
              "          docLink.innerHTML = docLinkHtml;\n",
              "          element.appendChild(docLink);\n",
              "        }\n",
              "      </script>\n",
              "    </div>\n",
              "  </div>\n",
              "  "
            ]
          },
          "metadata": {},
          "execution_count": 7
        }
      ],
      "source": [
        "# Describe the dataset\n",
        "\n",
        "df.describe()"
      ]
    },
    {
      "cell_type": "code",
      "execution_count": 8,
      "id": "926d81d7",
      "metadata": {
        "colab": {
          "base_uri": "https://localhost:8080/"
        },
        "id": "926d81d7",
        "outputId": "9f312b1d-db7a-4760-e50e-3a0ec3040853"
      },
      "outputs": [
        {
          "output_type": "execute_result",
          "data": {
            "text/plain": [
              "URL      object\n",
              "Label    object\n",
              "dtype: object"
            ]
          },
          "metadata": {},
          "execution_count": 8
        }
      ],
      "source": [
        "# Checking datatypes of the columns\n",
        "\n",
        "df.dtypes"
      ]
    },
    {
      "cell_type": "code",
      "execution_count": 9,
      "id": "0cb9b12c",
      "metadata": {
        "colab": {
          "base_uri": "https://localhost:8080/"
        },
        "id": "0cb9b12c",
        "outputId": "9286a2db-f7b4-4bdc-c219-86dd0e8a8d78"
      },
      "outputs": [
        {
          "output_type": "execute_result",
          "data": {
            "text/plain": [
              "Index(['URL', 'Label'], dtype='object')"
            ]
          },
          "metadata": {},
          "execution_count": 9
        }
      ],
      "source": [
        "# Columns in the dataset\n",
        "\n",
        "df.columns"
      ]
    },
    {
      "cell_type": "code",
      "execution_count": 9,
      "id": "330ffef3",
      "metadata": {
        "id": "330ffef3"
      },
      "outputs": [],
      "source": []
    },
    {
      "cell_type": "markdown",
      "id": "3041c055",
      "metadata": {
        "id": "3041c055"
      },
      "source": [
        "# Extracting data from the URL"
      ]
    },
    {
      "cell_type": "code",
      "execution_count": 10,
      "id": "33242893",
      "metadata": {
        "colab": {
          "base_uri": "https://localhost:8080/"
        },
        "id": "33242893",
        "outputId": "32638392-98c5-4795-c3d0-4506232e035d"
      },
      "outputs": [
        {
          "output_type": "execute_result",
          "data": {
            "text/plain": [
              "Index(['URL', 'Label'], dtype='object')"
            ]
          },
          "metadata": {},
          "execution_count": 10
        }
      ],
      "source": [
        "df.columns"
      ]
    },
    {
      "cell_type": "code",
      "execution_count": 11,
      "id": "8e655b0d",
      "metadata": {
        "id": "8e655b0d"
      },
      "outputs": [],
      "source": [
        "# Extracting domain name from the URL\n",
        "def extract_domain(url):\n",
        "    match = re.search(\"^[^/]+\", url)\n",
        "    return match.group() if match else None"
      ]
    },
    {
      "cell_type": "code",
      "execution_count": 12,
      "id": "db55ea25",
      "metadata": {
        "id": "db55ea25"
      },
      "outputs": [],
      "source": [
        "# Extracting path from the URL\n",
        "\n",
        "def extract_path(url):\n",
        "    match = re.search(\"/[^?]+\", url)\n",
        "    return match.group() if match else None"
      ]
    },
    {
      "cell_type": "code",
      "execution_count": 13,
      "id": "996068af",
      "metadata": {
        "id": "996068af"
      },
      "outputs": [],
      "source": [
        "# Extracting query string from the URL\n",
        "\n",
        "def extract_query_string(url):\n",
        "    match = re.search(\"\\?[^#]+\", url)\n",
        "    return match.group() if match else None"
      ]
    },
    {
      "cell_type": "code",
      "execution_count": 14,
      "id": "99e1c095",
      "metadata": {
        "id": "99e1c095"
      },
      "outputs": [],
      "source": [
        "# Extracting fragment from the URL\n",
        "\n",
        "def extract_fragment(url):\n",
        "    match = re.search(\"#[^/]+\", url)\n",
        "    return match.group()[1:] if match else None"
      ]
    },
    {
      "cell_type": "code",
      "execution_count": 15,
      "id": "790850b9",
      "metadata": {
        "id": "790850b9"
      },
      "outputs": [],
      "source": [
        "# Creating domain name column\n",
        "\n",
        "df[\"domain_name\"] = df[\"URL\"].apply(lambda x: extract_domain(x))"
      ]
    },
    {
      "cell_type": "code",
      "execution_count": 16,
      "id": "bdf08342",
      "metadata": {
        "id": "bdf08342"
      },
      "outputs": [],
      "source": [
        "# Creating path column\n",
        "\n",
        "df[\"path\"] = df[\"URL\"].apply(lambda x: extract_path(x))"
      ]
    },
    {
      "cell_type": "code",
      "execution_count": 17,
      "id": "9ada3dae",
      "metadata": {
        "id": "9ada3dae"
      },
      "outputs": [],
      "source": [
        "# Creating query string column\n",
        "\n",
        "df[\"query_string\"] = df[\"URL\"].apply(lambda x: extract_query_string(x))"
      ]
    },
    {
      "cell_type": "code",
      "execution_count": 18,
      "id": "6e998e32",
      "metadata": {
        "id": "6e998e32"
      },
      "outputs": [],
      "source": [
        "# Creating fragment column\n",
        "\n",
        "df[\"fragment\"] = df[\"URL\"].apply(lambda x: extract_fragment(x))"
      ]
    },
    {
      "cell_type": "code",
      "execution_count": 19,
      "id": "2a5cfb4c",
      "metadata": {
        "colab": {
          "base_uri": "https://localhost:8080/"
        },
        "id": "2a5cfb4c",
        "outputId": "b34fdd77-238f-43f2-b3c6-34efd6d99a85"
      },
      "outputs": [
        {
          "output_type": "execute_result",
          "data": {
            "text/plain": [
              "URL                  0\n",
              "Label                0\n",
              "domain_name          1\n",
              "path             62960\n",
              "query_string    467489\n",
              "fragment        548838\n",
              "dtype: int64"
            ]
          },
          "metadata": {},
          "execution_count": 19
        }
      ],
      "source": [
        "df.isnull().sum()"
      ]
    },
    {
      "cell_type": "code",
      "execution_count": 20,
      "id": "ef9fb54f",
      "metadata": {
        "id": "ef9fb54f",
        "colab": {
          "base_uri": "https://localhost:8080/"
        },
        "outputId": "2ca9c5e6-f70f-47fa-a160-b10b69b10cb5"
      },
      "outputs": [
        {
          "output_type": "stream",
          "name": "stdout",
          "text": [
            "Percentage of null values in each column\n",
            "------------------------------------------\n",
            "domain: 0.00018203463755083317%\n",
            "path: 11.460900780200456%\n",
            "query string: 85.09919067400145%\n",
            "fragment: 99.90752640412418%\n"
          ]
        }
      ],
      "source": [
        "# percentage of null values in each column\n",
        "\n",
        "frag_null = (df[\"fragment\"].isnull().sum()/df.shape[0])*100\n",
        "domain_null = (df[\"domain_name\"].isnull().sum()/df.shape[0])*100\n",
        "path_null = (df[\"path\"].isnull().sum()/df.shape[0])*100\n",
        "query_string_null = (df[\"query_string\"].isnull().sum()/df.shape[0])*100\n",
        "\n",
        "print(f\"Percentage of null values in each column\")\n",
        "print(\"------------------------------------------\")\n",
        "print(f\"domain: {domain_null}%\")\n",
        "print(f\"path: {path_null}%\")\n",
        "print(f\"query string: {query_string_null}%\")\n",
        "print(f\"fragment: {frag_null}%\")"
      ]
    },
    {
      "cell_type": "code",
      "execution_count": 21,
      "id": "b0ed68ce",
      "metadata": {
        "colab": {
          "base_uri": "https://localhost:8080/"
        },
        "id": "b0ed68ce",
        "outputId": "d9aaf48f-4ec1-4a10-a4cf-a341a0884483"
      },
      "outputs": [
        {
          "output_type": "execute_result",
          "data": {
            "text/plain": [
              "(549346, 6)"
            ]
          },
          "metadata": {},
          "execution_count": 21
        }
      ],
      "source": [
        "df.shape"
      ]
    },
    {
      "cell_type": "code",
      "execution_count": 21,
      "id": "af8b7a4a",
      "metadata": {
        "id": "af8b7a4a"
      },
      "outputs": [],
      "source": []
    },
    {
      "cell_type": "markdown",
      "id": "dbe06bba",
      "metadata": {
        "id": "dbe06bba"
      },
      "source": [
        "# Extracting other features from the URL and creating columns"
      ]
    },
    {
      "cell_type": "code",
      "execution_count": 22,
      "id": "b0067e30",
      "metadata": {
        "colab": {
          "base_uri": "https://localhost:8080/"
        },
        "id": "b0067e30",
        "outputId": "713c70aa-5725-44ad-e06b-daa2cba845af"
      },
      "outputs": [
        {
          "output_type": "stream",
          "name": "stdout",
          "text": [
            "Number of dots in the URL: 1\n"
          ]
        }
      ],
      "source": [
        "def count_dots(url):\n",
        "    return url.count(\".\")\n",
        "\n",
        "url = \"https://plu.mx/plum/a?mendeley_data_id=72ptz43s9v&theme=plum-bigben-theme\"\n",
        "dot_count = count_dots(url)\n",
        "print(\"Number of dots in the URL:\", dot_count)"
      ]
    },
    {
      "cell_type": "code",
      "execution_count": 23,
      "id": "e69816ab",
      "metadata": {
        "id": "e69816ab"
      },
      "outputs": [],
      "source": [
        "df[\"qty_dot_url\"] = df[\"URL\"].apply(lambda x: count_dots(x))"
      ]
    },
    {
      "cell_type": "code",
      "execution_count": 24,
      "id": "59163cf6",
      "metadata": {
        "colab": {
          "base_uri": "https://localhost:8080/"
        },
        "id": "59163cf6",
        "outputId": "2e871671-12c4-46c4-ad6a-bbce4523d446"
      },
      "outputs": [
        {
          "output_type": "stream",
          "name": "stdout",
          "text": [
            "Number of hyphen in the URL: 2\n"
          ]
        }
      ],
      "source": [
        "def count_hyphen(url):\n",
        "    return url.count(\"-\")\n",
        "\n",
        "hyphen_count = count_hyphen(url)\n",
        "print(\"Number of hyphen in the URL:\", hyphen_count)"
      ]
    },
    {
      "cell_type": "code",
      "execution_count": 25,
      "id": "31057cb8",
      "metadata": {
        "id": "31057cb8"
      },
      "outputs": [],
      "source": [
        "df[\"qty_hyphen_url\"] = df[\"URL\"].apply(lambda x: count_hyphen(x))"
      ]
    },
    {
      "cell_type": "code",
      "execution_count": 26,
      "id": "a451d3b1",
      "metadata": {
        "colab": {
          "base_uri": "https://localhost:8080/"
        },
        "id": "a451d3b1",
        "outputId": "88187675-877e-441d-f525-a3b97d178bbf"
      },
      "outputs": [
        {
          "output_type": "stream",
          "name": "stdout",
          "text": [
            "Number of underline in the URL: 2\n"
          ]
        }
      ],
      "source": [
        "def count_underline(url):\n",
        "    return url.count(\"_\")\n",
        "\n",
        "underline_count = count_underline(url)\n",
        "print(\"Number of underline in the URL:\", underline_count)"
      ]
    },
    {
      "cell_type": "code",
      "execution_count": 27,
      "id": "812ba114",
      "metadata": {
        "id": "812ba114"
      },
      "outputs": [],
      "source": [
        "df[\"qty_underline_url\"] = df[\"URL\"].apply(lambda x: count_underline(x))"
      ]
    },
    {
      "cell_type": "code",
      "execution_count": 28,
      "id": "b78f10a4",
      "metadata": {
        "colab": {
          "base_uri": "https://localhost:8080/"
        },
        "id": "b78f10a4",
        "outputId": "8877df69-75a5-4a0f-8fc5-01a9dc135860"
      },
      "outputs": [
        {
          "output_type": "stream",
          "name": "stdout",
          "text": [
            "Number of slash in the URL: 4\n"
          ]
        }
      ],
      "source": [
        "def count_slash(url):\n",
        "    return url.count(\"/\")\n",
        "\n",
        "slash_count = count_slash(url)\n",
        "print(\"Number of slash in the URL:\", slash_count)"
      ]
    },
    {
      "cell_type": "code",
      "execution_count": 29,
      "id": "41659d31",
      "metadata": {
        "id": "41659d31"
      },
      "outputs": [],
      "source": [
        "df[\"qty_slash_url\"] = df[\"URL\"].apply(lambda x: count_slash(x))"
      ]
    },
    {
      "cell_type": "code",
      "execution_count": 30,
      "id": "4c53a66e",
      "metadata": {
        "colab": {
          "base_uri": "https://localhost:8080/"
        },
        "id": "4c53a66e",
        "outputId": "4ac7e3b5-d17d-4a77-e59c-8dd49876b8ea"
      },
      "outputs": [
        {
          "output_type": "stream",
          "name": "stdout",
          "text": [
            "Number of question marks in the URL: 1\n"
          ]
        }
      ],
      "source": [
        " def count_question_mark(url):\n",
        "        return url.count(\"?\")\n",
        "    \n",
        "question_mark_count = count_question_mark(url)\n",
        "print(\"Number of question marks in the URL:\", question_mark_count)"
      ]
    },
    {
      "cell_type": "code",
      "execution_count": 31,
      "id": "f06ca513",
      "metadata": {
        "id": "f06ca513"
      },
      "outputs": [],
      "source": [
        "df[\"qty_question_mark_url\"] = df[\"URL\"].apply(lambda x: count_question_mark(x))"
      ]
    },
    {
      "cell_type": "code",
      "execution_count": 32,
      "id": "019624e3",
      "metadata": {
        "colab": {
          "base_uri": "https://localhost:8080/"
        },
        "id": "019624e3",
        "outputId": "5d0a827c-43c5-42ec-8f57-9c8c23db472c"
      },
      "outputs": [
        {
          "output_type": "stream",
          "name": "stdout",
          "text": [
            "Number of equal signs in the URL: 2\n"
          ]
        }
      ],
      "source": [
        "def count_equal_sign(url):\n",
        "    return url.count(\"=\")\n",
        "\n",
        "equal_sign_count = count_equal_sign(url)\n",
        "print(\"Number of equal signs in the URL:\", equal_sign_count)"
      ]
    },
    {
      "cell_type": "code",
      "execution_count": 33,
      "id": "29390617",
      "metadata": {
        "id": "29390617"
      },
      "outputs": [],
      "source": [
        "df[\"qty_equal_sign_url\"] = df[\"URL\"].apply(lambda x: count_equal_sign(x))"
      ]
    },
    {
      "cell_type": "code",
      "execution_count": 34,
      "id": "dc0250fa",
      "metadata": {
        "colab": {
          "base_uri": "https://localhost:8080/"
        },
        "id": "dc0250fa",
        "outputId": "890041e3-12c5-4be0-c938-9259100d7e94"
      },
      "outputs": [
        {
          "output_type": "stream",
          "name": "stdout",
          "text": [
            "Number of at_sign in the URL: 0\n"
          ]
        }
      ],
      "source": [
        "def count_at_sign(url):\n",
        "    return url.count(\"@\")\n",
        "\n",
        "at_sign_count = count_at_sign(url)\n",
        "print(\"Number of at_sign in the URL:\", at_sign_count)"
      ]
    },
    {
      "cell_type": "code",
      "execution_count": 35,
      "id": "460af47f",
      "metadata": {
        "id": "460af47f"
      },
      "outputs": [],
      "source": [
        "df[\"qty_at_sign_url\"] = df[\"URL\"].apply(lambda x: count_at_sign(x))"
      ]
    },
    {
      "cell_type": "code",
      "execution_count": 36,
      "id": "7de6cded",
      "metadata": {
        "colab": {
          "base_uri": "https://localhost:8080/"
        },
        "id": "7de6cded",
        "outputId": "960459ca-826f-4fbe-dabc-2ea646234caa"
      },
      "outputs": [
        {
          "output_type": "stream",
          "name": "stdout",
          "text": [
            "Number of and_sign in the URL: 1\n"
          ]
        }
      ],
      "source": [
        "def count_and_sign(url):\n",
        "    return url.count(\"&\")\n",
        "\n",
        "and_sign_count = count_and_sign(url)\n",
        "print(\"Number of and_sign in the URL:\", and_sign_count)"
      ]
    },
    {
      "cell_type": "code",
      "execution_count": 37,
      "id": "ec06dd81",
      "metadata": {
        "id": "ec06dd81"
      },
      "outputs": [],
      "source": [
        "df[\"qty_and_sign_url\"] = df[\"URL\"].apply(lambda x: count_and_sign(x))"
      ]
    },
    {
      "cell_type": "code",
      "execution_count": 38,
      "id": "70681113",
      "metadata": {
        "colab": {
          "base_uri": "https://localhost:8080/"
        },
        "id": "70681113",
        "outputId": "1b681ebd-e031-4371-d303-732faabcca17"
      },
      "outputs": [
        {
          "output_type": "stream",
          "name": "stdout",
          "text": [
            "Number of exclaimation in the URL: 0\n"
          ]
        }
      ],
      "source": [
        "def count_exclaimation(url):\n",
        "    return url.count(\"!\")\n",
        "\n",
        "exclaimation_count = count_exclaimation(url)\n",
        "print(\"Number of exclaimation in the URL:\", exclaimation_count)"
      ]
    },
    {
      "cell_type": "code",
      "execution_count": 39,
      "id": "bbd19915",
      "metadata": {
        "id": "bbd19915"
      },
      "outputs": [],
      "source": [
        "df[\"qty_exclaimation_url\"] = df[\"URL\"].apply(lambda x: count_exclaimation(x))"
      ]
    },
    {
      "cell_type": "code",
      "execution_count": 40,
      "id": "8ca5ddea",
      "metadata": {
        "colab": {
          "base_uri": "https://localhost:8080/"
        },
        "id": "8ca5ddea",
        "outputId": "87400e8e-af7a-4860-ae2a-4297a37e9abd"
      },
      "outputs": [
        {
          "output_type": "stream",
          "name": "stdout",
          "text": [
            "Number of spaces in the URL: 0\n"
          ]
        }
      ],
      "source": [
        "def count_spaces(url):\n",
        "    return url.count(\" \")\n",
        "\n",
        "spaces_count = count_spaces(url)\n",
        "print(\"Number of spaces in the URL:\", spaces_count)"
      ]
    },
    {
      "cell_type": "code",
      "execution_count": 41,
      "id": "2e6be920",
      "metadata": {
        "id": "2e6be920"
      },
      "outputs": [],
      "source": [
        "df[\"qty_spaces_url\"] = df[\"URL\"].apply(lambda x: count_spaces(x))"
      ]
    },
    {
      "cell_type": "code",
      "execution_count": 42,
      "id": "c99deb5f",
      "metadata": {
        "colab": {
          "base_uri": "https://localhost:8080/"
        },
        "id": "c99deb5f",
        "outputId": "99347ff7-4ce7-4493-fbbf-86ebf0793b87"
      },
      "outputs": [
        {
          "output_type": "stream",
          "name": "stdout",
          "text": [
            "Number of commas in the URL: 0\n"
          ]
        }
      ],
      "source": [
        "def count_commas(url):\n",
        "    return url.count(\",\")\n",
        "\n",
        "commas_count = count_commas(url)\n",
        "print(\"Number of commas in the URL:\", commas_count)"
      ]
    },
    {
      "cell_type": "code",
      "execution_count": 43,
      "id": "2d476546",
      "metadata": {
        "id": "2d476546"
      },
      "outputs": [],
      "source": [
        "df[\"qty_commas_url\"] = df[\"URL\"].apply(lambda x: count_commas(x))"
      ]
    },
    {
      "cell_type": "code",
      "execution_count": 44,
      "id": "04373eb2",
      "metadata": {
        "colab": {
          "base_uri": "https://localhost:8080/"
        },
        "id": "04373eb2",
        "outputId": "8e420c39-a9e2-4a2f-b510-4933e8e3fb70"
      },
      "outputs": [
        {
          "output_type": "stream",
          "name": "stdout",
          "text": [
            "Number of plus signs in the URL: 0\n"
          ]
        }
      ],
      "source": [
        "def count_plus_sign(url):\n",
        "    return url.count(\",\")\n",
        "\n",
        "plus_sign_count = count_plus_sign(url)\n",
        "print(\"Number of plus signs in the URL:\", plus_sign_count)"
      ]
    },
    {
      "cell_type": "code",
      "execution_count": 45,
      "id": "8b5ce759",
      "metadata": {
        "id": "8b5ce759"
      },
      "outputs": [],
      "source": [
        "df[\"qty_plus_sign_url\"] = df[\"URL\"].apply(lambda x: count_plus_sign(x))"
      ]
    },
    {
      "cell_type": "code",
      "execution_count": 46,
      "id": "1bae145f",
      "metadata": {
        "colab": {
          "base_uri": "https://localhost:8080/"
        },
        "id": "1bae145f",
        "outputId": "aab9978f-2a25-4e0e-d70d-07e982a93478"
      },
      "outputs": [
        {
          "output_type": "stream",
          "name": "stdout",
          "text": [
            "Number of asterisk in the URL: 0\n"
          ]
        }
      ],
      "source": [
        "def count_asterisk(url):\n",
        "    return url.count(\"*\")\n",
        "\n",
        "asterisk_count = count_asterisk(url)\n",
        "print(\"Number of asterisk in the URL:\", asterisk_count)"
      ]
    },
    {
      "cell_type": "code",
      "execution_count": 47,
      "id": "50803174",
      "metadata": {
        "id": "50803174"
      },
      "outputs": [],
      "source": [
        "df[\"qty_asterisk_url\"] = df[\"URL\"].apply(lambda x: count_asterisk(x))"
      ]
    },
    {
      "cell_type": "code",
      "execution_count": 48,
      "id": "aed94792",
      "metadata": {
        "colab": {
          "base_uri": "https://localhost:8080/"
        },
        "id": "aed94792",
        "outputId": "dc0feeac-a783-41c4-bc51-692168ba67cc"
      },
      "outputs": [
        {
          "output_type": "stream",
          "name": "stdout",
          "text": [
            "Number of hashtag in the URL: 0\n"
          ]
        }
      ],
      "source": [
        "def count_hashtags(url):\n",
        "    return url.count(\"#\")\n",
        "\n",
        "hashtag_count = count_hashtags(url)\n",
        "print(\"Number of hashtag in the URL:\", hashtag_count)"
      ]
    },
    {
      "cell_type": "code",
      "execution_count": 49,
      "id": "2cb7abc3",
      "metadata": {
        "id": "2cb7abc3"
      },
      "outputs": [],
      "source": [
        "df[\"qty_hashtags_url\"] = df[\"URL\"].apply(lambda x: count_hashtags(x))"
      ]
    },
    {
      "cell_type": "code",
      "execution_count": 50,
      "id": "7a7ea805",
      "metadata": {
        "colab": {
          "base_uri": "https://localhost:8080/"
        },
        "id": "7a7ea805",
        "outputId": "2a37189f-cd63-479a-d815-d269b47eebb3"
      },
      "outputs": [
        {
          "output_type": "stream",
          "name": "stdout",
          "text": [
            "Number of dollar signs in the URL: 0\n"
          ]
        }
      ],
      "source": [
        "def count_dollar_sign(url):\n",
        "    return url.count(\"$\")\n",
        "\n",
        "dollar_sign_count = count_dollar_sign(url)\n",
        "print(\"Number of dollar signs in the URL:\", dollar_sign_count)"
      ]
    },
    {
      "cell_type": "code",
      "execution_count": 51,
      "id": "ef941a6a",
      "metadata": {
        "id": "ef941a6a"
      },
      "outputs": [],
      "source": [
        "df[\"qty_dollar_sign_url\"] = df[\"URL\"].apply(lambda x: count_dollar_sign(x))"
      ]
    },
    {
      "cell_type": "code",
      "execution_count": 52,
      "id": "d75b74ac",
      "metadata": {
        "colab": {
          "base_uri": "https://localhost:8080/"
        },
        "id": "d75b74ac",
        "outputId": "68ad9725-d73c-44b6-8226-6e0be739dba0"
      },
      "outputs": [
        {
          "output_type": "stream",
          "name": "stdout",
          "text": [
            "Number of percentile signs in the URL: 0\n"
          ]
        }
      ],
      "source": [
        "def count_percentile_sign(url):\n",
        "    return url.count(\"%\")\n",
        "\n",
        "percentile_sign_count = count_percentile_sign(url)\n",
        "print(\"Number of percentile signs in the URL:\", percentile_sign_count)"
      ]
    },
    {
      "cell_type": "code",
      "execution_count": 53,
      "id": "cf8cdd61",
      "metadata": {
        "id": "cf8cdd61"
      },
      "outputs": [],
      "source": [
        "df[\"qty_percentile_sign_url\"] = df[\"URL\"].apply(lambda x: count_percentile_sign(x))"
      ]
    },
    {
      "cell_type": "code",
      "execution_count": 54,
      "id": "a176dccc",
      "metadata": {
        "colab": {
          "base_uri": "https://localhost:8080/"
        },
        "id": "a176dccc",
        "outputId": "2f1705d9-1307-45dd-d756-0282c39ac8fe"
      },
      "outputs": [
        {
          "output_type": "stream",
          "name": "stdout",
          "text": [
            "Lenght of the URL: 73\n"
          ]
        }
      ],
      "source": [
        "def url_len(url):\n",
        "    return len(url)\n",
        "\n",
        "length_url = url_len(url)\n",
        "print(\"Lenght of the URL:\", length_url)"
      ]
    },
    {
      "cell_type": "code",
      "execution_count": 55,
      "id": "d8bfdc07",
      "metadata": {
        "id": "d8bfdc07"
      },
      "outputs": [],
      "source": [
        "df[\"url_length\"] = df[\"URL\"].apply(lambda x: url_len(x))"
      ]
    },
    {
      "cell_type": "markdown",
      "id": "b2da3e2e",
      "metadata": {
        "id": "b2da3e2e"
      },
      "source": [
        "# Exploratory Data Analysis"
      ]
    },
    {
      "cell_type": "code",
      "execution_count": 56,
      "id": "a334a604",
      "metadata": {
        "colab": {
          "base_uri": "https://localhost:8080/"
        },
        "id": "a334a604",
        "outputId": "bf5b768f-3bfe-4c2c-dea0-3301adcd074d"
      },
      "outputs": [
        {
          "output_type": "execute_result",
          "data": {
            "text/plain": [
              "(549346, 23)"
            ]
          },
          "metadata": {},
          "execution_count": 56
        }
      ],
      "source": [
        "# number of rows and columns\n",
        "df.shape"
      ]
    },
    {
      "cell_type": "code",
      "execution_count": 57,
      "id": "8cf0730c",
      "metadata": {
        "colab": {
          "base_uri": "https://localhost:8080/"
        },
        "id": "8cf0730c",
        "outputId": "9cb22b93-893a-4522-eba5-1237c9adb365"
      },
      "outputs": [
        {
          "output_type": "execute_result",
          "data": {
            "text/plain": [
              "Index(['URL', 'Label', 'domain_name', 'path', 'query_string', 'fragment',\n",
              "       'qty_dot_url', 'qty_hyphen_url', 'qty_underline_url', 'qty_slash_url',\n",
              "       'qty_question_mark_url', 'qty_equal_sign_url', 'qty_at_sign_url',\n",
              "       'qty_and_sign_url', 'qty_exclaimation_url', 'qty_spaces_url',\n",
              "       'qty_commas_url', 'qty_plus_sign_url', 'qty_asterisk_url',\n",
              "       'qty_hashtags_url', 'qty_dollar_sign_url', 'qty_percentile_sign_url',\n",
              "       'url_length'],\n",
              "      dtype='object')"
            ]
          },
          "metadata": {},
          "execution_count": 57
        }
      ],
      "source": [
        "# column names\n",
        "\n",
        "df.columns"
      ]
    },
    {
      "cell_type": "code",
      "execution_count": 58,
      "id": "07f9e8df",
      "metadata": {
        "colab": {
          "base_uri": "https://localhost:8080/"
        },
        "id": "07f9e8df",
        "outputId": "ed4bb7ec-70c3-403c-85af-43fbce4e5b22"
      },
      "outputs": [
        {
          "output_type": "stream",
          "name": "stdout",
          "text": [
            "<class 'pandas.core.frame.DataFrame'>\n",
            "RangeIndex: 549346 entries, 0 to 549345\n",
            "Data columns (total 23 columns):\n",
            " #   Column                   Non-Null Count   Dtype \n",
            "---  ------                   --------------   ----- \n",
            " 0   URL                      549346 non-null  object\n",
            " 1   Label                    549346 non-null  object\n",
            " 2   domain_name              549345 non-null  object\n",
            " 3   path                     486386 non-null  object\n",
            " 4   query_string             81857 non-null   object\n",
            " 5   fragment                 508 non-null     object\n",
            " 6   qty_dot_url              549346 non-null  int64 \n",
            " 7   qty_hyphen_url           549346 non-null  int64 \n",
            " 8   qty_underline_url        549346 non-null  int64 \n",
            " 9   qty_slash_url            549346 non-null  int64 \n",
            " 10  qty_question_mark_url    549346 non-null  int64 \n",
            " 11  qty_equal_sign_url       549346 non-null  int64 \n",
            " 12  qty_at_sign_url          549346 non-null  int64 \n",
            " 13  qty_and_sign_url         549346 non-null  int64 \n",
            " 14  qty_exclaimation_url     549346 non-null  int64 \n",
            " 15  qty_spaces_url           549346 non-null  int64 \n",
            " 16  qty_commas_url           549346 non-null  int64 \n",
            " 17  qty_plus_sign_url        549346 non-null  int64 \n",
            " 18  qty_asterisk_url         549346 non-null  int64 \n",
            " 19  qty_hashtags_url         549346 non-null  int64 \n",
            " 20  qty_dollar_sign_url      549346 non-null  int64 \n",
            " 21  qty_percentile_sign_url  549346 non-null  int64 \n",
            " 22  url_length               549346 non-null  int64 \n",
            "dtypes: int64(17), object(6)\n",
            "memory usage: 96.4+ MB\n"
          ]
        }
      ],
      "source": [
        "# Basic info of all the columns in the dataset\n",
        "df.info()"
      ]
    },
    {
      "cell_type": "code",
      "execution_count": 59,
      "id": "8e72fea5",
      "metadata": {
        "colab": {
          "base_uri": "https://localhost:8080/",
          "height": 582
        },
        "id": "8e72fea5",
        "outputId": "fda77c90-0e7c-4d84-f5fe-1eab508a5343"
      },
      "outputs": [
        {
          "output_type": "execute_result",
          "data": {
            "text/plain": [
              "                            count       mean        std  min   25%   50%  \\\n",
              "qty_dot_url              549346.0   2.062316   1.514629  0.0   1.0   2.0   \n",
              "qty_hyphen_url           549346.0   1.126461   2.424343  0.0   0.0   0.0   \n",
              "qty_underline_url        549346.0   0.390845   1.317131  0.0   0.0   0.0   \n",
              "qty_slash_url            549346.0   2.445168   1.595707  0.0   1.0   2.0   \n",
              "qty_question_mark_url    549346.0   0.161390   0.512545  0.0   0.0   0.0   \n",
              "qty_equal_sign_url       549346.0   0.278629   0.956683  0.0   0.0   0.0   \n",
              "qty_at_sign_url          549346.0   0.003877   0.068101  0.0   0.0   0.0   \n",
              "qty_and_sign_url         549346.0   0.133437   0.808088  0.0   0.0   0.0   \n",
              "qty_exclaimation_url     549346.0   0.000907   0.043793  0.0   0.0   0.0   \n",
              "qty_spaces_url           549346.0   0.002397   0.062935  0.0   0.0   0.0   \n",
              "qty_commas_url           549346.0   0.003149   0.141792  0.0   0.0   0.0   \n",
              "qty_plus_sign_url        549346.0   0.003149   0.141792  0.0   0.0   0.0   \n",
              "qty_asterisk_url         549346.0   0.000362   0.036327  0.0   0.0   0.0   \n",
              "qty_hashtags_url         549346.0   0.001056   0.035374  0.0   0.0   0.0   \n",
              "qty_dollar_sign_url      549346.0   0.000441   0.030940  0.0   0.0   0.0   \n",
              "qty_percentile_sign_url  549346.0   0.104446   1.354473  0.0   0.0   0.0   \n",
              "url_length               549346.0  50.736288  44.418080  1.0  29.0  40.0   \n",
              "\n",
              "                          75%     max  \n",
              "qty_dot_url               2.0    37.0  \n",
              "qty_hyphen_url            1.0    42.0  \n",
              "qty_underline_url         0.0   200.0  \n",
              "qty_slash_url             3.0    35.0  \n",
              "qty_question_mark_url     0.0   166.0  \n",
              "qty_equal_sign_url        0.0    34.0  \n",
              "qty_at_sign_url           0.0    10.0  \n",
              "qty_and_sign_url          0.0    37.0  \n",
              "qty_exclaimation_url      0.0    10.0  \n",
              "qty_spaces_url            0.0    15.0  \n",
              "qty_commas_url            0.0    23.0  \n",
              "qty_plus_sign_url         0.0    23.0  \n",
              "qty_asterisk_url          0.0    14.0  \n",
              "qty_hashtags_url          0.0     6.0  \n",
              "qty_dollar_sign_url       0.0     5.0  \n",
              "qty_percentile_sign_url   0.0   134.0  \n",
              "url_length               59.0  2307.0  "
            ],
            "text/html": [
              "\n",
              "  <div id=\"df-553b1f89-9307-46d6-8afc-e39aa8abb175\">\n",
              "    <div class=\"colab-df-container\">\n",
              "      <div>\n",
              "<style scoped>\n",
              "    .dataframe tbody tr th:only-of-type {\n",
              "        vertical-align: middle;\n",
              "    }\n",
              "\n",
              "    .dataframe tbody tr th {\n",
              "        vertical-align: top;\n",
              "    }\n",
              "\n",
              "    .dataframe thead th {\n",
              "        text-align: right;\n",
              "    }\n",
              "</style>\n",
              "<table border=\"1\" class=\"dataframe\">\n",
              "  <thead>\n",
              "    <tr style=\"text-align: right;\">\n",
              "      <th></th>\n",
              "      <th>count</th>\n",
              "      <th>mean</th>\n",
              "      <th>std</th>\n",
              "      <th>min</th>\n",
              "      <th>25%</th>\n",
              "      <th>50%</th>\n",
              "      <th>75%</th>\n",
              "      <th>max</th>\n",
              "    </tr>\n",
              "  </thead>\n",
              "  <tbody>\n",
              "    <tr>\n",
              "      <th>qty_dot_url</th>\n",
              "      <td>549346.0</td>\n",
              "      <td>2.062316</td>\n",
              "      <td>1.514629</td>\n",
              "      <td>0.0</td>\n",
              "      <td>1.0</td>\n",
              "      <td>2.0</td>\n",
              "      <td>2.0</td>\n",
              "      <td>37.0</td>\n",
              "    </tr>\n",
              "    <tr>\n",
              "      <th>qty_hyphen_url</th>\n",
              "      <td>549346.0</td>\n",
              "      <td>1.126461</td>\n",
              "      <td>2.424343</td>\n",
              "      <td>0.0</td>\n",
              "      <td>0.0</td>\n",
              "      <td>0.0</td>\n",
              "      <td>1.0</td>\n",
              "      <td>42.0</td>\n",
              "    </tr>\n",
              "    <tr>\n",
              "      <th>qty_underline_url</th>\n",
              "      <td>549346.0</td>\n",
              "      <td>0.390845</td>\n",
              "      <td>1.317131</td>\n",
              "      <td>0.0</td>\n",
              "      <td>0.0</td>\n",
              "      <td>0.0</td>\n",
              "      <td>0.0</td>\n",
              "      <td>200.0</td>\n",
              "    </tr>\n",
              "    <tr>\n",
              "      <th>qty_slash_url</th>\n",
              "      <td>549346.0</td>\n",
              "      <td>2.445168</td>\n",
              "      <td>1.595707</td>\n",
              "      <td>0.0</td>\n",
              "      <td>1.0</td>\n",
              "      <td>2.0</td>\n",
              "      <td>3.0</td>\n",
              "      <td>35.0</td>\n",
              "    </tr>\n",
              "    <tr>\n",
              "      <th>qty_question_mark_url</th>\n",
              "      <td>549346.0</td>\n",
              "      <td>0.161390</td>\n",
              "      <td>0.512545</td>\n",
              "      <td>0.0</td>\n",
              "      <td>0.0</td>\n",
              "      <td>0.0</td>\n",
              "      <td>0.0</td>\n",
              "      <td>166.0</td>\n",
              "    </tr>\n",
              "    <tr>\n",
              "      <th>qty_equal_sign_url</th>\n",
              "      <td>549346.0</td>\n",
              "      <td>0.278629</td>\n",
              "      <td>0.956683</td>\n",
              "      <td>0.0</td>\n",
              "      <td>0.0</td>\n",
              "      <td>0.0</td>\n",
              "      <td>0.0</td>\n",
              "      <td>34.0</td>\n",
              "    </tr>\n",
              "    <tr>\n",
              "      <th>qty_at_sign_url</th>\n",
              "      <td>549346.0</td>\n",
              "      <td>0.003877</td>\n",
              "      <td>0.068101</td>\n",
              "      <td>0.0</td>\n",
              "      <td>0.0</td>\n",
              "      <td>0.0</td>\n",
              "      <td>0.0</td>\n",
              "      <td>10.0</td>\n",
              "    </tr>\n",
              "    <tr>\n",
              "      <th>qty_and_sign_url</th>\n",
              "      <td>549346.0</td>\n",
              "      <td>0.133437</td>\n",
              "      <td>0.808088</td>\n",
              "      <td>0.0</td>\n",
              "      <td>0.0</td>\n",
              "      <td>0.0</td>\n",
              "      <td>0.0</td>\n",
              "      <td>37.0</td>\n",
              "    </tr>\n",
              "    <tr>\n",
              "      <th>qty_exclaimation_url</th>\n",
              "      <td>549346.0</td>\n",
              "      <td>0.000907</td>\n",
              "      <td>0.043793</td>\n",
              "      <td>0.0</td>\n",
              "      <td>0.0</td>\n",
              "      <td>0.0</td>\n",
              "      <td>0.0</td>\n",
              "      <td>10.0</td>\n",
              "    </tr>\n",
              "    <tr>\n",
              "      <th>qty_spaces_url</th>\n",
              "      <td>549346.0</td>\n",
              "      <td>0.002397</td>\n",
              "      <td>0.062935</td>\n",
              "      <td>0.0</td>\n",
              "      <td>0.0</td>\n",
              "      <td>0.0</td>\n",
              "      <td>0.0</td>\n",
              "      <td>15.0</td>\n",
              "    </tr>\n",
              "    <tr>\n",
              "      <th>qty_commas_url</th>\n",
              "      <td>549346.0</td>\n",
              "      <td>0.003149</td>\n",
              "      <td>0.141792</td>\n",
              "      <td>0.0</td>\n",
              "      <td>0.0</td>\n",
              "      <td>0.0</td>\n",
              "      <td>0.0</td>\n",
              "      <td>23.0</td>\n",
              "    </tr>\n",
              "    <tr>\n",
              "      <th>qty_plus_sign_url</th>\n",
              "      <td>549346.0</td>\n",
              "      <td>0.003149</td>\n",
              "      <td>0.141792</td>\n",
              "      <td>0.0</td>\n",
              "      <td>0.0</td>\n",
              "      <td>0.0</td>\n",
              "      <td>0.0</td>\n",
              "      <td>23.0</td>\n",
              "    </tr>\n",
              "    <tr>\n",
              "      <th>qty_asterisk_url</th>\n",
              "      <td>549346.0</td>\n",
              "      <td>0.000362</td>\n",
              "      <td>0.036327</td>\n",
              "      <td>0.0</td>\n",
              "      <td>0.0</td>\n",
              "      <td>0.0</td>\n",
              "      <td>0.0</td>\n",
              "      <td>14.0</td>\n",
              "    </tr>\n",
              "    <tr>\n",
              "      <th>qty_hashtags_url</th>\n",
              "      <td>549346.0</td>\n",
              "      <td>0.001056</td>\n",
              "      <td>0.035374</td>\n",
              "      <td>0.0</td>\n",
              "      <td>0.0</td>\n",
              "      <td>0.0</td>\n",
              "      <td>0.0</td>\n",
              "      <td>6.0</td>\n",
              "    </tr>\n",
              "    <tr>\n",
              "      <th>qty_dollar_sign_url</th>\n",
              "      <td>549346.0</td>\n",
              "      <td>0.000441</td>\n",
              "      <td>0.030940</td>\n",
              "      <td>0.0</td>\n",
              "      <td>0.0</td>\n",
              "      <td>0.0</td>\n",
              "      <td>0.0</td>\n",
              "      <td>5.0</td>\n",
              "    </tr>\n",
              "    <tr>\n",
              "      <th>qty_percentile_sign_url</th>\n",
              "      <td>549346.0</td>\n",
              "      <td>0.104446</td>\n",
              "      <td>1.354473</td>\n",
              "      <td>0.0</td>\n",
              "      <td>0.0</td>\n",
              "      <td>0.0</td>\n",
              "      <td>0.0</td>\n",
              "      <td>134.0</td>\n",
              "    </tr>\n",
              "    <tr>\n",
              "      <th>url_length</th>\n",
              "      <td>549346.0</td>\n",
              "      <td>50.736288</td>\n",
              "      <td>44.418080</td>\n",
              "      <td>1.0</td>\n",
              "      <td>29.0</td>\n",
              "      <td>40.0</td>\n",
              "      <td>59.0</td>\n",
              "      <td>2307.0</td>\n",
              "    </tr>\n",
              "  </tbody>\n",
              "</table>\n",
              "</div>\n",
              "      <button class=\"colab-df-convert\" onclick=\"convertToInteractive('df-553b1f89-9307-46d6-8afc-e39aa8abb175')\"\n",
              "              title=\"Convert this dataframe to an interactive table.\"\n",
              "              style=\"display:none;\">\n",
              "        \n",
              "  <svg xmlns=\"http://www.w3.org/2000/svg\" height=\"24px\"viewBox=\"0 0 24 24\"\n",
              "       width=\"24px\">\n",
              "    <path d=\"M0 0h24v24H0V0z\" fill=\"none\"/>\n",
              "    <path d=\"M18.56 5.44l.94 2.06.94-2.06 2.06-.94-2.06-.94-.94-2.06-.94 2.06-2.06.94zm-11 1L8.5 8.5l.94-2.06 2.06-.94-2.06-.94L8.5 2.5l-.94 2.06-2.06.94zm10 10l.94 2.06.94-2.06 2.06-.94-2.06-.94-.94-2.06-.94 2.06-2.06.94z\"/><path d=\"M17.41 7.96l-1.37-1.37c-.4-.4-.92-.59-1.43-.59-.52 0-1.04.2-1.43.59L10.3 9.45l-7.72 7.72c-.78.78-.78 2.05 0 2.83L4 21.41c.39.39.9.59 1.41.59.51 0 1.02-.2 1.41-.59l7.78-7.78 2.81-2.81c.8-.78.8-2.07 0-2.86zM5.41 20L4 18.59l7.72-7.72 1.47 1.35L5.41 20z\"/>\n",
              "  </svg>\n",
              "      </button>\n",
              "      \n",
              "  <style>\n",
              "    .colab-df-container {\n",
              "      display:flex;\n",
              "      flex-wrap:wrap;\n",
              "      gap: 12px;\n",
              "    }\n",
              "\n",
              "    .colab-df-convert {\n",
              "      background-color: #E8F0FE;\n",
              "      border: none;\n",
              "      border-radius: 50%;\n",
              "      cursor: pointer;\n",
              "      display: none;\n",
              "      fill: #1967D2;\n",
              "      height: 32px;\n",
              "      padding: 0 0 0 0;\n",
              "      width: 32px;\n",
              "    }\n",
              "\n",
              "    .colab-df-convert:hover {\n",
              "      background-color: #E2EBFA;\n",
              "      box-shadow: 0px 1px 2px rgba(60, 64, 67, 0.3), 0px 1px 3px 1px rgba(60, 64, 67, 0.15);\n",
              "      fill: #174EA6;\n",
              "    }\n",
              "\n",
              "    [theme=dark] .colab-df-convert {\n",
              "      background-color: #3B4455;\n",
              "      fill: #D2E3FC;\n",
              "    }\n",
              "\n",
              "    [theme=dark] .colab-df-convert:hover {\n",
              "      background-color: #434B5C;\n",
              "      box-shadow: 0px 1px 3px 1px rgba(0, 0, 0, 0.15);\n",
              "      filter: drop-shadow(0px 1px 2px rgba(0, 0, 0, 0.3));\n",
              "      fill: #FFFFFF;\n",
              "    }\n",
              "  </style>\n",
              "\n",
              "      <script>\n",
              "        const buttonEl =\n",
              "          document.querySelector('#df-553b1f89-9307-46d6-8afc-e39aa8abb175 button.colab-df-convert');\n",
              "        buttonEl.style.display =\n",
              "          google.colab.kernel.accessAllowed ? 'block' : 'none';\n",
              "\n",
              "        async function convertToInteractive(key) {\n",
              "          const element = document.querySelector('#df-553b1f89-9307-46d6-8afc-e39aa8abb175');\n",
              "          const dataTable =\n",
              "            await google.colab.kernel.invokeFunction('convertToInteractive',\n",
              "                                                     [key], {});\n",
              "          if (!dataTable) return;\n",
              "\n",
              "          const docLinkHtml = 'Like what you see? Visit the ' +\n",
              "            '<a target=\"_blank\" href=https://colab.research.google.com/notebooks/data_table.ipynb>data table notebook</a>'\n",
              "            + ' to learn more about interactive tables.';\n",
              "          element.innerHTML = '';\n",
              "          dataTable['output_type'] = 'display_data';\n",
              "          await google.colab.output.renderOutput(dataTable, element);\n",
              "          const docLink = document.createElement('div');\n",
              "          docLink.innerHTML = docLinkHtml;\n",
              "          element.appendChild(docLink);\n",
              "        }\n",
              "      </script>\n",
              "    </div>\n",
              "  </div>\n",
              "  "
            ]
          },
          "metadata": {},
          "execution_count": 59
        }
      ],
      "source": [
        "#general statistics of the dataset\n",
        "\n",
        "df.describe().T"
      ]
    },
    {
      "cell_type": "code",
      "execution_count": 60,
      "id": "5f7f0c60",
      "metadata": {
        "colab": {
          "base_uri": "https://localhost:8080/"
        },
        "id": "5f7f0c60",
        "outputId": "314fc36e-9ee9-45af-8d38-97c919e12bbe"
      },
      "outputs": [
        {
          "output_type": "execute_result",
          "data": {
            "text/plain": [
              "good    392924\n",
              "bad     156422\n",
              "Name: Label, dtype: int64"
            ]
          },
          "metadata": {},
          "execution_count": 60
        }
      ],
      "source": [
        "# unique values and their count in the target variable\n",
        "\n",
        "df[\"Label\"].value_counts()"
      ]
    },
    {
      "cell_type": "code",
      "execution_count": 61,
      "id": "fc68b536",
      "metadata": {
        "colab": {
          "base_uri": "https://localhost:8080/"
        },
        "id": "fc68b536",
        "outputId": "45235d5f-268e-4ecc-9d5d-767f1ff46673"
      },
      "outputs": [
        {
          "output_type": "execute_result",
          "data": {
            "text/plain": [
              "URL                             0\n",
              "Label                           0\n",
              "domain_name                     1\n",
              "path                        62960\n",
              "query_string               467489\n",
              "fragment                   548838\n",
              "qty_dot_url                     0\n",
              "qty_hyphen_url                  0\n",
              "qty_underline_url               0\n",
              "qty_slash_url                   0\n",
              "qty_question_mark_url           0\n",
              "qty_equal_sign_url              0\n",
              "qty_at_sign_url                 0\n",
              "qty_and_sign_url                0\n",
              "qty_exclaimation_url            0\n",
              "qty_spaces_url                  0\n",
              "qty_commas_url                  0\n",
              "qty_plus_sign_url               0\n",
              "qty_asterisk_url                0\n",
              "qty_hashtags_url                0\n",
              "qty_dollar_sign_url             0\n",
              "qty_percentile_sign_url         0\n",
              "url_length                      0\n",
              "dtype: int64"
            ]
          },
          "metadata": {},
          "execution_count": 61
        }
      ],
      "source": [
        "# checking null values\n",
        "\n",
        "df.isnull().sum()"
      ]
    },
    {
      "cell_type": "code",
      "execution_count": 62,
      "id": "f77c3521",
      "metadata": {
        "colab": {
          "base_uri": "https://localhost:8080/",
          "height": 309
        },
        "id": "f77c3521",
        "outputId": "d7d7e78b-1e38-4e24-af10-debab33e614b"
      },
      "outputs": [
        {
          "output_type": "display_data",
          "data": {
            "text/plain": [
              "<Figure size 1080x360 with 1 Axes>"
            ],
            "image/png": "[encoded data removed]"
          },
          "metadata": {
            "needs_background": "light"
          }
        }
      ],
      "source": [
        "# Plotting null values in a graph\n",
        "\n",
        "fig, ax = plt.subplots(figsize = (15,5))\n",
        "\n",
        "missing = df.isna().sum().div(df.shape[0]).mul(100).to_frame().sort_values(by=0, ascending = False)\n",
        "\n",
        "ax.bar(missing.index, missing.values.T[0])\n",
        "plt.xticks([])\n",
        "plt.ylabel(\"Percentage missing\")\n",
        "plt.show()"
      ]
    },
    {
      "cell_type": "code",
      "execution_count": 63,
      "id": "25e73a1d",
      "metadata": {
        "colab": {
          "base_uri": "https://localhost:8080/",
          "height": 112
        },
        "id": "25e73a1d",
        "outputId": "97fbbc3f-9d93-418c-d10e-d3b7ae08eff2"
      },
      "outputs": [
        {
          "output_type": "execute_result",
          "data": {
            "text/plain": [
              "                      0\n",
              "fragment      99.907526\n",
              "query_string  85.099191"
            ],
            "text/html": [
              "\n",
              "  <div id=\"df-09c10236-3a7a-444e-b4e9-d7e17fcc23b6\">\n",
              "    <div class=\"colab-df-container\">\n",
              "      <div>\n",
              "<style scoped>\n",
              "    .dataframe tbody tr th:only-of-type {\n",
              "        vertical-align: middle;\n",
              "    }\n",
              "\n",
              "    .dataframe tbody tr th {\n",
              "        vertical-align: top;\n",
              "    }\n",
              "\n",
              "    .dataframe thead th {\n",
              "        text-align: right;\n",
              "    }\n",
              "</style>\n",
              "<table border=\"1\" class=\"dataframe\">\n",
              "  <thead>\n",
              "    <tr style=\"text-align: right;\">\n",
              "      <th></th>\n",
              "      <th>0</th>\n",
              "    </tr>\n",
              "  </thead>\n",
              "  <tbody>\n",
              "    <tr>\n",
              "      <th>fragment</th>\n",
              "      <td>99.907526</td>\n",
              "    </tr>\n",
              "    <tr>\n",
              "      <th>query_string</th>\n",
              "      <td>85.099191</td>\n",
              "    </tr>\n",
              "  </tbody>\n",
              "</table>\n",
              "</div>\n",
              "      <button class=\"colab-df-convert\" onclick=\"convertToInteractive('df-09c10236-3a7a-444e-b4e9-d7e17fcc23b6')\"\n",
              "              title=\"Convert this dataframe to an interactive table.\"\n",
              "              style=\"display:none;\">\n",
              "        \n",
              "  <svg xmlns=\"http://www.w3.org/2000/svg\" height=\"24px\"viewBox=\"0 0 24 24\"\n",
              "       width=\"24px\">\n",
              "    <path d=\"M0 0h24v24H0V0z\" fill=\"none\"/>\n",
              "    <path d=\"M18.56 5.44l.94 2.06.94-2.06 2.06-.94-2.06-.94-.94-2.06-.94 2.06-2.06.94zm-11 1L8.5 8.5l.94-2.06 2.06-.94-2.06-.94L8.5 2.5l-.94 2.06-2.06.94zm10 10l.94 2.06.94-2.06 2.06-.94-2.06-.94-.94-2.06-.94 2.06-2.06.94z\"/><path d=\"M17.41 7.96l-1.37-1.37c-.4-.4-.92-.59-1.43-.59-.52 0-1.04.2-1.43.59L10.3 9.45l-7.72 7.72c-.78.78-.78 2.05 0 2.83L4 21.41c.39.39.9.59 1.41.59.51 0 1.02-.2 1.41-.59l7.78-7.78 2.81-2.81c.8-.78.8-2.07 0-2.86zM5.41 20L4 18.59l7.72-7.72 1.47 1.35L5.41 20z\"/>\n",
              "  </svg>\n",
              "      </button>\n",
              "      \n",
              "  <style>\n",
              "    .colab-df-container {\n",
              "      display:flex;\n",
              "      flex-wrap:wrap;\n",
              "      gap: 12px;\n",
              "    }\n",
              "\n",
              "    .colab-df-convert {\n",
              "      background-color: #E8F0FE;\n",
              "      border: none;\n",
              "      border-radius: 50%;\n",
              "      cursor: pointer;\n",
              "      display: none;\n",
              "      fill: #1967D2;\n",
              "      height: 32px;\n",
              "      padding: 0 0 0 0;\n",
              "      width: 32px;\n",
              "    }\n",
              "\n",
              "    .colab-df-convert:hover {\n",
              "      background-color: #E2EBFA;\n",
              "      box-shadow: 0px 1px 2px rgba(60, 64, 67, 0.3), 0px 1px 3px 1px rgba(60, 64, 67, 0.15);\n",
              "      fill: #174EA6;\n",
              "    }\n",
              "\n",
              "    [theme=dark] .colab-df-convert {\n",
              "      background-color: #3B4455;\n",
              "      fill: #D2E3FC;\n",
              "    }\n",
              "\n",
              "    [theme=dark] .colab-df-convert:hover {\n",
              "      background-color: #434B5C;\n",
              "      box-shadow: 0px 1px 3px 1px rgba(0, 0, 0, 0.15);\n",
              "      filter: drop-shadow(0px 1px 2px rgba(0, 0, 0, 0.3));\n",
              "      fill: #FFFFFF;\n",
              "    }\n",
              "  </style>\n",
              "\n",
              "      <script>\n",
              "        const buttonEl =\n",
              "          document.querySelector('#df-09c10236-3a7a-444e-b4e9-d7e17fcc23b6 button.colab-df-convert');\n",
              "        buttonEl.style.display =\n",
              "          google.colab.kernel.accessAllowed ? 'block' : 'none';\n",
              "\n",
              "        async function convertToInteractive(key) {\n",
              "          const element = document.querySelector('#df-09c10236-3a7a-444e-b4e9-d7e17fcc23b6');\n",
              "          const dataTable =\n",
              "            await google.colab.kernel.invokeFunction('convertToInteractive',\n",
              "                                                     [key], {});\n",
              "          if (!dataTable) return;\n",
              "\n",
              "          const docLinkHtml = 'Like what you see? Visit the ' +\n",
              "            '<a target=\"_blank\" href=https://colab.research.google.com/notebooks/data_table.ipynb>data table notebook</a>'\n",
              "            + ' to learn more about interactive tables.';\n",
              "          element.innerHTML = '';\n",
              "          dataTable['output_type'] = 'display_data';\n",
              "          await google.colab.output.renderOutput(dataTable, element);\n",
              "          const docLink = document.createElement('div');\n",
              "          docLink.innerHTML = docLinkHtml;\n",
              "          element.appendChild(docLink);\n",
              "        }\n",
              "      </script>\n",
              "    </div>\n",
              "  </div>\n",
              "  "
            ]
          },
          "metadata": {},
          "execution_count": 63
        }
      ],
      "source": [
        "# columns with more than 75% null values\n",
        "\n",
        "dropcols = missing[missing[0]>75]\n",
        "dropcols\n"
      ]
    },
    {
      "cell_type": "code",
      "execution_count": 64,
      "id": "af8d3db8",
      "metadata": {
        "id": "af8d3db8"
      },
      "outputs": [],
      "source": [
        "# dropping columns with more than 75% null values\n",
        "\n",
        "df.drop(list(dropcols.index), axis = 1, inplace = True)"
      ]
    },
    {
      "cell_type": "code",
      "execution_count": 65,
      "id": "1a8e75bd",
      "metadata": {
        "colab": {
          "base_uri": "https://localhost:8080/"
        },
        "id": "1a8e75bd",
        "outputId": "dfec5984-00e3-4995-884e-c604547fda30"
      },
      "outputs": [
        {
          "output_type": "execute_result",
          "data": {
            "text/plain": [
              "URL                            0\n",
              "Label                          0\n",
              "domain_name                    1\n",
              "path                       62960\n",
              "qty_dot_url                    0\n",
              "qty_hyphen_url                 0\n",
              "qty_underline_url              0\n",
              "qty_slash_url                  0\n",
              "qty_question_mark_url          0\n",
              "qty_equal_sign_url             0\n",
              "qty_at_sign_url                0\n",
              "qty_and_sign_url               0\n",
              "qty_exclaimation_url           0\n",
              "qty_spaces_url                 0\n",
              "qty_commas_url                 0\n",
              "qty_plus_sign_url              0\n",
              "qty_asterisk_url               0\n",
              "qty_hashtags_url               0\n",
              "qty_dollar_sign_url            0\n",
              "qty_percentile_sign_url        0\n",
              "url_length                     0\n",
              "dtype: int64"
            ]
          },
          "metadata": {},
          "execution_count": 65
        }
      ],
      "source": [
        "# checking null values after dropping the columns\n",
        "\n",
        "df.isnull().sum()"
      ]
    },
    {
      "cell_type": "code",
      "execution_count": 66,
      "id": "2894e2c8",
      "metadata": {
        "colab": {
          "base_uri": "https://localhost:8080/"
        },
        "id": "2894e2c8",
        "outputId": "8823182a-a5c1-427e-841b-4f0ccdd7266d"
      },
      "outputs": [
        {
          "output_type": "execute_result",
          "data": {
            "text/plain": [
              "(549346, 21)"
            ]
          },
          "metadata": {},
          "execution_count": 66
        }
      ],
      "source": [
        "# number of rows and columns after dropping the columns with high null percentage\n",
        "df.shape"
      ]
    },
    {
      "cell_type": "code",
      "execution_count": 67,
      "id": "155b687b",
      "metadata": {
        "colab": {
          "base_uri": "https://localhost:8080/"
        },
        "id": "155b687b",
        "outputId": "4783e38c-4078-429b-a09d-1b74d4aa2746"
      },
      "outputs": [
        {
          "output_type": "stream",
          "name": "stdout",
          "text": [
            "percentage of data missing from the dataset:0.5457658483256195%\n"
          ]
        }
      ],
      "source": [
        "#calculating the percentage of data that is missing in the dataset\n",
        "\n",
        "missing_value_counts = df.isnull().sum()\n",
        "total_cells = np.product(df.shape)\n",
        "total_missing = missing_value_counts.sum()\n",
        "\n",
        "\n",
        "print(f\"percentage of data missing from the dataset:{(total_missing/total_cells)* 100}%\")"
      ]
    },
    {
      "cell_type": "code",
      "execution_count": 68,
      "id": "520b28db",
      "metadata": {
        "colab": {
          "base_uri": "https://localhost:8080/",
          "height": 386
        },
        "id": "520b28db",
        "outputId": "7f1460cf-6f7b-44aa-ee87-bf6a29087966"
      },
      "outputs": [
        {
          "output_type": "stream",
          "name": "stdout",
          "text": [
            "Positive: 392924, Negative: 156422\n"
          ]
        },
        {
          "output_type": "display_data",
          "data": {
            "text/plain": [
              "<Figure size 360x360 with 1 Axes>"
            ],
            "image/png": "[encoded data removed]"
          },
          "metadata": {
            "needs_background": "light"
          }
        }
      ],
      "source": [
        "# Visualizing unique values in the target variable\n",
        "\n",
        "bad = df[df['Label']=='bad'].shape[0]\n",
        "good = df[df['Label']=='good'].shape[0]\n",
        "print(\"Positive: \" + str(good) + \", Negative: \" + str(bad))\n",
        "sns.catplot(data=df, x=\"Label\", kind=\"count\", palette=\"winter_r\", alpha=.9)\n",
        "plt.show()"
      ]
    },
    {
      "cell_type": "markdown",
      "id": "306ccae9",
      "metadata": {
        "id": "306ccae9"
      },
      "source": [
        "**Report**\n",
        "\n",
        "* The target class is very imbalanced\n",
        "* Class imbalance is a scenario that arises when we have unequal distribution of class in a dataset i.e. the no. of data points in the positive class (majority class) is very large compared to that of the negetive class (minority class)\n",
        "* If the imbalanced data is not treated beforehand, then this will degrade the performance of the classifier model.\n",
        "* Hence we should handle imbalanced data with certain methods."
      ]
    },
    {
      "cell_type": "markdown",
      "id": "8f5f76df",
      "metadata": {
        "id": "8f5f76df"
      },
      "source": [
        "**How to handle Imbalance Data ?**\n",
        "\n",
        "* Resampling data is one of the most commonly preferred approaches to deal with an imbalanced dataset. There are broadly two types of methods for this i) Undersampling ii) Oversampling. In most cases, oversampling is preferred over undersampling techniques. The reason being, in undersampling we tend to remove instances from data that may be carrying some important information.\n",
        "* **SMOTE**: Synthetic Minority Oversampling Technique\n",
        "* SMOTE is an oversampling technique where the synthetic samples are generated for the minority class.\n",
        "* Hybridization techniques involve combining both undersampling and oversampling techniques. This is done to optimize the performance of classifier models for the samples created as part of these techniques.\n",
        "* It only duplicates the data and it won't add and new information. Hence we look at some different techniques."
      ]
    },
    {
      "cell_type": "code",
      "execution_count": 69,
      "id": "345ce95c",
      "metadata": {
        "colab": {
          "base_uri": "https://localhost:8080/",
          "height": 646
        },
        "id": "345ce95c",
        "outputId": "d25e3e5f-9da6-42e2-a655-f61ab97bbace"
      },
      "outputs": [
        {
          "output_type": "execute_result",
          "data": {
            "text/plain": [
              "                         qty_dot_url  qty_hyphen_url  qty_underline_url  \\\n",
              "qty_dot_url                 1.000000       -0.024473           0.060358   \n",
              "qty_hyphen_url             -0.024473        1.000000          -0.017964   \n",
              "qty_underline_url           0.060358       -0.017964           1.000000   \n",
              "qty_slash_url               0.194320        0.215482           0.068651   \n",
              "qty_question_mark_url       0.227993       -0.034459           0.038028   \n",
              "qty_equal_sign_url          0.323723        0.005052           0.126237   \n",
              "qty_at_sign_url             0.096345       -0.010225           0.003237   \n",
              "qty_and_sign_url            0.341085        0.024501           0.117777   \n",
              "qty_exclaimation_url        0.000658        0.005436           0.012035   \n",
              "qty_spaces_url              0.001183       -0.012307          -0.004672   \n",
              "qty_commas_url              0.031295        0.000811           0.006071   \n",
              "qty_plus_sign_url           0.031295        0.000811           0.006071   \n",
              "qty_asterisk_url            0.002832        0.010993           0.031282   \n",
              "qty_hashtags_url            0.102432       -0.006949           0.002434   \n",
              "qty_dollar_sign_url         0.003959       -0.000743           0.002833   \n",
              "qty_percentile_sign_url     0.163175        0.060699           0.155773   \n",
              "url_length                  0.491315        0.419844           0.297745   \n",
              "\n",
              "                         qty_slash_url  qty_question_mark_url  \\\n",
              "qty_dot_url                   0.194320               0.227993   \n",
              "qty_hyphen_url                0.215482              -0.034459   \n",
              "qty_underline_url             0.068651               0.038028   \n",
              "qty_slash_url                 1.000000               0.061881   \n",
              "qty_question_mark_url         0.061881               1.000000   \n",
              "qty_equal_sign_url            0.056498               0.531775   \n",
              "qty_at_sign_url               0.045242               0.083924   \n",
              "qty_and_sign_url              0.057487               0.332128   \n",
              "qty_exclaimation_url          0.013293               0.009134   \n",
              "qty_spaces_url               -0.010627               0.003186   \n",
              "qty_commas_url                0.019187               0.013421   \n",
              "qty_plus_sign_url             0.019187               0.013421   \n",
              "qty_asterisk_url              0.000390               0.010743   \n",
              "qty_hashtags_url              0.016828               0.045221   \n",
              "qty_dollar_sign_url           0.011661               0.013079   \n",
              "qty_percentile_sign_url       0.015067               0.097671   \n",
              "url_length                    0.384739               0.285803   \n",
              "\n",
              "                         qty_equal_sign_url  qty_at_sign_url  \\\n",
              "qty_dot_url                        0.323723         0.096345   \n",
              "qty_hyphen_url                     0.005052        -0.010225   \n",
              "qty_underline_url                  0.126237         0.003237   \n",
              "qty_slash_url                      0.056498         0.045242   \n",
              "qty_question_mark_url              0.531775         0.083924   \n",
              "qty_equal_sign_url                 1.000000         0.098337   \n",
              "qty_at_sign_url                    0.098337         1.000000   \n",
              "qty_and_sign_url                   0.886667         0.112128   \n",
              "qty_exclaimation_url               0.009005         0.038496   \n",
              "qty_spaces_url                     0.004778         0.013121   \n",
              "qty_commas_url                     0.012788         0.001186   \n",
              "qty_plus_sign_url                  0.012788         0.001186   \n",
              "qty_asterisk_url                   0.021138         0.028865   \n",
              "qty_hashtags_url                   0.113036         0.023237   \n",
              "qty_dollar_sign_url                0.017378         0.057072   \n",
              "qty_percentile_sign_url            0.277156         0.006168   \n",
              "url_length                         0.541395         0.078875   \n",
              "\n",
              "                         qty_and_sign_url  qty_exclaimation_url  \\\n",
              "qty_dot_url                      0.341085              0.000658   \n",
              "qty_hyphen_url                   0.024501              0.005436   \n",
              "qty_underline_url                0.117777              0.012035   \n",
              "qty_slash_url                    0.057487              0.013293   \n",
              "qty_question_mark_url            0.332128              0.009134   \n",
              "qty_equal_sign_url               0.886667              0.009005   \n",
              "qty_at_sign_url                  0.112128              0.038496   \n",
              "qty_and_sign_url                 1.000000              0.014791   \n",
              "qty_exclaimation_url             0.014791              1.000000   \n",
              "qty_spaces_url                   0.008850              0.042143   \n",
              "qty_commas_url                   0.006945              0.004231   \n",
              "qty_plus_sign_url                0.006945              0.004231   \n",
              "qty_asterisk_url                 0.022228              0.101633   \n",
              "qty_hashtags_url                 0.169624              0.078113   \n",
              "qty_dollar_sign_url              0.015195              0.111212   \n",
              "qty_percentile_sign_url          0.277501              0.018505   \n",
              "url_length                       0.512340              0.025169   \n",
              "\n",
              "                         qty_spaces_url  qty_commas_url  qty_plus_sign_url  \\\n",
              "qty_dot_url                    0.001183        0.031295           0.031295   \n",
              "qty_hyphen_url                -0.012307        0.000811           0.000811   \n",
              "qty_underline_url             -0.004672        0.006071           0.006071   \n",
              "qty_slash_url                 -0.010627        0.019187           0.019187   \n",
              "qty_question_mark_url          0.003186        0.013421           0.013421   \n",
              "qty_equal_sign_url             0.004778        0.012788           0.012788   \n",
              "qty_at_sign_url                0.013121        0.001186           0.001186   \n",
              "qty_and_sign_url               0.008850        0.006945           0.006945   \n",
              "qty_exclaimation_url           0.042143        0.004231           0.004231   \n",
              "qty_spaces_url                 1.000000        0.003642           0.003642   \n",
              "qty_commas_url                 0.003642        1.000000           1.000000   \n",
              "qty_plus_sign_url              0.003642        1.000000           1.000000   \n",
              "qty_asterisk_url               0.017137        0.001192           0.001192   \n",
              "qty_hashtags_url               0.145228        0.008047           0.008047   \n",
              "qty_dollar_sign_url            0.031242        0.006738           0.006738   \n",
              "qty_percentile_sign_url        0.001739        0.004439           0.004439   \n",
              "url_length                     0.001470        0.026983           0.026983   \n",
              "\n",
              "                         qty_asterisk_url  qty_hashtags_url  \\\n",
              "qty_dot_url                      0.002832          0.102432   \n",
              "qty_hyphen_url                   0.010993         -0.006949   \n",
              "qty_underline_url                0.031282          0.002434   \n",
              "qty_slash_url                    0.000390          0.016828   \n",
              "qty_question_mark_url            0.010743          0.045221   \n",
              "qty_equal_sign_url               0.021138          0.113036   \n",
              "qty_at_sign_url                  0.028865          0.023237   \n",
              "qty_and_sign_url                 0.022228          0.169624   \n",
              "qty_exclaimation_url             0.101633          0.078113   \n",
              "qty_spaces_url                   0.017137          0.145228   \n",
              "qty_commas_url                   0.001192          0.008047   \n",
              "qty_plus_sign_url                0.001192          0.008047   \n",
              "qty_asterisk_url                 1.000000          0.036534   \n",
              "qty_hashtags_url                 0.036534          1.000000   \n",
              "qty_dollar_sign_url              0.077598          0.046145   \n",
              "qty_percentile_sign_url          0.011033          0.009286   \n",
              "url_length                       0.025959          0.065786   \n",
              "\n",
              "                         qty_dollar_sign_url  qty_percentile_sign_url  \\\n",
              "qty_dot_url                         0.003959                 0.163175   \n",
              "qty_hyphen_url                     -0.000743                 0.060699   \n",
              "qty_underline_url                   0.002833                 0.155773   \n",
              "qty_slash_url                       0.011661                 0.015067   \n",
              "qty_question_mark_url               0.013079                 0.097671   \n",
              "qty_equal_sign_url                  0.017378                 0.277156   \n",
              "qty_at_sign_url                     0.057072                 0.006168   \n",
              "qty_and_sign_url                    0.015195                 0.277501   \n",
              "qty_exclaimation_url                0.111212                 0.018505   \n",
              "qty_spaces_url                      0.031242                 0.001739   \n",
              "qty_commas_url                      0.006738                 0.004439   \n",
              "qty_plus_sign_url                   0.006738                 0.004439   \n",
              "qty_asterisk_url                    0.077598                 0.011033   \n",
              "qty_hashtags_url                    0.046145                 0.009286   \n",
              "qty_dollar_sign_url                 1.000000                 0.011108   \n",
              "qty_percentile_sign_url             0.011108                 1.000000   \n",
              "url_length                          0.025403                 0.480368   \n",
              "\n",
              "                         url_length  \n",
              "qty_dot_url                0.491315  \n",
              "qty_hyphen_url             0.419844  \n",
              "qty_underline_url          0.297745  \n",
              "qty_slash_url              0.384739  \n",
              "qty_question_mark_url      0.285803  \n",
              "qty_equal_sign_url         0.541395  \n",
              "qty_at_sign_url            0.078875  \n",
              "qty_and_sign_url           0.512340  \n",
              "qty_exclaimation_url       0.025169  \n",
              "qty_spaces_url             0.001470  \n",
              "qty_commas_url             0.026983  \n",
              "qty_plus_sign_url          0.026983  \n",
              "qty_asterisk_url           0.025959  \n",
              "qty_hashtags_url           0.065786  \n",
              "qty_dollar_sign_url        0.025403  \n",
              "qty_percentile_sign_url    0.480368  \n",
              "url_length                 1.000000  "
            ],
            "text/html": [
              "\n",
              "  <div id=\"df-78cbc67b-3dcf-413e-bab6-908ff2f9adba\">\n",
              "    <div class=\"colab-df-container\">\n",
              "      <div>\n",
              "<style scoped>\n",
              "    .dataframe tbody tr th:only-of-type {\n",
              "        vertical-align: middle;\n",
              "    }\n",
              "\n",
              "    .dataframe tbody tr th {\n",
              "        vertical-align: top;\n",
              "    }\n",
              "\n",
              "    .dataframe thead th {\n",
              "        text-align: right;\n",
              "    }\n",
              "</style>\n",
              "<table border=\"1\" class=\"dataframe\">\n",
              "  <thead>\n",
              "    <tr style=\"text-align: right;\">\n",
              "      <th></th>\n",
              "      <th>qty_dot_url</th>\n",
              "      <th>qty_hyphen_url</th>\n",
              "      <th>qty_underline_url</th>\n",
              "      <th>qty_slash_url</th>\n",
              "      <th>qty_question_mark_url</th>\n",
              "      <th>qty_equal_sign_url</th>\n",
              "      <th>qty_at_sign_url</th>\n",
              "      <th>qty_and_sign_url</th>\n",
              "      <th>qty_exclaimation_url</th>\n",
              "      <th>qty_spaces_url</th>\n",
              "      <th>qty_commas_url</th>\n",
              "      <th>qty_plus_sign_url</th>\n",
              "      <th>qty_asterisk_url</th>\n",
              "      <th>qty_hashtags_url</th>\n",
              "      <th>qty_dollar_sign_url</th>\n",
              "      <th>qty_percentile_sign_url</th>\n",
              "      <th>url_length</th>\n",
              "    </tr>\n",
              "  </thead>\n",
              "  <tbody>\n",
              "    <tr>\n",
              "      <th>qty_dot_url</th>\n",
              "      <td>1.000000</td>\n",
              "      <td>-0.024473</td>\n",
              "      <td>0.060358</td>\n",
              "      <td>0.194320</td>\n",
              "      <td>0.227993</td>\n",
              "      <td>0.323723</td>\n",
              "      <td>0.096345</td>\n",
              "      <td>0.341085</td>\n",
              "      <td>0.000658</td>\n",
              "      <td>0.001183</td>\n",
              "      <td>0.031295</td>\n",
              "      <td>0.031295</td>\n",
              "      <td>0.002832</td>\n",
              "      <td>0.102432</td>\n",
              "      <td>0.003959</td>\n",
              "      <td>0.163175</td>\n",
              "      <td>0.491315</td>\n",
              "    </tr>\n",
              "    <tr>\n",
              "      <th>qty_hyphen_url</th>\n",
              "      <td>-0.024473</td>\n",
              "      <td>1.000000</td>\n",
              "      <td>-0.017964</td>\n",
              "      <td>0.215482</td>\n",
              "      <td>-0.034459</td>\n",
              "      <td>0.005052</td>\n",
              "      <td>-0.010225</td>\n",
              "      <td>0.024501</td>\n",
              "      <td>0.005436</td>\n",
              "      <td>-0.012307</td>\n",
              "      <td>0.000811</td>\n",
              "      <td>0.000811</td>\n",
              "      <td>0.010993</td>\n",
              "      <td>-0.006949</td>\n",
              "      <td>-0.000743</td>\n",
              "      <td>0.060699</td>\n",
              "      <td>0.419844</td>\n",
              "    </tr>\n",
              "    <tr>\n",
              "      <th>qty_underline_url</th>\n",
              "      <td>0.060358</td>\n",
              "      <td>-0.017964</td>\n",
              "      <td>1.000000</td>\n",
              "      <td>0.068651</td>\n",
              "      <td>0.038028</td>\n",
              "      <td>0.126237</td>\n",
              "      <td>0.003237</td>\n",
              "      <td>0.117777</td>\n",
              "      <td>0.012035</td>\n",
              "      <td>-0.004672</td>\n",
              "      <td>0.006071</td>\n",
              "      <td>0.006071</td>\n",
              "      <td>0.031282</td>\n",
              "      <td>0.002434</td>\n",
              "      <td>0.002833</td>\n",
              "      <td>0.155773</td>\n",
              "      <td>0.297745</td>\n",
              "    </tr>\n",
              "    <tr>\n",
              "      <th>qty_slash_url</th>\n",
              "      <td>0.194320</td>\n",
              "      <td>0.215482</td>\n",
              "      <td>0.068651</td>\n",
              "      <td>1.000000</td>\n",
              "      <td>0.061881</td>\n",
              "      <td>0.056498</td>\n",
              "      <td>0.045242</td>\n",
              "      <td>0.057487</td>\n",
              "      <td>0.013293</td>\n",
              "      <td>-0.010627</td>\n",
              "      <td>0.019187</td>\n",
              "      <td>0.019187</td>\n",
              "      <td>0.000390</td>\n",
              "      <td>0.016828</td>\n",
              "      <td>0.011661</td>\n",
              "      <td>0.015067</td>\n",
              "      <td>0.384739</td>\n",
              "    </tr>\n",
              "    <tr>\n",
              "      <th>qty_question_mark_url</th>\n",
              "      <td>0.227993</td>\n",
              "      <td>-0.034459</td>\n",
              "      <td>0.038028</td>\n",
              "      <td>0.061881</td>\n",
              "      <td>1.000000</td>\n",
              "      <td>0.531775</td>\n",
              "      <td>0.083924</td>\n",
              "      <td>0.332128</td>\n",
              "      <td>0.009134</td>\n",
              "      <td>0.003186</td>\n",
              "      <td>0.013421</td>\n",
              "      <td>0.013421</td>\n",
              "      <td>0.010743</td>\n",
              "      <td>0.045221</td>\n",
              "      <td>0.013079</td>\n",
              "      <td>0.097671</td>\n",
              "      <td>0.285803</td>\n",
              "    </tr>\n",
              "    <tr>\n",
              "      <th>qty_equal_sign_url</th>\n",
              "      <td>0.323723</td>\n",
              "      <td>0.005052</td>\n",
              "      <td>0.126237</td>\n",
              "      <td>0.056498</td>\n",
              "      <td>0.531775</td>\n",
              "      <td>1.000000</td>\n",
              "      <td>0.098337</td>\n",
              "      <td>0.886667</td>\n",
              "      <td>0.009005</td>\n",
              "      <td>0.004778</td>\n",
              "      <td>0.012788</td>\n",
              "      <td>0.012788</td>\n",
              "      <td>0.021138</td>\n",
              "      <td>0.113036</td>\n",
              "      <td>0.017378</td>\n",
              "      <td>0.277156</td>\n",
              "      <td>0.541395</td>\n",
              "    </tr>\n",
              "    <tr>\n",
              "      <th>qty_at_sign_url</th>\n",
              "      <td>0.096345</td>\n",
              "      <td>-0.010225</td>\n",
              "      <td>0.003237</td>\n",
              "      <td>0.045242</td>\n",
              "      <td>0.083924</td>\n",
              "      <td>0.098337</td>\n",
              "      <td>1.000000</td>\n",
              "      <td>0.112128</td>\n",
              "      <td>0.038496</td>\n",
              "      <td>0.013121</td>\n",
              "      <td>0.001186</td>\n",
              "      <td>0.001186</td>\n",
              "      <td>0.028865</td>\n",
              "      <td>0.023237</td>\n",
              "      <td>0.057072</td>\n",
              "      <td>0.006168</td>\n",
              "      <td>0.078875</td>\n",
              "    </tr>\n",
              "    <tr>\n",
              "      <th>qty_and_sign_url</th>\n",
              "      <td>0.341085</td>\n",
              "      <td>0.024501</td>\n",
              "      <td>0.117777</td>\n",
              "      <td>0.057487</td>\n",
              "      <td>0.332128</td>\n",
              "      <td>0.886667</td>\n",
              "      <td>0.112128</td>\n",
              "      <td>1.000000</td>\n",
              "      <td>0.014791</td>\n",
              "      <td>0.008850</td>\n",
              "      <td>0.006945</td>\n",
              "      <td>0.006945</td>\n",
              "      <td>0.022228</td>\n",
              "      <td>0.169624</td>\n",
              "      <td>0.015195</td>\n",
              "      <td>0.277501</td>\n",
              "      <td>0.512340</td>\n",
              "    </tr>\n",
              "    <tr>\n",
              "      <th>qty_exclaimation_url</th>\n",
              "      <td>0.000658</td>\n",
              "      <td>0.005436</td>\n",
              "      <td>0.012035</td>\n",
              "      <td>0.013293</td>\n",
              "      <td>0.009134</td>\n",
              "      <td>0.009005</td>\n",
              "      <td>0.038496</td>\n",
              "      <td>0.014791</td>\n",
              "      <td>1.000000</td>\n",
              "      <td>0.042143</td>\n",
              "      <td>0.004231</td>\n",
              "      <td>0.004231</td>\n",
              "      <td>0.101633</td>\n",
              "      <td>0.078113</td>\n",
              "      <td>0.111212</td>\n",
              "      <td>0.018505</td>\n",
              "      <td>0.025169</td>\n",
              "    </tr>\n",
              "    <tr>\n",
              "      <th>qty_spaces_url</th>\n",
              "      <td>0.001183</td>\n",
              "      <td>-0.012307</td>\n",
              "      <td>-0.004672</td>\n",
              "      <td>-0.010627</td>\n",
              "      <td>0.003186</td>\n",
              "      <td>0.004778</td>\n",
              "      <td>0.013121</td>\n",
              "      <td>0.008850</td>\n",
              "      <td>0.042143</td>\n",
              "      <td>1.000000</td>\n",
              "      <td>0.003642</td>\n",
              "      <td>0.003642</td>\n",
              "      <td>0.017137</td>\n",
              "      <td>0.145228</td>\n",
              "      <td>0.031242</td>\n",
              "      <td>0.001739</td>\n",
              "      <td>0.001470</td>\n",
              "    </tr>\n",
              "    <tr>\n",
              "      <th>qty_commas_url</th>\n",
              "      <td>0.031295</td>\n",
              "      <td>0.000811</td>\n",
              "      <td>0.006071</td>\n",
              "      <td>0.019187</td>\n",
              "      <td>0.013421</td>\n",
              "      <td>0.012788</td>\n",
              "      <td>0.001186</td>\n",
              "      <td>0.006945</td>\n",
              "      <td>0.004231</td>\n",
              "      <td>0.003642</td>\n",
              "      <td>1.000000</td>\n",
              "      <td>1.000000</td>\n",
              "      <td>0.001192</td>\n",
              "      <td>0.008047</td>\n",
              "      <td>0.006738</td>\n",
              "      <td>0.004439</td>\n",
              "      <td>0.026983</td>\n",
              "    </tr>\n",
              "    <tr>\n",
              "      <th>qty_plus_sign_url</th>\n",
              "      <td>0.031295</td>\n",
              "      <td>0.000811</td>\n",
              "      <td>0.006071</td>\n",
              "      <td>0.019187</td>\n",
              "      <td>0.013421</td>\n",
              "      <td>0.012788</td>\n",
              "      <td>0.001186</td>\n",
              "      <td>0.006945</td>\n",
              "      <td>0.004231</td>\n",
              "      <td>0.003642</td>\n",
              "      <td>1.000000</td>\n",
              "      <td>1.000000</td>\n",
              "      <td>0.001192</td>\n",
              "      <td>0.008047</td>\n",
              "      <td>0.006738</td>\n",
              "      <td>0.004439</td>\n",
              "      <td>0.026983</td>\n",
              "    </tr>\n",
              "    <tr>\n",
              "      <th>qty_asterisk_url</th>\n",
              "      <td>0.002832</td>\n",
              "      <td>0.010993</td>\n",
              "      <td>0.031282</td>\n",
              "      <td>0.000390</td>\n",
              "      <td>0.010743</td>\n",
              "      <td>0.021138</td>\n",
              "      <td>0.028865</td>\n",
              "      <td>0.022228</td>\n",
              "      <td>0.101633</td>\n",
              "      <td>0.017137</td>\n",
              "      <td>0.001192</td>\n",
              "      <td>0.001192</td>\n",
              "      <td>1.000000</td>\n",
              "      <td>0.036534</td>\n",
              "      <td>0.077598</td>\n",
              "      <td>0.011033</td>\n",
              "      <td>0.025959</td>\n",
              "    </tr>\n",
              "    <tr>\n",
              "      <th>qty_hashtags_url</th>\n",
              "      <td>0.102432</td>\n",
              "      <td>-0.006949</td>\n",
              "      <td>0.002434</td>\n",
              "      <td>0.016828</td>\n",
              "      <td>0.045221</td>\n",
              "      <td>0.113036</td>\n",
              "      <td>0.023237</td>\n",
              "      <td>0.169624</td>\n",
              "      <td>0.078113</td>\n",
              "      <td>0.145228</td>\n",
              "      <td>0.008047</td>\n",
              "      <td>0.008047</td>\n",
              "      <td>0.036534</td>\n",
              "      <td>1.000000</td>\n",
              "      <td>0.046145</td>\n",
              "      <td>0.009286</td>\n",
              "      <td>0.065786</td>\n",
              "    </tr>\n",
              "    <tr>\n",
              "      <th>qty_dollar_sign_url</th>\n",
              "      <td>0.003959</td>\n",
              "      <td>-0.000743</td>\n",
              "      <td>0.002833</td>\n",
              "      <td>0.011661</td>\n",
              "      <td>0.013079</td>\n",
              "      <td>0.017378</td>\n",
              "      <td>0.057072</td>\n",
              "      <td>0.015195</td>\n",
              "      <td>0.111212</td>\n",
              "      <td>0.031242</td>\n",
              "      <td>0.006738</td>\n",
              "      <td>0.006738</td>\n",
              "      <td>0.077598</td>\n",
              "      <td>0.046145</td>\n",
              "      <td>1.000000</td>\n",
              "      <td>0.011108</td>\n",
              "      <td>0.025403</td>\n",
              "    </tr>\n",
              "    <tr>\n",
              "      <th>qty_percentile_sign_url</th>\n",
              "      <td>0.163175</td>\n",
              "      <td>0.060699</td>\n",
              "      <td>0.155773</td>\n",
              "      <td>0.015067</td>\n",
              "      <td>0.097671</td>\n",
              "      <td>0.277156</td>\n",
              "      <td>0.006168</td>\n",
              "      <td>0.277501</td>\n",
              "      <td>0.018505</td>\n",
              "      <td>0.001739</td>\n",
              "      <td>0.004439</td>\n",
              "      <td>0.004439</td>\n",
              "      <td>0.011033</td>\n",
              "      <td>0.009286</td>\n",
              "      <td>0.011108</td>\n",
              "      <td>1.000000</td>\n",
              "      <td>0.480368</td>\n",
              "    </tr>\n",
              "    <tr>\n",
              "      <th>url_length</th>\n",
              "      <td>0.491315</td>\n",
              "      <td>0.419844</td>\n",
              "      <td>0.297745</td>\n",
              "      <td>0.384739</td>\n",
              "      <td>0.285803</td>\n",
              "      <td>0.541395</td>\n",
              "      <td>0.078875</td>\n",
              "      <td>0.512340</td>\n",
              "      <td>0.025169</td>\n",
              "      <td>0.001470</td>\n",
              "      <td>0.026983</td>\n",
              "      <td>0.026983</td>\n",
              "      <td>0.025959</td>\n",
              "      <td>0.065786</td>\n",
              "      <td>0.025403</td>\n",
              "      <td>0.480368</td>\n",
              "      <td>1.000000</td>\n",
              "    </tr>\n",
              "  </tbody>\n",
              "</table>\n",
              "</div>\n",
              "      <button class=\"colab-df-convert\" onclick=\"convertToInteractive('df-78cbc67b-3dcf-413e-bab6-908ff2f9adba')\"\n",
              "              title=\"Convert this dataframe to an interactive table.\"\n",
              "              style=\"display:none;\">\n",
              "        \n",
              "  <svg xmlns=\"http://www.w3.org/2000/svg\" height=\"24px\"viewBox=\"0 0 24 24\"\n",
              "       width=\"24px\">\n",
              "    <path d=\"M0 0h24v24H0V0z\" fill=\"none\"/>\n",
              "    <path d=\"M18.56 5.44l.94 2.06.94-2.06 2.06-.94-2.06-.94-.94-2.06-.94 2.06-2.06.94zm-11 1L8.5 8.5l.94-2.06 2.06-.94-2.06-.94L8.5 2.5l-.94 2.06-2.06.94zm10 10l.94 2.06.94-2.06 2.06-.94-2.06-.94-.94-2.06-.94 2.06-2.06.94z\"/><path d=\"M17.41 7.96l-1.37-1.37c-.4-.4-.92-.59-1.43-.59-.52 0-1.04.2-1.43.59L10.3 9.45l-7.72 7.72c-.78.78-.78 2.05 0 2.83L4 21.41c.39.39.9.59 1.41.59.51 0 1.02-.2 1.41-.59l7.78-7.78 2.81-2.81c.8-.78.8-2.07 0-2.86zM5.41 20L4 18.59l7.72-7.72 1.47 1.35L5.41 20z\"/>\n",
              "  </svg>\n",
              "      </button>\n",
              "      \n",
              "  <style>\n",
              "    .colab-df-container {\n",
              "      display:flex;\n",
              "      flex-wrap:wrap;\n",
              "      gap: 12px;\n",
              "    }\n",
              "\n",
              "    .colab-df-convert {\n",
              "      background-color: #E8F0FE;\n",
              "      border: none;\n",
              "      border-radius: 50%;\n",
              "      cursor: pointer;\n",
              "      display: none;\n",
              "      fill: #1967D2;\n",
              "      height: 32px;\n",
              "      padding: 0 0 0 0;\n",
              "      width: 32px;\n",
              "    }\n",
              "\n",
              "    .colab-df-convert:hover {\n",
              "      background-color: #E2EBFA;\n",
              "      box-shadow: 0px 1px 2px rgba(60, 64, 67, 0.3), 0px 1px 3px 1px rgba(60, 64, 67, 0.15);\n",
              "      fill: #174EA6;\n",
              "    }\n",
              "\n",
              "    [theme=dark] .colab-df-convert {\n",
              "      background-color: #3B4455;\n",
              "      fill: #D2E3FC;\n",
              "    }\n",
              "\n",
              "    [theme=dark] .colab-df-convert:hover {\n",
              "      background-color: #434B5C;\n",
              "      box-shadow: 0px 1px 3px 1px rgba(0, 0, 0, 0.15);\n",
              "      filter: drop-shadow(0px 1px 2px rgba(0, 0, 0, 0.3));\n",
              "      fill: #FFFFFF;\n",
              "    }\n",
              "  </style>\n",
              "\n",
              "      <script>\n",
              "        const buttonEl =\n",
              "          document.querySelector('#df-78cbc67b-3dcf-413e-bab6-908ff2f9adba button.colab-df-convert');\n",
              "        buttonEl.style.display =\n",
              "          google.colab.kernel.accessAllowed ? 'block' : 'none';\n",
              "\n",
              "        async function convertToInteractive(key) {\n",
              "          const element = document.querySelector('#df-78cbc67b-3dcf-413e-bab6-908ff2f9adba');\n",
              "          const dataTable =\n",
              "            await google.colab.kernel.invokeFunction('convertToInteractive',\n",
              "                                                     [key], {});\n",
              "          if (!dataTable) return;\n",
              "\n",
              "          const docLinkHtml = 'Like what you see? Visit the ' +\n",
              "            '<a target=\"_blank\" href=https://colab.research.google.com/notebooks/data_table.ipynb>data table notebook</a>'\n",
              "            + ' to learn more about interactive tables.';\n",
              "          element.innerHTML = '';\n",
              "          dataTable['output_type'] = 'display_data';\n",
              "          await google.colab.output.renderOutput(dataTable, element);\n",
              "          const docLink = document.createElement('div');\n",
              "          docLink.innerHTML = docLinkHtml;\n",
              "          element.appendChild(docLink);\n",
              "        }\n",
              "      </script>\n",
              "    </div>\n",
              "  </div>\n",
              "  "
            ]
          },
          "metadata": {},
          "execution_count": 69
        }
      ],
      "source": [
        "#Checking co-realtion in the dataset\n",
        "\n",
        "df.corr()"
      ]
    },
    {
      "cell_type": "code",
      "execution_count": 70,
      "id": "838c7cf0",
      "metadata": {
        "colab": {
          "base_uri": "https://localhost:8080/",
          "height": 973
        },
        "id": "838c7cf0",
        "outputId": "8107e0dc-c62e-448b-9523-59d461613e8b"
      },
      "outputs": [
        {
          "output_type": "display_data",
          "data": {
            "text/plain": [
              "<Figure size 1080x1080 with 2 Axes>"
            ],
            "image/png": "[encoded data removed]"
          },
          "metadata": {
            "needs_background": "light"
          }
        }
      ],
      "source": [
        "# plotting the co-relation\n",
        "corr = df.corr()\n",
        "fig, ax = plt.subplots(figsize=(15,15))\n",
        "sns.heatmap(corr, annot = True, cmap = 'rocket')\n",
        "plt.show()"
      ]
    },
    {
      "cell_type": "markdown",
      "id": "9854b488",
      "metadata": {
        "id": "9854b488"
      },
      "source": [
        "**Report**\n",
        "* Correlation is a statistical measure that expresses the extent to which two variables are linearly related (meaning they change together at a constant rate). It's a common tool for describing simple relationships without making a statement about cause and effect\n",
        "* A positive correlation exists when two variables operate in unison so that when one variable rises or falls, the other does the same. A negative correlation is when two variables move opposite one another so that when one variable rises, the other falls.\n",
        "* The dataset seem to be positively correlated except for the first 3 columns"
      ]
    },
    {
      "cell_type": "code",
      "execution_count": 71,
      "id": "9c4fc2a4",
      "metadata": {
        "colab": {
          "base_uri": "https://localhost:8080/",
          "height": 646
        },
        "id": "9c4fc2a4",
        "outputId": "b27b7609-6a4f-4560-ad42-a5275ac66c1d"
      },
      "outputs": [
        {
          "output_type": "execute_result",
          "data": {
            "text/plain": [
              "                         qty_dot_url  qty_hyphen_url  qty_underline_url  \\\n",
              "qty_dot_url                 2.294103       -0.089865           0.120413   \n",
              "qty_hyphen_url             -0.089865        5.877439          -0.057362   \n",
              "qty_underline_url           0.120413       -0.057362           1.734835   \n",
              "qty_slash_url               0.469653        0.833600           0.144287   \n",
              "qty_question_mark_url       0.176995       -0.042818           0.025673   \n",
              "qty_equal_sign_url          0.469082        0.011718           0.159069   \n",
              "qty_at_sign_url             0.009938       -0.001688           0.000290   \n",
              "qty_and_sign_url            0.417472        0.047999           0.125356   \n",
              "qty_exclaimation_url        0.000044        0.000577           0.000694   \n",
              "qty_spaces_url              0.000113       -0.001878          -0.000387   \n",
              "qty_commas_url              0.006721        0.000279           0.001134   \n",
              "qty_plus_sign_url           0.006721        0.000279           0.001134   \n",
              "qty_asterisk_url            0.000156        0.000968           0.001497   \n",
              "qty_hashtags_url            0.005488       -0.000596           0.000113   \n",
              "qty_dollar_sign_url         0.000186       -0.000056           0.000115   \n",
              "qty_percentile_sign_url     0.334758        0.199317           0.277903   \n",
              "url_length                 33.054173       45.210741          17.419395   \n",
              "\n",
              "                         qty_slash_url  qty_question_mark_url  \\\n",
              "qty_dot_url                   0.469653               0.176995   \n",
              "qty_hyphen_url                0.833600              -0.042818   \n",
              "qty_underline_url             0.144287               0.025673   \n",
              "qty_slash_url                 2.546281               0.050611   \n",
              "qty_question_mark_url         0.050611               0.262703   \n",
              "qty_equal_sign_url            0.086250               0.260752   \n",
              "qty_at_sign_url               0.004916               0.002929   \n",
              "qty_and_sign_url              0.074128               0.137561   \n",
              "qty_exclaimation_url          0.000929               0.000205   \n",
              "qty_spaces_url               -0.001067               0.000103   \n",
              "qty_commas_url                0.004341               0.000975   \n",
              "qty_plus_sign_url             0.004341               0.000975   \n",
              "qty_asterisk_url              0.000023               0.000200   \n",
              "qty_hashtags_url              0.000950               0.000820   \n",
              "qty_dollar_sign_url           0.000576               0.000207   \n",
              "qty_percentile_sign_url       0.032565               0.067806   \n",
              "url_length                   27.269654               6.506661   \n",
              "\n",
              "                         qty_equal_sign_url  qty_at_sign_url  \\\n",
              "qty_dot_url                        0.469082         0.009938   \n",
              "qty_hyphen_url                     0.011718        -0.001688   \n",
              "qty_underline_url                  0.159069         0.000290   \n",
              "qty_slash_url                      0.086250         0.004916   \n",
              "qty_question_mark_url              0.260752         0.002929   \n",
              "qty_equal_sign_url                 0.915242         0.006407   \n",
              "qty_at_sign_url                    0.006407         0.004638   \n",
              "qty_and_sign_url                   0.685468         0.006171   \n",
              "qty_exclaimation_url               0.000377         0.000115   \n",
              "qty_spaces_url                     0.000288         0.000056   \n",
              "qty_commas_url                     0.001735         0.000011   \n",
              "qty_plus_sign_url                  0.001735         0.000011   \n",
              "qty_asterisk_url                   0.000735         0.000071   \n",
              "qty_hashtags_url                   0.003825         0.000056   \n",
              "qty_dollar_sign_url                0.000514         0.000120   \n",
              "qty_percentile_sign_url            0.359139         0.000569   \n",
              "url_length                        23.006050         0.238591   \n",
              "\n",
              "                         qty_and_sign_url  qty_exclaimation_url  \\\n",
              "qty_dot_url                      0.417472              0.000044   \n",
              "qty_hyphen_url                   0.047999              0.000577   \n",
              "qty_underline_url                0.125356              0.000694   \n",
              "qty_slash_url                    0.074128              0.000929   \n",
              "qty_question_mark_url            0.137561              0.000205   \n",
              "qty_equal_sign_url               0.685468              0.000377   \n",
              "qty_at_sign_url                  0.006171              0.000115   \n",
              "qty_and_sign_url                 0.653006              0.000523   \n",
              "qty_exclaimation_url             0.000523              0.001918   \n",
              "qty_spaces_url                   0.000450              0.000116   \n",
              "qty_commas_url                   0.000796              0.000026   \n",
              "qty_plus_sign_url                0.000796              0.000026   \n",
              "qty_asterisk_url                 0.000652              0.000162   \n",
              "qty_hashtags_url                 0.004849              0.000121   \n",
              "qty_dollar_sign_url              0.000380              0.000151   \n",
              "qty_percentile_sign_url          0.303734              0.001098   \n",
              "url_length                      18.389780              0.048959   \n",
              "\n",
              "                         qty_spaces_url  qty_commas_url  qty_plus_sign_url  \\\n",
              "qty_dot_url                    0.000113        0.006721           0.006721   \n",
              "qty_hyphen_url                -0.001878        0.000279           0.000279   \n",
              "qty_underline_url             -0.000387        0.001134           0.001134   \n",
              "qty_slash_url                 -0.001067        0.004341           0.004341   \n",
              "qty_question_mark_url          0.000103        0.000975           0.000975   \n",
              "qty_equal_sign_url             0.000288        0.001735           0.001735   \n",
              "qty_at_sign_url                0.000056        0.000011           0.000011   \n",
              "qty_and_sign_url               0.000450        0.000796           0.000796   \n",
              "qty_exclaimation_url           0.000116        0.000026           0.000026   \n",
              "qty_spaces_url                 0.003961        0.000032           0.000032   \n",
              "qty_commas_url                 0.000032        0.020105           0.020105   \n",
              "qty_plus_sign_url              0.000032        0.020105           0.020105   \n",
              "qty_asterisk_url               0.000039        0.000006           0.000006   \n",
              "qty_hashtags_url               0.000323        0.000040           0.000040   \n",
              "qty_dollar_sign_url            0.000061        0.000030           0.000030   \n",
              "qty_percentile_sign_url        0.000148        0.000852           0.000852   \n",
              "url_length                     0.004109        0.169939           0.169939   \n",
              "\n",
              "                         qty_asterisk_url  qty_hashtags_url  \\\n",
              "qty_dot_url                      0.000156          0.005488   \n",
              "qty_hyphen_url                   0.000968         -0.000596   \n",
              "qty_underline_url                0.001497          0.000113   \n",
              "qty_slash_url                    0.000023          0.000950   \n",
              "qty_question_mark_url            0.000200          0.000820   \n",
              "qty_equal_sign_url               0.000735          0.003825   \n",
              "qty_at_sign_url                  0.000071          0.000056   \n",
              "qty_and_sign_url                 0.000652          0.004849   \n",
              "qty_exclaimation_url             0.000162          0.000121   \n",
              "qty_spaces_url                   0.000039          0.000323   \n",
              "qty_commas_url                   0.000006          0.000040   \n",
              "qty_plus_sign_url                0.000006          0.000040   \n",
              "qty_asterisk_url                 0.001320          0.000047   \n",
              "qty_hashtags_url                 0.000047          0.001251   \n",
              "qty_dollar_sign_url              0.000087          0.000051   \n",
              "qty_percentile_sign_url          0.000543          0.000445   \n",
              "url_length                       0.041887          0.103365   \n",
              "\n",
              "                         qty_dollar_sign_url  qty_percentile_sign_url  \\\n",
              "qty_dot_url                         0.000186                 0.334758   \n",
              "qty_hyphen_url                     -0.000056                 0.199317   \n",
              "qty_underline_url                   0.000115                 0.277903   \n",
              "qty_slash_url                       0.000576                 0.032565   \n",
              "qty_question_mark_url               0.000207                 0.067806   \n",
              "qty_equal_sign_url                  0.000514                 0.359139   \n",
              "qty_at_sign_url                     0.000120                 0.000569   \n",
              "qty_and_sign_url                    0.000380                 0.303734   \n",
              "qty_exclaimation_url                0.000151                 0.001098   \n",
              "qty_spaces_url                      0.000061                 0.000148   \n",
              "qty_commas_url                      0.000030                 0.000852   \n",
              "qty_plus_sign_url                   0.000030                 0.000852   \n",
              "qty_asterisk_url                    0.000087                 0.000543   \n",
              "qty_hashtags_url                    0.000051                 0.000445   \n",
              "qty_dollar_sign_url                 0.000957                 0.000466   \n",
              "qty_percentile_sign_url             0.000466                 1.834596   \n",
              "url_length                          0.034912                28.900441   \n",
              "\n",
              "                          url_length  \n",
              "qty_dot_url                33.054173  \n",
              "qty_hyphen_url             45.210741  \n",
              "qty_underline_url          17.419395  \n",
              "qty_slash_url              27.269654  \n",
              "qty_question_mark_url       6.506661  \n",
              "qty_equal_sign_url         23.006050  \n",
              "qty_at_sign_url             0.238591  \n",
              "qty_and_sign_url           18.389780  \n",
              "qty_exclaimation_url        0.048959  \n",
              "qty_spaces_url              0.004109  \n",
              "qty_commas_url              0.169939  \n",
              "qty_plus_sign_url           0.169939  \n",
              "qty_asterisk_url            0.041887  \n",
              "qty_hashtags_url            0.103365  \n",
              "qty_dollar_sign_url         0.034912  \n",
              "qty_percentile_sign_url    28.900441  \n",
              "url_length               1972.965851  "
            ],
            "text/html": [
              "\n",
              "  <div id=\"df-e1322bdb-3b37-49a3-a1b9-896742847ac5\">\n",
              "    <div class=\"colab-df-container\">\n",
              "      <div>\n",
              "<style scoped>\n",
              "    .dataframe tbody tr th:only-of-type {\n",
              "        vertical-align: middle;\n",
              "    }\n",
              "\n",
              "    .dataframe tbody tr th {\n",
              "        vertical-align: top;\n",
              "    }\n",
              "\n",
              "    .dataframe thead th {\n",
              "        text-align: right;\n",
              "    }\n",
              "</style>\n",
              "<table border=\"1\" class=\"dataframe\">\n",
              "  <thead>\n",
              "    <tr style=\"text-align: right;\">\n",
              "      <th></th>\n",
              "      <th>qty_dot_url</th>\n",
              "      <th>qty_hyphen_url</th>\n",
              "      <th>qty_underline_url</th>\n",
              "      <th>qty_slash_url</th>\n",
              "      <th>qty_question_mark_url</th>\n",
              "      <th>qty_equal_sign_url</th>\n",
              "      <th>qty_at_sign_url</th>\n",
              "      <th>qty_and_sign_url</th>\n",
              "      <th>qty_exclaimation_url</th>\n",
              "      <th>qty_spaces_url</th>\n",
              "      <th>qty_commas_url</th>\n",
              "      <th>qty_plus_sign_url</th>\n",
              "      <th>qty_asterisk_url</th>\n",
              "      <th>qty_hashtags_url</th>\n",
              "      <th>qty_dollar_sign_url</th>\n",
              "      <th>qty_percentile_sign_url</th>\n",
              "      <th>url_length</th>\n",
              "    </tr>\n",
              "  </thead>\n",
              "  <tbody>\n",
              "    <tr>\n",
              "      <th>qty_dot_url</th>\n",
              "      <td>2.294103</td>\n",
              "      <td>-0.089865</td>\n",
              "      <td>0.120413</td>\n",
              "      <td>0.469653</td>\n",
              "      <td>0.176995</td>\n",
              "      <td>0.469082</td>\n",
              "      <td>0.009938</td>\n",
              "      <td>0.417472</td>\n",
              "      <td>0.000044</td>\n",
              "      <td>0.000113</td>\n",
              "      <td>0.006721</td>\n",
              "      <td>0.006721</td>\n",
              "      <td>0.000156</td>\n",
              "      <td>0.005488</td>\n",
              "      <td>0.000186</td>\n",
              "      <td>0.334758</td>\n",
              "      <td>33.054173</td>\n",
              "    </tr>\n",
              "    <tr>\n",
              "      <th>qty_hyphen_url</th>\n",
              "      <td>-0.089865</td>\n",
              "      <td>5.877439</td>\n",
              "      <td>-0.057362</td>\n",
              "      <td>0.833600</td>\n",
              "      <td>-0.042818</td>\n",
              "      <td>0.011718</td>\n",
              "      <td>-0.001688</td>\n",
              "      <td>0.047999</td>\n",
              "      <td>0.000577</td>\n",
              "      <td>-0.001878</td>\n",
              "      <td>0.000279</td>\n",
              "      <td>0.000279</td>\n",
              "      <td>0.000968</td>\n",
              "      <td>-0.000596</td>\n",
              "      <td>-0.000056</td>\n",
              "      <td>0.199317</td>\n",
              "      <td>45.210741</td>\n",
              "    </tr>\n",
              "    <tr>\n",
              "      <th>qty_underline_url</th>\n",
              "      <td>0.120413</td>\n",
              "      <td>-0.057362</td>\n",
              "      <td>1.734835</td>\n",
              "      <td>0.144287</td>\n",
              "      <td>0.025673</td>\n",
              "      <td>0.159069</td>\n",
              "      <td>0.000290</td>\n",
              "      <td>0.125356</td>\n",
              "      <td>0.000694</td>\n",
              "      <td>-0.000387</td>\n",
              "      <td>0.001134</td>\n",
              "      <td>0.001134</td>\n",
              "      <td>0.001497</td>\n",
              "      <td>0.000113</td>\n",
              "      <td>0.000115</td>\n",
              "      <td>0.277903</td>\n",
              "      <td>17.419395</td>\n",
              "    </tr>\n",
              "    <tr>\n",
              "      <th>qty_slash_url</th>\n",
              "      <td>0.469653</td>\n",
              "      <td>0.833600</td>\n",
              "      <td>0.144287</td>\n",
              "      <td>2.546281</td>\n",
              "      <td>0.050611</td>\n",
              "      <td>0.086250</td>\n",
              "      <td>0.004916</td>\n",
              "      <td>0.074128</td>\n",
              "      <td>0.000929</td>\n",
              "      <td>-0.001067</td>\n",
              "      <td>0.004341</td>\n",
              "      <td>0.004341</td>\n",
              "      <td>0.000023</td>\n",
              "      <td>0.000950</td>\n",
              "      <td>0.000576</td>\n",
              "      <td>0.032565</td>\n",
              "      <td>27.269654</td>\n",
              "    </tr>\n",
              "    <tr>\n",
              "      <th>qty_question_mark_url</th>\n",
              "      <td>0.176995</td>\n",
              "      <td>-0.042818</td>\n",
              "      <td>0.025673</td>\n",
              "      <td>0.050611</td>\n",
              "      <td>0.262703</td>\n",
              "      <td>0.260752</td>\n",
              "      <td>0.002929</td>\n",
              "      <td>0.137561</td>\n",
              "      <td>0.000205</td>\n",
              "      <td>0.000103</td>\n",
              "      <td>0.000975</td>\n",
              "      <td>0.000975</td>\n",
              "      <td>0.000200</td>\n",
              "      <td>0.000820</td>\n",
              "      <td>0.000207</td>\n",
              "      <td>0.067806</td>\n",
              "      <td>6.506661</td>\n",
              "    </tr>\n",
              "    <tr>\n",
              "      <th>qty_equal_sign_url</th>\n",
              "      <td>0.469082</td>\n",
              "      <td>0.011718</td>\n",
              "      <td>0.159069</td>\n",
              "      <td>0.086250</td>\n",
              "      <td>0.260752</td>\n",
              "      <td>0.915242</td>\n",
              "      <td>0.006407</td>\n",
              "      <td>0.685468</td>\n",
              "      <td>0.000377</td>\n",
              "      <td>0.000288</td>\n",
              "      <td>0.001735</td>\n",
              "      <td>0.001735</td>\n",
              "      <td>0.000735</td>\n",
              "      <td>0.003825</td>\n",
              "      <td>0.000514</td>\n",
              "      <td>0.359139</td>\n",
              "      <td>23.006050</td>\n",
              "    </tr>\n",
              "    <tr>\n",
              "      <th>qty_at_sign_url</th>\n",
              "      <td>0.009938</td>\n",
              "      <td>-0.001688</td>\n",
              "      <td>0.000290</td>\n",
              "      <td>0.004916</td>\n",
              "      <td>0.002929</td>\n",
              "      <td>0.006407</td>\n",
              "      <td>0.004638</td>\n",
              "      <td>0.006171</td>\n",
              "      <td>0.000115</td>\n",
              "      <td>0.000056</td>\n",
              "      <td>0.000011</td>\n",
              "      <td>0.000011</td>\n",
              "      <td>0.000071</td>\n",
              "      <td>0.000056</td>\n",
              "      <td>0.000120</td>\n",
              "      <td>0.000569</td>\n",
              "      <td>0.238591</td>\n",
              "    </tr>\n",
              "    <tr>\n",
              "      <th>qty_and_sign_url</th>\n",
              "      <td>0.417472</td>\n",
              "      <td>0.047999</td>\n",
              "      <td>0.125356</td>\n",
              "      <td>0.074128</td>\n",
              "      <td>0.137561</td>\n",
              "      <td>0.685468</td>\n",
              "      <td>0.006171</td>\n",
              "      <td>0.653006</td>\n",
              "      <td>0.000523</td>\n",
              "      <td>0.000450</td>\n",
              "      <td>0.000796</td>\n",
              "      <td>0.000796</td>\n",
              "      <td>0.000652</td>\n",
              "      <td>0.004849</td>\n",
              "      <td>0.000380</td>\n",
              "      <td>0.303734</td>\n",
              "      <td>18.389780</td>\n",
              "    </tr>\n",
              "    <tr>\n",
              "      <th>qty_exclaimation_url</th>\n",
              "      <td>0.000044</td>\n",
              "      <td>0.000577</td>\n",
              "      <td>0.000694</td>\n",
              "      <td>0.000929</td>\n",
              "      <td>0.000205</td>\n",
              "      <td>0.000377</td>\n",
              "      <td>0.000115</td>\n",
              "      <td>0.000523</td>\n",
              "      <td>0.001918</td>\n",
              "      <td>0.000116</td>\n",
              "      <td>0.000026</td>\n",
              "      <td>0.000026</td>\n",
              "      <td>0.000162</td>\n",
              "      <td>0.000121</td>\n",
              "      <td>0.000151</td>\n",
              "      <td>0.001098</td>\n",
              "      <td>0.048959</td>\n",
              "    </tr>\n",
              "    <tr>\n",
              "      <th>qty_spaces_url</th>\n",
              "      <td>0.000113</td>\n",
              "      <td>-0.001878</td>\n",
              "      <td>-0.000387</td>\n",
              "      <td>-0.001067</td>\n",
              "      <td>0.000103</td>\n",
              "      <td>0.000288</td>\n",
              "      <td>0.000056</td>\n",
              "      <td>0.000450</td>\n",
              "      <td>0.000116</td>\n",
              "      <td>0.003961</td>\n",
              "      <td>0.000032</td>\n",
              "      <td>0.000032</td>\n",
              "      <td>0.000039</td>\n",
              "      <td>0.000323</td>\n",
              "      <td>0.000061</td>\n",
              "      <td>0.000148</td>\n",
              "      <td>0.004109</td>\n",
              "    </tr>\n",
              "    <tr>\n",
              "      <th>qty_commas_url</th>\n",
              "      <td>0.006721</td>\n",
              "      <td>0.000279</td>\n",
              "      <td>0.001134</td>\n",
              "      <td>0.004341</td>\n",
              "      <td>0.000975</td>\n",
              "      <td>0.001735</td>\n",
              "      <td>0.000011</td>\n",
              "      <td>0.000796</td>\n",
              "      <td>0.000026</td>\n",
              "      <td>0.000032</td>\n",
              "      <td>0.020105</td>\n",
              "      <td>0.020105</td>\n",
              "      <td>0.000006</td>\n",
              "      <td>0.000040</td>\n",
              "      <td>0.000030</td>\n",
              "      <td>0.000852</td>\n",
              "      <td>0.169939</td>\n",
              "    </tr>\n",
              "    <tr>\n",
              "      <th>qty_plus_sign_url</th>\n",
              "      <td>0.006721</td>\n",
              "      <td>0.000279</td>\n",
              "      <td>0.001134</td>\n",
              "      <td>0.004341</td>\n",
              "      <td>0.000975</td>\n",
              "      <td>0.001735</td>\n",
              "      <td>0.000011</td>\n",
              "      <td>0.000796</td>\n",
              "      <td>0.000026</td>\n",
              "      <td>0.000032</td>\n",
              "      <td>0.020105</td>\n",
              "      <td>0.020105</td>\n",
              "      <td>0.000006</td>\n",
              "      <td>0.000040</td>\n",
              "      <td>0.000030</td>\n",
              "      <td>0.000852</td>\n",
              "      <td>0.169939</td>\n",
              "    </tr>\n",
              "    <tr>\n",
              "      <th>qty_asterisk_url</th>\n",
              "      <td>0.000156</td>\n",
              "      <td>0.000968</td>\n",
              "      <td>0.001497</td>\n",
              "      <td>0.000023</td>\n",
              "      <td>0.000200</td>\n",
              "      <td>0.000735</td>\n",
              "      <td>0.000071</td>\n",
              "      <td>0.000652</td>\n",
              "      <td>0.000162</td>\n",
              "      <td>0.000039</td>\n",
              "      <td>0.000006</td>\n",
              "      <td>0.000006</td>\n",
              "      <td>0.001320</td>\n",
              "      <td>0.000047</td>\n",
              "      <td>0.000087</td>\n",
              "      <td>0.000543</td>\n",
              "      <td>0.041887</td>\n",
              "    </tr>\n",
              "    <tr>\n",
              "      <th>qty_hashtags_url</th>\n",
              "      <td>0.005488</td>\n",
              "      <td>-0.000596</td>\n",
              "      <td>0.000113</td>\n",
              "      <td>0.000950</td>\n",
              "      <td>0.000820</td>\n",
              "      <td>0.003825</td>\n",
              "      <td>0.000056</td>\n",
              "      <td>0.004849</td>\n",
              "      <td>0.000121</td>\n",
              "      <td>0.000323</td>\n",
              "      <td>0.000040</td>\n",
              "      <td>0.000040</td>\n",
              "      <td>0.000047</td>\n",
              "      <td>0.001251</td>\n",
              "      <td>0.000051</td>\n",
              "      <td>0.000445</td>\n",
              "      <td>0.103365</td>\n",
              "    </tr>\n",
              "    <tr>\n",
              "      <th>qty_dollar_sign_url</th>\n",
              "      <td>0.000186</td>\n",
              "      <td>-0.000056</td>\n",
              "      <td>0.000115</td>\n",
              "      <td>0.000576</td>\n",
              "      <td>0.000207</td>\n",
              "      <td>0.000514</td>\n",
              "      <td>0.000120</td>\n",
              "      <td>0.000380</td>\n",
              "      <td>0.000151</td>\n",
              "      <td>0.000061</td>\n",
              "      <td>0.000030</td>\n",
              "      <td>0.000030</td>\n",
              "      <td>0.000087</td>\n",
              "      <td>0.000051</td>\n",
              "      <td>0.000957</td>\n",
              "      <td>0.000466</td>\n",
              "      <td>0.034912</td>\n",
              "    </tr>\n",
              "    <tr>\n",
              "      <th>qty_percentile_sign_url</th>\n",
              "      <td>0.334758</td>\n",
              "      <td>0.199317</td>\n",
              "      <td>0.277903</td>\n",
              "      <td>0.032565</td>\n",
              "      <td>0.067806</td>\n",
              "      <td>0.359139</td>\n",
              "      <td>0.000569</td>\n",
              "      <td>0.303734</td>\n",
              "      <td>0.001098</td>\n",
              "      <td>0.000148</td>\n",
              "      <td>0.000852</td>\n",
              "      <td>0.000852</td>\n",
              "      <td>0.000543</td>\n",
              "      <td>0.000445</td>\n",
              "      <td>0.000466</td>\n",
              "      <td>1.834596</td>\n",
              "      <td>28.900441</td>\n",
              "    </tr>\n",
              "    <tr>\n",
              "      <th>url_length</th>\n",
              "      <td>33.054173</td>\n",
              "      <td>45.210741</td>\n",
              "      <td>17.419395</td>\n",
              "      <td>27.269654</td>\n",
              "      <td>6.506661</td>\n",
              "      <td>23.006050</td>\n",
              "      <td>0.238591</td>\n",
              "      <td>18.389780</td>\n",
              "      <td>0.048959</td>\n",
              "      <td>0.004109</td>\n",
              "      <td>0.169939</td>\n",
              "      <td>0.169939</td>\n",
              "      <td>0.041887</td>\n",
              "      <td>0.103365</td>\n",
              "      <td>0.034912</td>\n",
              "      <td>28.900441</td>\n",
              "      <td>1972.965851</td>\n",
              "    </tr>\n",
              "  </tbody>\n",
              "</table>\n",
              "</div>\n",
              "      <button class=\"colab-df-convert\" onclick=\"convertToInteractive('df-e1322bdb-3b37-49a3-a1b9-896742847ac5')\"\n",
              "              title=\"Convert this dataframe to an interactive table.\"\n",
              "              style=\"display:none;\">\n",
              "        \n",
              "  <svg xmlns=\"http://www.w3.org/2000/svg\" height=\"24px\"viewBox=\"0 0 24 24\"\n",
              "       width=\"24px\">\n",
              "    <path d=\"M0 0h24v24H0V0z\" fill=\"none\"/>\n",
              "    <path d=\"M18.56 5.44l.94 2.06.94-2.06 2.06-.94-2.06-.94-.94-2.06-.94 2.06-2.06.94zm-11 1L8.5 8.5l.94-2.06 2.06-.94-2.06-.94L8.5 2.5l-.94 2.06-2.06.94zm10 10l.94 2.06.94-2.06 2.06-.94-2.06-.94-.94-2.06-.94 2.06-2.06.94z\"/><path d=\"M17.41 7.96l-1.37-1.37c-.4-.4-.92-.59-1.43-.59-.52 0-1.04.2-1.43.59L10.3 9.45l-7.72 7.72c-.78.78-.78 2.05 0 2.83L4 21.41c.39.39.9.59 1.41.59.51 0 1.02-.2 1.41-.59l7.78-7.78 2.81-2.81c.8-.78.8-2.07 0-2.86zM5.41 20L4 18.59l7.72-7.72 1.47 1.35L5.41 20z\"/>\n",
              "  </svg>\n",
              "      </button>\n",
              "      \n",
              "  <style>\n",
              "    .colab-df-container {\n",
              "      display:flex;\n",
              "      flex-wrap:wrap;\n",
              "      gap: 12px;\n",
              "    }\n",
              "\n",
              "    .colab-df-convert {\n",
              "      background-color: #E8F0FE;\n",
              "      border: none;\n",
              "      border-radius: 50%;\n",
              "      cursor: pointer;\n",
              "      display: none;\n",
              "      fill: #1967D2;\n",
              "      height: 32px;\n",
              "      padding: 0 0 0 0;\n",
              "      width: 32px;\n",
              "    }\n",
              "\n",
              "    .colab-df-convert:hover {\n",
              "      background-color: #E2EBFA;\n",
              "      box-shadow: 0px 1px 2px rgba(60, 64, 67, 0.3), 0px 1px 3px 1px rgba(60, 64, 67, 0.15);\n",
              "      fill: #174EA6;\n",
              "    }\n",
              "\n",
              "    [theme=dark] .colab-df-convert {\n",
              "      background-color: #3B4455;\n",
              "      fill: #D2E3FC;\n",
              "    }\n",
              "\n",
              "    [theme=dark] .colab-df-convert:hover {\n",
              "      background-color: #434B5C;\n",
              "      box-shadow: 0px 1px 3px 1px rgba(0, 0, 0, 0.15);\n",
              "      filter: drop-shadow(0px 1px 2px rgba(0, 0, 0, 0.3));\n",
              "      fill: #FFFFFF;\n",
              "    }\n",
              "  </style>\n",
              "\n",
              "      <script>\n",
              "        const buttonEl =\n",
              "          document.querySelector('#df-e1322bdb-3b37-49a3-a1b9-896742847ac5 button.colab-df-convert');\n",
              "        buttonEl.style.display =\n",
              "          google.colab.kernel.accessAllowed ? 'block' : 'none';\n",
              "\n",
              "        async function convertToInteractive(key) {\n",
              "          const element = document.querySelector('#df-e1322bdb-3b37-49a3-a1b9-896742847ac5');\n",
              "          const dataTable =\n",
              "            await google.colab.kernel.invokeFunction('convertToInteractive',\n",
              "                                                     [key], {});\n",
              "          if (!dataTable) return;\n",
              "\n",
              "          const docLinkHtml = 'Like what you see? Visit the ' +\n",
              "            '<a target=\"_blank\" href=https://colab.research.google.com/notebooks/data_table.ipynb>data table notebook</a>'\n",
              "            + ' to learn more about interactive tables.';\n",
              "          element.innerHTML = '';\n",
              "          dataTable['output_type'] = 'display_data';\n",
              "          await google.colab.output.renderOutput(dataTable, element);\n",
              "          const docLink = document.createElement('div');\n",
              "          docLink.innerHTML = docLinkHtml;\n",
              "          element.appendChild(docLink);\n",
              "        }\n",
              "      </script>\n",
              "    </div>\n",
              "  </div>\n",
              "  "
            ]
          },
          "metadata": {},
          "execution_count": 71
        }
      ],
      "source": [
        "# checking co-variance in the dataset\n",
        "df.cov()"
      ]
    },
    {
      "cell_type": "code",
      "execution_count": 72,
      "id": "50da6733",
      "metadata": {
        "colab": {
          "base_uri": "https://localhost:8080/",
          "height": 1000
        },
        "id": "50da6733",
        "outputId": "4b990b2b-b31a-41ba-b58f-9246afff3f22"
      },
      "outputs": [
        {
          "output_type": "display_data",
          "data": {
            "text/plain": [
              "<Figure size 1224x1224 with 2 Axes>"
            ],
            "image/png": "[encoded data removed]"
          },
          "metadata": {
            "needs_background": "light"
          }
        }
      ],
      "source": [
        "# plotting co-variance\n",
        "\n",
        "cov = df.cov()\n",
        "fig, ax = plt.subplots(figsize=(17,17))\n",
        "sns.heatmap(cov, annot = True, cmap = 'coolwarm')\n",
        "plt.show()"
      ]
    },
    {
      "cell_type": "markdown",
      "id": "3eb8083c",
      "metadata": {
        "id": "3eb8083c"
      },
      "source": [
        "**Report**\n",
        "\n",
        "* Covariance is a measure of the relationship between two random variables and to what extent, they change together. Or we can say, in other words, it defines the changes between the two variables, such that change in one variable is equal to change in another variable.\n",
        "* The covariance ranges from negative values to positive values. A positive covariance indicates that the two variables tend to move together and with the same sign, a negative covariance indicates that the two variables tend to move in the opposite direction."
      ]
    },
    {
      "cell_type": "markdown",
      "id": "748eca63",
      "metadata": {
        "id": "748eca63"
      },
      "source": [
        "**Report**\n",
        "\n",
        "* As per the above plot most of the features are not normally distributed.\n",
        "* Transformation of data is not of prime importance since it is a classification problem.\n",
        "* Interpreting each and every column is not necessary as this is URL data."
      ]
    },
    {
      "cell_type": "code",
      "execution_count": 73,
      "id": "029bacae",
      "metadata": {
        "id": "029bacae",
        "outputId": "8f3df596-d4be-479c-e82e-13b34a4d5b0f",
        "colab": {
          "base_uri": "https://localhost:8080/"
        }
      },
      "outputs": [
        {
          "output_type": "execute_result",
          "data": {
            "text/plain": [
              "Index(['URL', 'Label', 'domain_name', 'path', 'qty_dot_url', 'qty_hyphen_url',\n",
              "       'qty_underline_url', 'qty_slash_url', 'qty_question_mark_url',\n",
              "       'qty_equal_sign_url', 'qty_at_sign_url', 'qty_and_sign_url',\n",
              "       'qty_exclaimation_url', 'qty_spaces_url', 'qty_commas_url',\n",
              "       'qty_plus_sign_url', 'qty_asterisk_url', 'qty_hashtags_url',\n",
              "       'qty_dollar_sign_url', 'qty_percentile_sign_url', 'url_length'],\n",
              "      dtype='object')"
            ]
          },
          "metadata": {},
          "execution_count": 73
        }
      ],
      "source": [
        "df.columns"
      ]
    },
    {
      "cell_type": "code",
      "source": [
        "# Separating numerical and categorical columns\n",
        "\n",
        "num_cols = [feature for feature in df.columns if (df[feature].dtype == 'float' or df[feature].dtype == 'int')]\n",
        "cat_cols = [feature for feature in df.columns if (df[feature].dtype == 'O')]"
      ],
      "metadata": {
        "id": "tIJp0tf5WpVb"
      },
      "id": "tIJp0tf5WpVb",
      "execution_count": 74,
      "outputs": []
    },
    {
      "cell_type": "code",
      "source": [
        "# Plotting the distribution of the numerical data\n",
        "\n",
        "plt.figure(figsize=(15, 100))\n",
        "for i, col in enumerate(num_cols):\n",
        "    plt.subplot(60, 3, i+1)\n",
        "    sns.distplot(x=df[col], color='indianred')\n",
        "    plt.xlabel(col, weight='bold')\n",
        "    plt.tight_layout()"
      ],
      "metadata": {
        "colab": {
          "base_uri": "https://localhost:8080/",
          "height": 741
        },
        "id": "biqI7yxaf0jV",
        "outputId": "14888a06-3613-4437-ce27-a55c9fb37bdd"
      },
      "id": "biqI7yxaf0jV",
      "execution_count": 75,
      "outputs": [
        {
          "output_type": "display_data",
          "data": {
            "text/plain": [
              "<Figure size 1080x7200 with 17 Axes>"
            ],
            "image/png": "[encoded data removed]"
          },
          "metadata": {
            "needs_background": "light"
          }
        }
      ]
    },
    {
      "cell_type": "markdown",
      "source": [
        "**Report**\n",
        "\n",
        "* As per the above plot most of the features are not normally distributed.\n",
        "* Transformation of data is not of prime importance since it is a classification problem.\n",
        "* Interpreting each and every column is not necessary as this is sensor data."
      ],
      "metadata": {
        "id": "mMLKs7hbgdeW"
      },
      "id": "mMLKs7hbgdeW"
    },
    {
      "cell_type": "code",
      "source": [
        "# Checking for outliers in the numerical data\n",
        "\n",
        "fig, ax = plt.subplots(figsize=(25,10))\n",
        "sns.boxplot(data=df[num_cols], width= 0.5,ax=ax,  fliersize=3)\n"
      ],
      "metadata": {
        "colab": {
          "base_uri": "https://localhost:8080/",
          "height": 496
        },
        "id": "gJP62S36W95r",
        "outputId": "e06a5773-a224-432f-cabf-3503d270b1f6"
      },
      "id": "gJP62S36W95r",
      "execution_count": 76,
      "outputs": [
        {
          "output_type": "execute_result",
          "data": {
            "text/plain": [
              "<matplotlib.axes._subplots.AxesSubplot at 0x7f2da3f487f0>"
            ]
          },
          "metadata": {},
          "execution_count": 76
        },
        {
          "output_type": "display_data",
          "data": {
            "text/plain": [
              "<Figure size 1800x720 with 1 Axes>"
            ],
            "image/png": "[encoded data removed]"
          },
          "metadata": {
            "needs_background": "light"
          }
        }
      ]
    },
    {
      "cell_type": "markdown",
      "source": [
        "**Report**\n",
        "\n",
        "* There seems to be outliers in all the columns, espcially in the url_length column\n",
        "* Handling the outliers is important since it would impact the execution and performance of the model"
      ],
      "metadata": {
        "id": "pwSjJR2siU6E"
      },
      "id": "pwSjJR2siU6E"
    },
    {
      "cell_type": "markdown",
      "source": [
        "# Outlier Handling"
      ],
      "metadata": {
        "id": "0yhp21DWijsQ"
      },
      "id": "0yhp21DWijsQ"
    },
    {
      "cell_type": "markdown",
      "source": [
        "* Outliers are those data points that are significantly different from the rest of the dataset. They are often abnormal observations that skew the data distribution\n",
        "* In broad strokes, there are three causes for outliers—data entry or measurement errors, sampling problems and unusual conditions, and natural variation.\n",
        "* There are multiple methods to deal with the outliers. \n",
        "* One such technique is handling the outliers using IQR\n",
        "* IQR (Interquartile Range) is a statistical measure that is used to identify outliers in a dataset. It is defined as the difference between the 75th percentile (upper quartile) and the 25th percentile (lower quartile) of the data. Outliers in a dataset can be identified by computing the IQR and using it to calculate the lower and upper bounds for the data. Any data point that falls outside of these bounds is considered an outlier. The IQR approach is particularly useful for datasets that are not normally distributed, as it is based on the distribution of the data rather than assuming a normal distribution. The IQR is a robust measure of dispersion and is less sensitive to outliers than other measures, such as the standard deviation."
      ],
      "metadata": {
        "id": "0tfFuAbNirQB"
      },
      "id": "0tfFuAbNirQB"
    },
    {
      "cell_type": "code",
      "source": [
        "# Shape of the data before handling outliers\n",
        "\n",
        "df.shape"
      ],
      "metadata": {
        "colab": {
          "base_uri": "https://localhost:8080/"
        },
        "id": "lSyoIsIPxKqJ",
        "outputId": "2f8a5544-da55-4a02-eeaa-13d53b6e881b"
      },
      "id": "lSyoIsIPxKqJ",
      "execution_count": 77,
      "outputs": [
        {
          "output_type": "execute_result",
          "data": {
            "text/plain": [
              "(549346, 21)"
            ]
          },
          "metadata": {},
          "execution_count": 77
        }
      ]
    },
    {
      "cell_type": "code",
      "source": [
        "# Get the numeric columns in the data using numpy\n",
        "numeric_columns = df._get_numeric_data().columns\n",
        "df_numeric = df[numeric_columns]\n",
        "\n",
        "# Get the non-numeric columns in the data using numpy\n",
        "non_numeric_columns = df.columns.difference(numeric_columns)\n",
        "df_non_numeric = df[non_numeric_columns]\n",
        "\n",
        "# Get the number of rows and columns in the numeric data\n",
        "rows, cols = df_numeric.shape\n",
        "\n",
        "# Create an empty list to store the cleaned data\n",
        "cleaned_data = []\n",
        "\n",
        "# Loop through each column in the numeric data\n",
        "for col in range(cols):\n",
        "    # Get the data for the current column\n",
        "    column = df_numeric.iloc[:, col]\n",
        "    \n",
        "    # Calculate the median, first quartile (Q1), and third quartile (Q3) of the data\n",
        "    median = np.median(column)\n",
        "    Q1 = np.percentile(column, 25)\n",
        "    Q3 = np.percentile(column, 75)\n",
        "    \n",
        "    # Calculate the interquartile range (IQR)\n",
        "    IQR = Q3 - Q1\n",
        "    \n",
        "    # Calculate the lower and upper bounds for outliers\n",
        "    lower_bound = Q1 - (1.5 * IQR)\n",
        "    upper_bound = Q3 + (1.5 * IQR)\n",
        "    \n",
        "    # Identify outliers based on the lower and upper bounds\n",
        "    outliers = column[(column < lower_bound) | (column > upper_bound)]\n",
        "    \n",
        "    # Remove outliers from the data\n",
        "    cleaned_column = column[(column >= lower_bound) & (column <= upper_bound)]\n",
        "    \n",
        "    # Add the cleaned data for the current column to the list of cleaned data\n",
        "    cleaned_data.append(cleaned_column)\n",
        "\n",
        "# Convert the list of cleaned data into a dataframe\n",
        "cleaned_data = pd.DataFrame(cleaned_data).T\n",
        "\n",
        "# Combine the cleaned numeric data with the non-numeric data\n",
        "cleaned_df = pd.concat([df_non_numeric, cleaned_data], axis=1)\n",
        "\n",
        "# Drop the rows containing outliers from the original dataframe\n",
        "df = df.drop(outliers.index, axis=0)\n"
      ],
      "metadata": {
        "id": "RbMvkjfXnMY1"
      },
      "id": "RbMvkjfXnMY1",
      "execution_count": 78,
      "outputs": []
    },
    {
      "cell_type": "code",
      "source": [
        "# shape of the cleaned data and cleaned data after dropping outliers\n",
        "\n",
        "print(cleaned_df.shape)\n",
        "print(df.shape)"
      ],
      "metadata": {
        "colab": {
          "base_uri": "https://localhost:8080/"
        },
        "id": "ieZoXJnNri9M",
        "outputId": "8c9a8423-c5c8-431c-e105-bf24c96bfb73"
      },
      "id": "ieZoXJnNri9M",
      "execution_count": 79,
      "outputs": [
        {
          "output_type": "stream",
          "name": "stdout",
          "text": [
            "(549346, 21)\n",
            "(517468, 21)\n"
          ]
        }
      ]
    },
    {
      "cell_type": "code",
      "source": [
        "# number of rows with outliers that are deleted from the dataset\n",
        "\n",
        "print(f\"Total number of rows removed: {cleaned_df.shape[0]- df.shape[0]}\")"
      ],
      "metadata": {
        "colab": {
          "base_uri": "https://localhost:8080/"
        },
        "id": "QDfbMvJKxexO",
        "outputId": "5100103b-8d8d-4f35-9b5a-735300b14d8c"
      },
      "id": "QDfbMvJKxexO",
      "execution_count": 80,
      "outputs": [
        {
          "output_type": "stream",
          "name": "stdout",
          "text": [
            "Total number of rows removed: 31878\n"
          ]
        }
      ]
    },
    {
      "cell_type": "code",
      "execution_count": 81,
      "id": "0b9ce45d",
      "metadata": {
        "colab": {
          "base_uri": "https://localhost:8080/",
          "height": 609
        },
        "id": "0b9ce45d",
        "outputId": "c6ebe6fd-1afc-4bdd-8587-3d3d2d588012"
      },
      "outputs": [
        {
          "output_type": "execute_result",
          "data": {
            "text/plain": [
              "<matplotlib.axes._subplots.AxesSubplot at 0x7f2da3d93310>"
            ]
          },
          "metadata": {},
          "execution_count": 81
        },
        {
          "output_type": "display_data",
          "data": {
            "text/plain": [
              "<Figure size 1080x720 with 1 Axes>"
            ],
            "image/png": "[encoded data removed]"
          },
          "metadata": {
            "needs_background": "light"
          }
        }
      ],
      "source": [
        "# plotting the cleaned dataframe to check for outliers\n",
        "\n",
        "fig, ax = plt.subplots(figsize=(15,10))\n",
        "sns.boxplot(data=df, width= 0.5,ax=ax,  fliersize=3)"
      ]
    },
    {
      "cell_type": "markdown",
      "id": "fa0aae04",
      "metadata": {
        "id": "fa0aae04"
      },
      "source": [
        "**Report**\n",
        "\n",
        "* Outliers are mostly seems to be handled in the data set. There are still some values which are outside of the max value\n",
        "\n",
        "* This is alright for now as it won't affect the model as much"
      ]
    },
    {
      "cell_type": "code",
      "source": [
        "#checking null values after outlier handling\n",
        "\n",
        "df.isnull().sum()"
      ],
      "metadata": {
        "colab": {
          "base_uri": "https://localhost:8080/"
        },
        "id": "XxhW-EjPydoq",
        "outputId": "7dcdd06a-9154-4971-f85f-907754151c3c"
      },
      "id": "XxhW-EjPydoq",
      "execution_count": 82,
      "outputs": [
        {
          "output_type": "execute_result",
          "data": {
            "text/plain": [
              "URL                            0\n",
              "Label                          0\n",
              "domain_name                    1\n",
              "path                       62004\n",
              "qty_dot_url                    0\n",
              "qty_hyphen_url                 0\n",
              "qty_underline_url              0\n",
              "qty_slash_url                  0\n",
              "qty_question_mark_url          0\n",
              "qty_equal_sign_url             0\n",
              "qty_at_sign_url                0\n",
              "qty_and_sign_url               0\n",
              "qty_exclaimation_url           0\n",
              "qty_spaces_url                 0\n",
              "qty_commas_url                 0\n",
              "qty_plus_sign_url              0\n",
              "qty_asterisk_url               0\n",
              "qty_hashtags_url               0\n",
              "qty_dollar_sign_url            0\n",
              "qty_percentile_sign_url        0\n",
              "url_length                     0\n",
              "dtype: int64"
            ]
          },
          "metadata": {},
          "execution_count": 82
        }
      ]
    },
    {
      "cell_type": "markdown",
      "id": "b9d3efd7",
      "metadata": {
        "id": "b9d3efd7"
      },
      "source": [
        "# Create functions for model training and evaluation"
      ]
    },
    {
      "cell_type": "code",
      "execution_count": 139,
      "id": "629f3774",
      "metadata": {
        "id": "629f3774"
      },
      "outputs": [],
      "source": [
        "# Create a function to get the scores for each model\n",
        "def evaluate_clf(true, predicted):\n",
        "    '''\n",
        "    This function takes in true values and predicted values\n",
        "    Returns: Accuracy, F1-Score, Precision, Recall, Roc-auc Score\n",
        "    '''\n",
        "    acc = accuracy_score(true, predicted) # Calculate Accuracy\n",
        "    f1 = f1_score(true, predicted) # Calculate F1-score\n",
        "    precision = precision_score(true, predicted) # Calculate Precision\n",
        "    recall = recall_score(true, predicted)  # Calculate Recall\n",
        "    roc_auc = roc_auc_score(true, predicted) #Calculate Roc\n",
        "    return acc, f1 , precision, recall, roc_auc\n"
      ]
    },
    {
      "cell_type": "code",
      "execution_count": 140,
      "id": "9f30fe5d",
      "metadata": {
        "id": "9f30fe5d"
      },
      "outputs": [],
      "source": [
        "# Create cost of the model as per data description\n",
        "\n",
        "def total_cost(y_true, y_pred):\n",
        "    '''\n",
        "    This function takes y_ture, y_predicted, and prints Total cost due to misclassification\n",
        "   \n",
        "    '''\n",
        "    tn, fp, fn, tp = confusion_matrix(y_true, y_pred).ravel()\n",
        "    cost = 10*fp + 500*fn\n",
        "    return cost"
      ]
    },
    {
      "cell_type": "code",
      "execution_count": 141,
      "id": "d12272d6",
      "metadata": {
        "id": "d12272d6"
      },
      "outputs": [],
      "source": [
        "# Create a function which can evaluate models and return a report \n",
        "\n",
        "def evaluate_models(X, y, models):\n",
        "    '''\n",
        "    This function takes in X and y and models dictionary as input\n",
        "    It splits the data into Train Test split\n",
        "    Iterates through the given model dictionary and evaluates the metrics\n",
        "    Returns: Dataframe which contains report of all models metrics with cost\n",
        "    '''\n",
        "    # separate dataset into train and test\n",
        "    X_train, X_test, y_train, y_test = train_test_split(X,y,test_size=0.2,random_state=42)\n",
        "    \n",
        "    cost_list=[]\n",
        "    models_list = []\n",
        "    accuracy_list = []\n",
        "    \n",
        "    for i in range(len(list(models))):\n",
        "        model = list(models.values())[i]\n",
        "        model.fit(X_train, y_train) # Train model\n",
        "\n",
        "        # Make predictions\n",
        "        y_train_pred = model.predict(X_train)\n",
        "        y_test_pred = model.predict(X_test)\n",
        "\n",
        "        # Training set performance\n",
        "        model_train_accuracy, model_train_f1,model_train_precision,\\\n",
        "        model_train_recall,model_train_rocauc_score=evaluate_clf(y_train ,y_train_pred)\n",
        "        train_cost = total_cost(y_train, y_train_pred)\n",
        "\n",
        "\n",
        "        # Test set performance\n",
        "        model_test_accuracy,model_test_f1,model_test_precision,\\\n",
        "        model_test_recall,model_test_rocauc_score=evaluate_clf(y_test, y_test_pred)\n",
        "        test_cost = total_cost(y_test, y_test_pred)\n",
        "\n",
        "        print(list(models.keys())[i])\n",
        "        models_list.append(list(models.keys())[i])\n",
        "\n",
        "        print('Model performance for Training set')\n",
        "        print(\"- Accuracy: {:.4f}\".format(model_train_accuracy))\n",
        "        print('- F1 score: {:.4f}'.format(model_train_f1)) \n",
        "        print('- Precision: {:.4f}'.format(model_train_precision))\n",
        "        print('- Recall: {:.4f}'.format(model_train_recall))\n",
        "        print('- Roc Auc Score: {:.4f}'.format(model_train_rocauc_score))\n",
        "        print(f'- COST: {train_cost}.')\n",
        "\n",
        "        print('----------------------------------')\n",
        "\n",
        "        print('Model performance for Test set')\n",
        "        print('- Accuracy: {:.4f}'.format(model_test_accuracy))\n",
        "        print('- F1 score: {:.4f}'.format(model_test_f1))\n",
        "        print('- Precision: {:.4f}'.format(model_test_precision))\n",
        "        print('- Recall: {:.4f}'.format(model_test_recall))\n",
        "        print('- Roc Auc Score: {:.4f}'.format(model_test_rocauc_score))\n",
        "        print(f'- COST: {test_cost}.')\n",
        "        cost_list.append(test_cost)\n",
        "        print('='*35)\n",
        "        print('\\n')\n",
        "        \n",
        "    report=pd.DataFrame(list(zip(models_list, cost_list)), columns=['Model Name', 'Cost']).sort_values(by=[\"Cost\"])\n",
        "        \n",
        "    return report"
      ]
    },
    {
      "cell_type": "markdown",
      "id": "6b99dd13",
      "metadata": {
        "id": "6b99dd13"
      },
      "source": [
        "# Evaluate model on different experiments"
      ]
    },
    {
      "cell_type": "code",
      "execution_count": 142,
      "id": "c3ec3f3a",
      "metadata": {
        "id": "c3ec3f3a"
      },
      "outputs": [],
      "source": [
        "# Creating a smaller sample of the data set since the dataset is huge and this will help optimizing the computing time and power\n",
        "\n",
        "subset_size = 55000 # you can adjust this to the size you want\n",
        "random_indices = np.random.choice(df.index, size=subset_size, replace=False)\n",
        "df_subset = df.loc[random_indices]"
      ]
    },
    {
      "cell_type": "code",
      "execution_count": 143,
      "id": "7f24294e",
      "metadata": {
        "id": "7f24294e"
      },
      "outputs": [],
      "source": [
        "# splitting X, y for all experiments\n",
        "\n",
        "X = df_subset[[feature for feature in df.columns if df[feature].dtype != 'O']]\n",
        "y = df_subset['Label']"
      ]
    },
    {
      "cell_type": "code",
      "execution_count": 144,
      "id": "74b89f98",
      "metadata": {
        "id": "74b89f98",
        "colab": {
          "base_uri": "https://localhost:8080/",
          "height": 35
        },
        "outputId": "25775e17-bc97-4b18-dfc7-73b02bcedaf6"
      },
      "outputs": [
        {
          "output_type": "execute_result",
          "data": {
            "text/plain": [
              "\"# splitting X, y for all experiments\\n\\nX = df[[feature for feature in df.columns if df[feature].dtype != 'O']]\\ny = df['Label']\""
            ],
            "application/vnd.google.colaboratory.intrinsic+json": {
              "type": "string"
            }
          },
          "metadata": {},
          "execution_count": 144
        }
      ],
      "source": [
        "'''# splitting X, y for all experiments\n",
        "\n",
        "X = df[[feature for feature in df.columns if df[feature].dtype != 'O']]\n",
        "y = df['Label']'''"
      ]
    },
    {
      "cell_type": "code",
      "execution_count": 145,
      "id": "100ee9a7",
      "metadata": {
        "colab": {
          "base_uri": "https://localhost:8080/"
        },
        "id": "100ee9a7",
        "outputId": "edf36a8c-47cf-48b7-e4db-4a03c80262d8"
      },
      "outputs": [
        {
          "output_type": "execute_result",
          "data": {
            "text/plain": [
              "array([1, 0])"
            ]
          },
          "metadata": {},
          "execution_count": 145
        }
      ],
      "source": [
        "# Encoding the target variable\n",
        "\n",
        "y = y.replace({'good':1, 'bad':0})\n",
        "y.unique()"
      ]
    },
    {
      "cell_type": "markdown",
      "id": "95c5afe5",
      "metadata": {
        "id": "95c5afe5"
      },
      "source": [
        "# Experiment: 1 = KNN Imputer for Null values\n",
        "\n",
        "**Why Robust scaler and not Standard scaler?**\n",
        "\n",
        "* Scaling the data using Robust scaler\n",
        "* Since most of the independent variables are not normally distributed we cannot use Standardscaler\n",
        "\n",
        "**Why Robust Scaler and not Minmax?**\n",
        "\n",
        "* Because most of the feature has outliers. So Minmax will scale data according to Max values which is outlier.\n",
        "* This Scaler removes the median and scales the data according to the quantile range (defaults to IQR: Interquartile Range). The IQR is the range between the 1st quartile (25th quantile) and the 3rd quartile (75th quantile).\n",
        "\n",
        "**Why KNN Imputer?**\n",
        "\n",
        "* KNN Imputer by scikit-learn is a widely used method to impute missing values. It is widely being observed as a replacement for traditional imputation techniques.\n",
        "* KNNImputer helps to impute missing values present in the observations by finding the nearest neighbors with the Euclidean distance matrix.\n",
        "* Here we Iterates through different K values and get accuracy and choose best K values."
      ]
    },
    {
      "cell_type": "code",
      "execution_count": 146,
      "id": "b6d67bbe",
      "metadata": {
        "id": "b6d67bbe"
      },
      "outputs": [],
      "source": [
        "# fit with robust scaler for KNN best K-selection experiment\n",
        "\n",
        "robustscaler = RobustScaler()\n",
        "X1 = robustscaler.fit_transform(X)"
      ]
    },
    {
      "cell_type": "code",
      "execution_count": 147,
      "id": "ea5fd402",
      "metadata": {
        "colab": {
          "base_uri": "https://localhost:8080/"
        },
        "id": "ea5fd402",
        "outputId": "85bc1ac0-ef6e-4ab3-96bb-49d60ca8e00f"
      },
      "outputs": [
        {
          "output_type": "stream",
          "name": "stdout",
          "text": [
            "n_neighbors= 1 || accuracy (0.7513)\n",
            "n_neighbors= 3 || accuracy (0.7513)\n",
            "n_neighbors= 5 || accuracy (0.7513)\n",
            "n_neighbors= 7 || accuracy (0.7513)\n",
            "n_neighbors= 9 || accuracy (0.7513)\n"
          ]
        }
      ],
      "source": [
        "# finding the optimal N neighbour for KNN imputer\n",
        "\n",
        "results = []\n",
        "imputer = KNNImputer(n_neighbors = 5, weights = 'uniform', metric = 'nan_euclidean')\n",
        "strategies = [str(i) for i in [1,3,5,7,9]]\n",
        "for s in strategies: \n",
        "    pipeline = Pipeline(steps= [('i', KNNImputer(n_neighbors = int(s))), ('m',LogisticRegression())])\n",
        "    scores = cross_val_score(pipeline, X1, y, scoring = 'accuracy', cv = 2, n_jobs = -1)\n",
        "    results.append(scores)\n",
        "    print('n_neighbors= %s || accuracy (%.4f)' % (s , mean(scores)))\n"
      ]
    },
    {
      "cell_type": "markdown",
      "id": "f45bd71c",
      "metadata": {
        "id": "f45bd71c"
      },
      "source": [
        "**All n_neighbor seem to give the same accuracy**"
      ]
    },
    {
      "cell_type": "markdown",
      "id": "48bbe046",
      "metadata": {
        "id": "48bbe046"
      },
      "source": [
        "# Pipeline for KNN imputer"
      ]
    },
    {
      "cell_type": "code",
      "execution_count": 148,
      "id": "567cb2eb",
      "metadata": {
        "id": "567cb2eb"
      },
      "outputs": [],
      "source": [
        "# Fit the KNN imputer with selected K value\n",
        "knn_pipeline = Pipeline(steps = [\n",
        "    ('imputer', KNNImputer(n_neighbors = 3)),\n",
        "    ('RobustScaler', RobustScaler())\n",
        "])"
      ]
    },
    {
      "cell_type": "code",
      "execution_count": 149,
      "id": "729e5d41",
      "metadata": {
        "id": "729e5d41"
      },
      "outputs": [],
      "source": [
        "X_knn = knn_pipeline.fit_transform(X)"
      ]
    },
    {
      "cell_type": "markdown",
      "id": "4a9ea992",
      "metadata": {
        "id": "4a9ea992"
      },
      "source": [
        "# Handling Imbalanced data\n",
        "\n",
        "**SMOTE+TOMEK** is one of such a hybrid technique that aims to clean overlapping data points for each of the classes distributed in sample space.\n",
        "\n",
        "* This method combines the SMOTE ability to generate synthetic data for minority class and Tomek Links ability to remove the data that are identified as Tomek links from the majority class\n",
        "\n",
        "* To add new data of minority class\n",
        "\n",
        "1. Choose random data from the minority class.\n",
        "2. Calculate the distance between the random data and its k nearest neighbors.\n",
        "3. Multiply the difference with a random number between 0 and 1, then add the result to the minority class as a synthetic sample.\n",
        "4. Repeat step number 2–3 until the desired proportion of minority class is met.\n",
        "\n",
        "* To remove the tomek links of the majority class\n",
        "\n",
        "1. Choose random data from the majority class.\n",
        "2. If the random data’s nearest neighbor is the data from the minority class (i.e. create the Tomek Link), then remove the Tomek Link.\n",
        "\n",
        "* This is method instead of adding duplicate data it synthesises the new data based on the already avalialble classes. Hence we choose this as our imputer method for this problem."
      ]
    },
    {
      "cell_type": "code",
      "execution_count": 150,
      "id": "5224788a",
      "metadata": {
        "id": "5224788a"
      },
      "outputs": [],
      "source": [
        "# Resampling the minority class. The strategy can be changed as required.\n",
        "smt = SMOTETomek(random_state=1,sampling_strategy='minority',n_jobs=-1)\n",
        "# Fit the model to generate the data.\n",
        "X_res, y_res = smt.fit_resample(X_knn, y)"
      ]
    },
    {
      "cell_type": "markdown",
      "id": "1cfdd50e",
      "metadata": {
        "id": "1cfdd50e"
      },
      "source": [
        "# Initialize Default Models in a dictionary"
      ]
    },
    {
      "cell_type": "code",
      "execution_count": 151,
      "id": "b7872b8d",
      "metadata": {
        "id": "b7872b8d"
      },
      "outputs": [],
      "source": [
        "# Dictionary which contains models for experiment\n",
        "models = {\n",
        "    \"Random Forest\": RandomForestClassifier(),\n",
        "    \"Decision Tree\": DecisionTreeClassifier(),\n",
        "    \"Gradient Boosting\": GradientBoostingClassifier(),\n",
        "    \"Logistic Regression\": LogisticRegression(),\n",
        "     \"K-Neighbors Classifier\": KNeighborsClassifier(),\n",
        "    \"XGBClassifier\": XGBClassifier(), \n",
        "     \"CatBoosting Classifier\": CatBoostClassifier(verbose=False),\n",
        "    \"AdaBoost Classifier\": AdaBoostClassifier()\n",
        "}"
      ]
    },
    {
      "cell_type": "markdown",
      "id": "683bd003",
      "metadata": {
        "id": "683bd003"
      },
      "source": [
        "# Experiment 1: Fit KNN imputed data for models in dictionary"
      ]
    },
    {
      "cell_type": "code",
      "execution_count": 152,
      "id": "af4113b5",
      "metadata": {
        "id": "af4113b5",
        "outputId": "6af59c58-6153-4d73-8379-b08a425f94ef",
        "colab": {
          "base_uri": "https://localhost:8080/"
        }
      },
      "outputs": [
        {
          "output_type": "stream",
          "name": "stdout",
          "text": [
            "Random Forest\n",
            "Model performance for Training set\n",
            "- Accuracy: 0.7984\n",
            "- F1 score: 0.7865\n",
            "- Precision: 0.8385\n",
            "- Recall: 0.7405\n",
            "- Roc Auc Score: 0.7985\n",
            "- COST: 4216360.\n",
            "----------------------------------\n",
            "Model performance for Test set\n",
            "- Accuracy: 0.7574\n",
            "- F1 score: 0.7434\n",
            "- Precision: 0.7790\n",
            "- Recall: 0.7109\n",
            "- Roc Auc Score: 0.7569\n",
            "- COST: 1161480.\n",
            "===================================\n",
            "\n",
            "\n",
            "Decision Tree\n",
            "Model performance for Training set\n",
            "- Accuracy: 0.7984\n",
            "- F1 score: 0.7844\n",
            "- Precision: 0.8457\n",
            "- Recall: 0.7314\n",
            "- Roc Auc Score: 0.7986\n",
            "- COST: 4360400.\n",
            "----------------------------------\n",
            "Model performance for Test set\n",
            "- Accuracy: 0.7525\n",
            "- F1 score: 0.7361\n",
            "- Precision: 0.7784\n",
            "- Recall: 0.6982\n",
            "- Roc Auc Score: 0.7519\n",
            "- COST: 1211750.\n",
            "===================================\n",
            "\n",
            "\n",
            "Gradient Boosting\n",
            "Model performance for Training set\n",
            "- Accuracy: 0.6948\n",
            "- F1 score: 0.6635\n",
            "- Precision: 0.7418\n",
            "- Recall: 0.6001\n",
            "- Roc Auc Score: 0.6950\n",
            "- COST: 6494150.\n",
            "----------------------------------\n",
            "Model performance for Test set\n",
            "- Accuracy: 0.6897\n",
            "- F1 score: 0.6556\n",
            "- Precision: 0.7263\n",
            "- Recall: 0.5975\n",
            "- Roc Auc Score: 0.6887\n",
            "- COST: 1612840.\n",
            "===================================\n",
            "\n",
            "\n",
            "Logistic Regression\n",
            "Model performance for Training set\n",
            "- Accuracy: 0.6405\n",
            "- F1 score: 0.6356\n",
            "- Precision: 0.6463\n",
            "- Recall: 0.6252\n",
            "- Roc Auc Score: 0.6406\n",
            "- COST: 6134000.\n",
            "----------------------------------\n",
            "Model performance for Test set\n",
            "- Accuracy: 0.6489\n",
            "- F1 score: 0.6410\n",
            "- Precision: 0.6481\n",
            "- Recall: 0.6341\n",
            "- Roc Auc Score: 0.6487\n",
            "- COST: 1477280.\n",
            "===================================\n",
            "\n",
            "\n",
            "K-Neighbors Classifier\n",
            "Model performance for Training set\n",
            "- Accuracy: 0.7428\n",
            "- F1 score: 0.7416\n",
            "- Precision: 0.7473\n",
            "- Recall: 0.7359\n",
            "- Roc Auc Score: 0.7429\n",
            "- COST: 4324490.\n",
            "----------------------------------\n",
            "Model performance for Test set\n",
            "- Accuracy: 0.7122\n",
            "- F1 score: 0.7085\n",
            "- Precision: 0.7096\n",
            "- Recall: 0.7075\n",
            "- Roc Auc Score: 0.7122\n",
            "- COST: 1181950.\n",
            "===================================\n",
            "\n",
            "\n",
            "XGBClassifier\n",
            "Model performance for Training set\n",
            "- Accuracy: 0.6953\n",
            "- F1 score: 0.6595\n",
            "- Precision: 0.7500\n",
            "- Recall: 0.5885\n",
            "- Roc Auc Score: 0.6956\n",
            "- COST: 6676570.\n",
            "----------------------------------\n",
            "Model performance for Test set\n",
            "- Accuracy: 0.6914\n",
            "- F1 score: 0.6530\n",
            "- Precision: 0.7353\n",
            "- Recall: 0.5873\n",
            "- Roc Auc Score: 0.6903\n",
            "- COST: 1652250.\n",
            "===================================\n",
            "\n",
            "\n",
            "CatBoosting Classifier\n",
            "Model performance for Training set\n",
            "- Accuracy: 0.7626\n",
            "- F1 score: 0.7484\n",
            "- Precision: 0.7984\n",
            "- Recall: 0.7043\n",
            "- Roc Auc Score: 0.7627\n",
            "- COST: 4809680.\n",
            "----------------------------------\n",
            "Model performance for Test set\n",
            "- Accuracy: 0.7571\n",
            "- F1 score: 0.7417\n",
            "- Precision: 0.7822\n",
            "- Recall: 0.7051\n",
            "- Roc Auc Score: 0.7566\n",
            "- COST: 1184060.\n",
            "===================================\n",
            "\n",
            "\n",
            "AdaBoost Classifier\n",
            "Model performance for Training set\n",
            "- Accuracy: 0.6801\n",
            "- F1 score: 0.6608\n",
            "- Precision: 0.7054\n",
            "- Recall: 0.6216\n",
            "- Roc Auc Score: 0.6802\n",
            "- COST: 6165970.\n",
            "----------------------------------\n",
            "Model performance for Test set\n",
            "- Accuracy: 0.6779\n",
            "- F1 score: 0.6571\n",
            "- Precision: 0.6936\n",
            "- Recall: 0.6244\n",
            "- Roc Auc Score: 0.6773\n",
            "- COST: 1510360.\n",
            "===================================\n",
            "\n",
            "\n"
          ]
        }
      ],
      "source": [
        "report_knn = evaluate_models(X_res, y_res, models)"
      ]
    },
    {
      "cell_type": "markdown",
      "source": [
        "# Report for KNN Imputed data"
      ],
      "metadata": {
        "id": "PP-K218tD2aH"
      },
      "id": "PP-K218tD2aH"
    },
    {
      "cell_type": "code",
      "source": [
        "report_knn"
      ],
      "metadata": {
        "colab": {
          "base_uri": "https://localhost:8080/",
          "height": 300
        },
        "id": "OOYK-7EHD40A",
        "outputId": "fdc0f1c2-bdaa-4fca-a5aa-167eee61196c"
      },
      "id": "OOYK-7EHD40A",
      "execution_count": 153,
      "outputs": [
        {
          "output_type": "execute_result",
          "data": {
            "text/plain": [
              "               Model Name     Cost\n",
              "0           Random Forest  1161480\n",
              "4  K-Neighbors Classifier  1181950\n",
              "6  CatBoosting Classifier  1184060\n",
              "1           Decision Tree  1211750\n",
              "3     Logistic Regression  1477280\n",
              "7     AdaBoost Classifier  1510360\n",
              "2       Gradient Boosting  1612840\n",
              "5           XGBClassifier  1652250"
            ],
            "text/html": [
              "\n",
              "  <div id=\"df-d2c440a8-9935-4664-a3a3-835e83cf672e\">\n",
              "    <div class=\"colab-df-container\">\n",
              "      <div>\n",
              "<style scoped>\n",
              "    .dataframe tbody tr th:only-of-type {\n",
              "        vertical-align: middle;\n",
              "    }\n",
              "\n",
              "    .dataframe tbody tr th {\n",
              "        vertical-align: top;\n",
              "    }\n",
              "\n",
              "    .dataframe thead th {\n",
              "        text-align: right;\n",
              "    }\n",
              "</style>\n",
              "<table border=\"1\" class=\"dataframe\">\n",
              "  <thead>\n",
              "    <tr style=\"text-align: right;\">\n",
              "      <th></th>\n",
              "      <th>Model Name</th>\n",
              "      <th>Cost</th>\n",
              "    </tr>\n",
              "  </thead>\n",
              "  <tbody>\n",
              "    <tr>\n",
              "      <th>0</th>\n",
              "      <td>Random Forest</td>\n",
              "      <td>1161480</td>\n",
              "    </tr>\n",
              "    <tr>\n",
              "      <th>4</th>\n",
              "      <td>K-Neighbors Classifier</td>\n",
              "      <td>1181950</td>\n",
              "    </tr>\n",
              "    <tr>\n",
              "      <th>6</th>\n",
              "      <td>CatBoosting Classifier</td>\n",
              "      <td>1184060</td>\n",
              "    </tr>\n",
              "    <tr>\n",
              "      <th>1</th>\n",
              "      <td>Decision Tree</td>\n",
              "      <td>1211750</td>\n",
              "    </tr>\n",
              "    <tr>\n",
              "      <th>3</th>\n",
              "      <td>Logistic Regression</td>\n",
              "      <td>1477280</td>\n",
              "    </tr>\n",
              "    <tr>\n",
              "      <th>7</th>\n",
              "      <td>AdaBoost Classifier</td>\n",
              "      <td>1510360</td>\n",
              "    </tr>\n",
              "    <tr>\n",
              "      <th>2</th>\n",
              "      <td>Gradient Boosting</td>\n",
              "      <td>1612840</td>\n",
              "    </tr>\n",
              "    <tr>\n",
              "      <th>5</th>\n",
              "      <td>XGBClassifier</td>\n",
              "      <td>1652250</td>\n",
              "    </tr>\n",
              "  </tbody>\n",
              "</table>\n",
              "</div>\n",
              "      <button class=\"colab-df-convert\" onclick=\"convertToInteractive('df-d2c440a8-9935-4664-a3a3-835e83cf672e')\"\n",
              "              title=\"Convert this dataframe to an interactive table.\"\n",
              "              style=\"display:none;\">\n",
              "        \n",
              "  <svg xmlns=\"http://www.w3.org/2000/svg\" height=\"24px\"viewBox=\"0 0 24 24\"\n",
              "       width=\"24px\">\n",
              "    <path d=\"M0 0h24v24H0V0z\" fill=\"none\"/>\n",
              "    <path d=\"M18.56 5.44l.94 2.06.94-2.06 2.06-.94-2.06-.94-.94-2.06-.94 2.06-2.06.94zm-11 1L8.5 8.5l.94-2.06 2.06-.94-2.06-.94L8.5 2.5l-.94 2.06-2.06.94zm10 10l.94 2.06.94-2.06 2.06-.94-2.06-.94-.94-2.06-.94 2.06-2.06.94z\"/><path d=\"M17.41 7.96l-1.37-1.37c-.4-.4-.92-.59-1.43-.59-.52 0-1.04.2-1.43.59L10.3 9.45l-7.72 7.72c-.78.78-.78 2.05 0 2.83L4 21.41c.39.39.9.59 1.41.59.51 0 1.02-.2 1.41-.59l7.78-7.78 2.81-2.81c.8-.78.8-2.07 0-2.86zM5.41 20L4 18.59l7.72-7.72 1.47 1.35L5.41 20z\"/>\n",
              "  </svg>\n",
              "      </button>\n",
              "      \n",
              "  <style>\n",
              "    .colab-df-container {\n",
              "      display:flex;\n",
              "      flex-wrap:wrap;\n",
              "      gap: 12px;\n",
              "    }\n",
              "\n",
              "    .colab-df-convert {\n",
              "      background-color: #E8F0FE;\n",
              "      border: none;\n",
              "      border-radius: 50%;\n",
              "      cursor: pointer;\n",
              "      display: none;\n",
              "      fill: #1967D2;\n",
              "      height: 32px;\n",
              "      padding: 0 0 0 0;\n",
              "      width: 32px;\n",
              "    }\n",
              "\n",
              "    .colab-df-convert:hover {\n",
              "      background-color: #E2EBFA;\n",
              "      box-shadow: 0px 1px 2px rgba(60, 64, 67, 0.3), 0px 1px 3px 1px rgba(60, 64, 67, 0.15);\n",
              "      fill: #174EA6;\n",
              "    }\n",
              "\n",
              "    [theme=dark] .colab-df-convert {\n",
              "      background-color: #3B4455;\n",
              "      fill: #D2E3FC;\n",
              "    }\n",
              "\n",
              "    [theme=dark] .colab-df-convert:hover {\n",
              "      background-color: #434B5C;\n",
              "      box-shadow: 0px 1px 3px 1px rgba(0, 0, 0, 0.15);\n",
              "      filter: drop-shadow(0px 1px 2px rgba(0, 0, 0, 0.3));\n",
              "      fill: #FFFFFF;\n",
              "    }\n",
              "  </style>\n",
              "\n",
              "      <script>\n",
              "        const buttonEl =\n",
              "          document.querySelector('#df-d2c440a8-9935-4664-a3a3-835e83cf672e button.colab-df-convert');\n",
              "        buttonEl.style.display =\n",
              "          google.colab.kernel.accessAllowed ? 'block' : 'none';\n",
              "\n",
              "        async function convertToInteractive(key) {\n",
              "          const element = document.querySelector('#df-d2c440a8-9935-4664-a3a3-835e83cf672e');\n",
              "          const dataTable =\n",
              "            await google.colab.kernel.invokeFunction('convertToInteractive',\n",
              "                                                     [key], {});\n",
              "          if (!dataTable) return;\n",
              "\n",
              "          const docLinkHtml = 'Like what you see? Visit the ' +\n",
              "            '<a target=\"_blank\" href=https://colab.research.google.com/notebooks/data_table.ipynb>data table notebook</a>'\n",
              "            + ' to learn more about interactive tables.';\n",
              "          element.innerHTML = '';\n",
              "          dataTable['output_type'] = 'display_data';\n",
              "          await google.colab.output.renderOutput(dataTable, element);\n",
              "          const docLink = document.createElement('div');\n",
              "          docLink.innerHTML = docLinkHtml;\n",
              "          element.appendChild(docLink);\n",
              "        }\n",
              "      </script>\n",
              "    </div>\n",
              "  </div>\n",
              "  "
            ]
          },
          "metadata": {},
          "execution_count": 153
        }
      ]
    },
    {
      "cell_type": "markdown",
      "source": [
        "**Insights**\n",
        "\n",
        "* For the Experiment 1: Knn imputer has Random Forest as the best Model\n",
        "* Proceeding with further experiments"
      ],
      "metadata": {
        "id": "wgoAQ8STEE1S"
      },
      "id": "wgoAQ8STEE1S"
    },
    {
      "cell_type": "code",
      "source": [],
      "metadata": {
        "id": "1PHXEWIAD71R"
      },
      "id": "1PHXEWIAD71R",
      "execution_count": 153,
      "outputs": []
    },
    {
      "cell_type": "markdown",
      "source": [
        "# Experiment 2: Simple imputer with strategy mean\n",
        "\n",
        "* SimpleImputer is a class in the sklearn.impute module that can be used to replace missing values in a dataset, using a variety of input strategies.\n",
        "* Here we use SimpleImputer to impute multiple columns at once by passing in a list of column names. \n",
        "* SimpleImputer will then replace missing values in all of the specified columns."
      ],
      "metadata": {
        "id": "ciX2nWGrER6P"
      },
      "id": "ciX2nWGrER6P"
    },
    {
      "cell_type": "code",
      "source": [
        "num_features = X.select_dtypes(exclude=\"object\").columns\n",
        "\n",
        "# Fit the Simple imputer with strategy median\n",
        "median_pipeline = Pipeline(steps=[\n",
        "    ('imputer', SimpleImputer(strategy='median')),\n",
        "    ('RobustScaler', RobustScaler())\n",
        "])"
      ],
      "metadata": {
        "id": "n9yMDBbuEPJz"
      },
      "id": "n9yMDBbuEPJz",
      "execution_count": 154,
      "outputs": []
    },
    {
      "cell_type": "code",
      "source": [
        "# Fit X with median_pipeline\n",
        "X_median = median_pipeline.fit_transform(X)"
      ],
      "metadata": {
        "id": "sQ4TfJbKE3Qc"
      },
      "id": "sQ4TfJbKE3Qc",
      "execution_count": 155,
      "outputs": []
    },
    {
      "cell_type": "code",
      "source": [
        "# Resampling the minority class. The strategy can be changed as required.\n",
        "smt = SMOTETomek(random_state=1,sampling_strategy='minority')\n",
        "# Fit the model to generate the data.\n",
        "X_res, y_res = smt.fit_resample(X_median, y)"
      ],
      "metadata": {
        "id": "A-ilL4Y1E50d"
      },
      "id": "A-ilL4Y1E50d",
      "execution_count": 156,
      "outputs": []
    },
    {
      "cell_type": "code",
      "source": [
        "# Training the models\n",
        "report_median = evaluate_models(X_res, y_res, models)"
      ],
      "metadata": {
        "colab": {
          "base_uri": "https://localhost:8080/"
        },
        "id": "dKetP1JBE-tu",
        "outputId": "80173ac7-5b74-4fdb-ff54-72ee7d471e7a"
      },
      "id": "dKetP1JBE-tu",
      "execution_count": 157,
      "outputs": [
        {
          "output_type": "stream",
          "name": "stdout",
          "text": [
            "Random Forest\n",
            "Model performance for Training set\n",
            "- Accuracy: 0.7984\n",
            "- F1 score: 0.7869\n",
            "- Precision: 0.8373\n",
            "- Recall: 0.7422\n",
            "- Roc Auc Score: 0.7986\n",
            "- COST: 4189880.\n",
            "----------------------------------\n",
            "Model performance for Test set\n",
            "- Accuracy: 0.7574\n",
            "- F1 score: 0.7440\n",
            "- Precision: 0.7778\n",
            "- Recall: 0.7131\n",
            "- Roc Auc Score: 0.7569\n",
            "- COST: 1153140.\n",
            "===================================\n",
            "\n",
            "\n",
            "Decision Tree\n",
            "Model performance for Training set\n",
            "- Accuracy: 0.7984\n",
            "- F1 score: 0.7844\n",
            "- Precision: 0.8457\n",
            "- Recall: 0.7314\n",
            "- Roc Auc Score: 0.7986\n",
            "- COST: 4360400.\n",
            "----------------------------------\n",
            "Model performance for Test set\n",
            "- Accuracy: 0.7531\n",
            "- F1 score: 0.7369\n",
            "- Precision: 0.7788\n",
            "- Recall: 0.6993\n",
            "- Roc Auc Score: 0.7525\n",
            "- COST: 1207240.\n",
            "===================================\n",
            "\n",
            "\n",
            "Gradient Boosting\n",
            "Model performance for Training set\n",
            "- Accuracy: 0.6948\n",
            "- F1 score: 0.6635\n",
            "- Precision: 0.7418\n",
            "- Recall: 0.6001\n",
            "- Roc Auc Score: 0.6950\n",
            "- COST: 6494150.\n",
            "----------------------------------\n",
            "Model performance for Test set\n",
            "- Accuracy: 0.6897\n",
            "- F1 score: 0.6556\n",
            "- Precision: 0.7263\n",
            "- Recall: 0.5975\n",
            "- Roc Auc Score: 0.6887\n",
            "- COST: 1612840.\n",
            "===================================\n",
            "\n",
            "\n",
            "Logistic Regression\n",
            "Model performance for Training set\n",
            "- Accuracy: 0.6405\n",
            "- F1 score: 0.6356\n",
            "- Precision: 0.6463\n",
            "- Recall: 0.6252\n",
            "- Roc Auc Score: 0.6406\n",
            "- COST: 6134000.\n",
            "----------------------------------\n",
            "Model performance for Test set\n",
            "- Accuracy: 0.6489\n",
            "- F1 score: 0.6410\n",
            "- Precision: 0.6481\n",
            "- Recall: 0.6341\n",
            "- Roc Auc Score: 0.6487\n",
            "- COST: 1477280.\n",
            "===================================\n",
            "\n",
            "\n",
            "K-Neighbors Classifier\n",
            "Model performance for Training set\n",
            "- Accuracy: 0.7428\n",
            "- F1 score: 0.7416\n",
            "- Precision: 0.7473\n",
            "- Recall: 0.7359\n",
            "- Roc Auc Score: 0.7429\n",
            "- COST: 4324490.\n",
            "----------------------------------\n",
            "Model performance for Test set\n",
            "- Accuracy: 0.7122\n",
            "- F1 score: 0.7085\n",
            "- Precision: 0.7096\n",
            "- Recall: 0.7075\n",
            "- Roc Auc Score: 0.7122\n",
            "- COST: 1181950.\n",
            "===================================\n",
            "\n",
            "\n",
            "XGBClassifier\n",
            "Model performance for Training set\n",
            "- Accuracy: 0.6953\n",
            "- F1 score: 0.6595\n",
            "- Precision: 0.7500\n",
            "- Recall: 0.5885\n",
            "- Roc Auc Score: 0.6956\n",
            "- COST: 6676570.\n",
            "----------------------------------\n",
            "Model performance for Test set\n",
            "- Accuracy: 0.6914\n",
            "- F1 score: 0.6530\n",
            "- Precision: 0.7353\n",
            "- Recall: 0.5873\n",
            "- Roc Auc Score: 0.6903\n",
            "- COST: 1652250.\n",
            "===================================\n",
            "\n",
            "\n",
            "CatBoosting Classifier\n",
            "Model performance for Training set\n",
            "- Accuracy: 0.7626\n",
            "- F1 score: 0.7484\n",
            "- Precision: 0.7984\n",
            "- Recall: 0.7043\n",
            "- Roc Auc Score: 0.7627\n",
            "- COST: 4809680.\n",
            "----------------------------------\n",
            "Model performance for Test set\n",
            "- Accuracy: 0.7571\n",
            "- F1 score: 0.7417\n",
            "- Precision: 0.7822\n",
            "- Recall: 0.7051\n",
            "- Roc Auc Score: 0.7566\n",
            "- COST: 1184060.\n",
            "===================================\n",
            "\n",
            "\n",
            "AdaBoost Classifier\n",
            "Model performance for Training set\n",
            "- Accuracy: 0.6801\n",
            "- F1 score: 0.6608\n",
            "- Precision: 0.7054\n",
            "- Recall: 0.6216\n",
            "- Roc Auc Score: 0.6802\n",
            "- COST: 6165970.\n",
            "----------------------------------\n",
            "Model performance for Test set\n",
            "- Accuracy: 0.6779\n",
            "- F1 score: 0.6571\n",
            "- Precision: 0.6936\n",
            "- Recall: 0.6244\n",
            "- Roc Auc Score: 0.6773\n",
            "- COST: 1510360.\n",
            "===================================\n",
            "\n",
            "\n"
          ]
        }
      ]
    },
    {
      "cell_type": "code",
      "source": [
        "report_median"
      ],
      "metadata": {
        "colab": {
          "base_uri": "https://localhost:8080/",
          "height": 300
        },
        "id": "rMtzrORjFeEI",
        "outputId": "6adc5142-cd62-4145-b161-057bae04e139"
      },
      "id": "rMtzrORjFeEI",
      "execution_count": 158,
      "outputs": [
        {
          "output_type": "execute_result",
          "data": {
            "text/plain": [
              "               Model Name     Cost\n",
              "0           Random Forest  1153140\n",
              "4  K-Neighbors Classifier  1181950\n",
              "6  CatBoosting Classifier  1184060\n",
              "1           Decision Tree  1207240\n",
              "3     Logistic Regression  1477280\n",
              "7     AdaBoost Classifier  1510360\n",
              "2       Gradient Boosting  1612840\n",
              "5           XGBClassifier  1652250"
            ],
            "text/html": [
              "\n",
              "  <div id=\"df-4ed925da-1389-4526-968e-4b41d85d427b\">\n",
              "    <div class=\"colab-df-container\">\n",
              "      <div>\n",
              "<style scoped>\n",
              "    .dataframe tbody tr th:only-of-type {\n",
              "        vertical-align: middle;\n",
              "    }\n",
              "\n",
              "    .dataframe tbody tr th {\n",
              "        vertical-align: top;\n",
              "    }\n",
              "\n",
              "    .dataframe thead th {\n",
              "        text-align: right;\n",
              "    }\n",
              "</style>\n",
              "<table border=\"1\" class=\"dataframe\">\n",
              "  <thead>\n",
              "    <tr style=\"text-align: right;\">\n",
              "      <th></th>\n",
              "      <th>Model Name</th>\n",
              "      <th>Cost</th>\n",
              "    </tr>\n",
              "  </thead>\n",
              "  <tbody>\n",
              "    <tr>\n",
              "      <th>0</th>\n",
              "      <td>Random Forest</td>\n",
              "      <td>1153140</td>\n",
              "    </tr>\n",
              "    <tr>\n",
              "      <th>4</th>\n",
              "      <td>K-Neighbors Classifier</td>\n",
              "      <td>1181950</td>\n",
              "    </tr>\n",
              "    <tr>\n",
              "      <th>6</th>\n",
              "      <td>CatBoosting Classifier</td>\n",
              "      <td>1184060</td>\n",
              "    </tr>\n",
              "    <tr>\n",
              "      <th>1</th>\n",
              "      <td>Decision Tree</td>\n",
              "      <td>1207240</td>\n",
              "    </tr>\n",
              "    <tr>\n",
              "      <th>3</th>\n",
              "      <td>Logistic Regression</td>\n",
              "      <td>1477280</td>\n",
              "    </tr>\n",
              "    <tr>\n",
              "      <th>7</th>\n",
              "      <td>AdaBoost Classifier</td>\n",
              "      <td>1510360</td>\n",
              "    </tr>\n",
              "    <tr>\n",
              "      <th>2</th>\n",
              "      <td>Gradient Boosting</td>\n",
              "      <td>1612840</td>\n",
              "    </tr>\n",
              "    <tr>\n",
              "      <th>5</th>\n",
              "      <td>XGBClassifier</td>\n",
              "      <td>1652250</td>\n",
              "    </tr>\n",
              "  </tbody>\n",
              "</table>\n",
              "</div>\n",
              "      <button class=\"colab-df-convert\" onclick=\"convertToInteractive('df-4ed925da-1389-4526-968e-4b41d85d427b')\"\n",
              "              title=\"Convert this dataframe to an interactive table.\"\n",
              "              style=\"display:none;\">\n",
              "        \n",
              "  <svg xmlns=\"http://www.w3.org/2000/svg\" height=\"24px\"viewBox=\"0 0 24 24\"\n",
              "       width=\"24px\">\n",
              "    <path d=\"M0 0h24v24H0V0z\" fill=\"none\"/>\n",
              "    <path d=\"M18.56 5.44l.94 2.06.94-2.06 2.06-.94-2.06-.94-.94-2.06-.94 2.06-2.06.94zm-11 1L8.5 8.5l.94-2.06 2.06-.94-2.06-.94L8.5 2.5l-.94 2.06-2.06.94zm10 10l.94 2.06.94-2.06 2.06-.94-2.06-.94-.94-2.06-.94 2.06-2.06.94z\"/><path d=\"M17.41 7.96l-1.37-1.37c-.4-.4-.92-.59-1.43-.59-.52 0-1.04.2-1.43.59L10.3 9.45l-7.72 7.72c-.78.78-.78 2.05 0 2.83L4 21.41c.39.39.9.59 1.41.59.51 0 1.02-.2 1.41-.59l7.78-7.78 2.81-2.81c.8-.78.8-2.07 0-2.86zM5.41 20L4 18.59l7.72-7.72 1.47 1.35L5.41 20z\"/>\n",
              "  </svg>\n",
              "      </button>\n",
              "      \n",
              "  <style>\n",
              "    .colab-df-container {\n",
              "      display:flex;\n",
              "      flex-wrap:wrap;\n",
              "      gap: 12px;\n",
              "    }\n",
              "\n",
              "    .colab-df-convert {\n",
              "      background-color: #E8F0FE;\n",
              "      border: none;\n",
              "      border-radius: 50%;\n",
              "      cursor: pointer;\n",
              "      display: none;\n",
              "      fill: #1967D2;\n",
              "      height: 32px;\n",
              "      padding: 0 0 0 0;\n",
              "      width: 32px;\n",
              "    }\n",
              "\n",
              "    .colab-df-convert:hover {\n",
              "      background-color: #E2EBFA;\n",
              "      box-shadow: 0px 1px 2px rgba(60, 64, 67, 0.3), 0px 1px 3px 1px rgba(60, 64, 67, 0.15);\n",
              "      fill: #174EA6;\n",
              "    }\n",
              "\n",
              "    [theme=dark] .colab-df-convert {\n",
              "      background-color: #3B4455;\n",
              "      fill: #D2E3FC;\n",
              "    }\n",
              "\n",
              "    [theme=dark] .colab-df-convert:hover {\n",
              "      background-color: #434B5C;\n",
              "      box-shadow: 0px 1px 3px 1px rgba(0, 0, 0, 0.15);\n",
              "      filter: drop-shadow(0px 1px 2px rgba(0, 0, 0, 0.3));\n",
              "      fill: #FFFFFF;\n",
              "    }\n",
              "  </style>\n",
              "\n",
              "      <script>\n",
              "        const buttonEl =\n",
              "          document.querySelector('#df-4ed925da-1389-4526-968e-4b41d85d427b button.colab-df-convert');\n",
              "        buttonEl.style.display =\n",
              "          google.colab.kernel.accessAllowed ? 'block' : 'none';\n",
              "\n",
              "        async function convertToInteractive(key) {\n",
              "          const element = document.querySelector('#df-4ed925da-1389-4526-968e-4b41d85d427b');\n",
              "          const dataTable =\n",
              "            await google.colab.kernel.invokeFunction('convertToInteractive',\n",
              "                                                     [key], {});\n",
              "          if (!dataTable) return;\n",
              "\n",
              "          const docLinkHtml = 'Like what you see? Visit the ' +\n",
              "            '<a target=\"_blank\" href=https://colab.research.google.com/notebooks/data_table.ipynb>data table notebook</a>'\n",
              "            + ' to learn more about interactive tables.';\n",
              "          element.innerHTML = '';\n",
              "          dataTable['output_type'] = 'display_data';\n",
              "          await google.colab.output.renderOutput(dataTable, element);\n",
              "          const docLink = document.createElement('div');\n",
              "          docLink.innerHTML = docLinkHtml;\n",
              "          element.appendChild(docLink);\n",
              "        }\n",
              "      </script>\n",
              "    </div>\n",
              "  </div>\n",
              "  "
            ]
          },
          "metadata": {},
          "execution_count": 158
        }
      ]
    },
    {
      "cell_type": "markdown",
      "source": [
        "**Insights**\n",
        "\n",
        "* For the Experiment 2: Simple imputer with median strategy has Random Forest as the best Model\n",
        "* Proceeding with further experiments"
      ],
      "metadata": {
        "id": "iPORKMmiGQ8h"
      },
      "id": "iPORKMmiGQ8h"
    },
    {
      "cell_type": "markdown",
      "source": [
        "# Experiment 3: MICE for Imputing Null values\n",
        "\n",
        "* MICE stands for Multivariate Imputation By Chained Equations algorithm\n",
        "* This technique by which we can effortlessly impute missing values in a dataset by looking at data from other columns and trying to estimate the best prediction for each missing value.\n",
        "* `ImputationKernel` Creates a kernel dataset. This dataset can perform MICE on itself, and impute new data from models obtained during MICE."
      ],
      "metadata": {
        "id": "XkqDIiKpGW2X"
      },
      "id": "XkqDIiKpGW2X"
    },
    {
      "cell_type": "code",
      "source": [
        "import miceforest as mf\n",
        "\n",
        "X_mice = X.copy()\n",
        "kernel = mf.ImputationKernel(\n",
        "    X_mice,\n",
        "    save_all_iterations = True,\n",
        "    random_state = 1\n",
        ")\n"
      ],
      "metadata": {
        "id": "M1E5cDOmGgrL"
      },
      "id": "M1E5cDOmGgrL",
      "execution_count": 159,
      "outputs": []
    },
    {
      "cell_type": "code",
      "source": [
        "X_mice = kernel.complete_data()"
      ],
      "metadata": {
        "id": "hTzTA4fnHHwl"
      },
      "id": "hTzTA4fnHHwl",
      "execution_count": 160,
      "outputs": []
    },
    {
      "cell_type": "code",
      "source": [
        "# fit robust scaler\n",
        "\n",
        "mice_pipeline = Pipeline(steps=[('RobustScaler', RobustScaler())])"
      ],
      "metadata": {
        "id": "nkWv5P_WHrVy"
      },
      "id": "nkWv5P_WHrVy",
      "execution_count": 161,
      "outputs": []
    },
    {
      "cell_type": "code",
      "source": [
        "# fit X with Mice imputer\n",
        "\n",
        "X_mice = mice_pipeline.fit_transform(X_mice)"
      ],
      "metadata": {
        "id": "rD_n5fDfH7Kr"
      },
      "id": "rD_n5fDfH7Kr",
      "execution_count": 162,
      "outputs": []
    },
    {
      "cell_type": "code",
      "source": [
        "# Resampling the minority class. The strategy can be changed as required.\n",
        "smt = SMOTETomek(random_state=1,sampling_strategy='minority', n_jobs=-1 )\n",
        "# Fit the model to generate the data.\n",
        "X_res, y_res = smt.fit_resample(X_mice, y)"
      ],
      "metadata": {
        "id": "GCd2bZC-IE8L"
      },
      "id": "GCd2bZC-IE8L",
      "execution_count": 163,
      "outputs": []
    },
    {
      "cell_type": "code",
      "source": [
        "# Training the models\n",
        "\n",
        "report_mice = evaluate_models(X_res, y_res, models)"
      ],
      "metadata": {
        "colab": {
          "base_uri": "https://localhost:8080/"
        },
        "id": "MjC5HFi_INRM",
        "outputId": "15bf4dcf-2158-4f4a-9dbf-07063e7069db"
      },
      "id": "MjC5HFi_INRM",
      "execution_count": 164,
      "outputs": [
        {
          "output_type": "stream",
          "name": "stdout",
          "text": [
            "Random Forest\n",
            "Model performance for Training set\n",
            "- Accuracy: 0.7984\n",
            "- F1 score: 0.7870\n",
            "- Precision: 0.8369\n",
            "- Recall: 0.7426\n",
            "- Roc Auc Score: 0.7986\n",
            "- COST: 4183510.\n",
            "----------------------------------\n",
            "Model performance for Test set\n",
            "- Accuracy: 0.7578\n",
            "- F1 score: 0.7448\n",
            "- Precision: 0.7774\n",
            "- Recall: 0.7148\n",
            "- Roc Auc Score: 0.7573\n",
            "- COST: 1146220.\n",
            "===================================\n",
            "\n",
            "\n",
            "Decision Tree\n",
            "Model performance for Training set\n",
            "- Accuracy: 0.7984\n",
            "- F1 score: 0.7844\n",
            "- Precision: 0.8457\n",
            "- Recall: 0.7314\n",
            "- Roc Auc Score: 0.7986\n",
            "- COST: 4360400.\n",
            "----------------------------------\n",
            "Model performance for Test set\n",
            "- Accuracy: 0.7529\n",
            "- F1 score: 0.7367\n",
            "- Precision: 0.7784\n",
            "- Recall: 0.6992\n",
            "- Roc Auc Score: 0.7523\n",
            "- COST: 1207770.\n",
            "===================================\n",
            "\n",
            "\n",
            "Gradient Boosting\n",
            "Model performance for Training set\n",
            "- Accuracy: 0.6948\n",
            "- F1 score: 0.6635\n",
            "- Precision: 0.7418\n",
            "- Recall: 0.6001\n",
            "- Roc Auc Score: 0.6950\n",
            "- COST: 6494150.\n",
            "----------------------------------\n",
            "Model performance for Test set\n",
            "- Accuracy: 0.6897\n",
            "- F1 score: 0.6556\n",
            "- Precision: 0.7263\n",
            "- Recall: 0.5975\n",
            "- Roc Auc Score: 0.6887\n",
            "- COST: 1612840.\n",
            "===================================\n",
            "\n",
            "\n",
            "Logistic Regression\n",
            "Model performance for Training set\n",
            "- Accuracy: 0.6405\n",
            "- F1 score: 0.6356\n",
            "- Precision: 0.6463\n",
            "- Recall: 0.6252\n",
            "- Roc Auc Score: 0.6406\n",
            "- COST: 6134000.\n",
            "----------------------------------\n",
            "Model performance for Test set\n",
            "- Accuracy: 0.6489\n",
            "- F1 score: 0.6410\n",
            "- Precision: 0.6481\n",
            "- Recall: 0.6341\n",
            "- Roc Auc Score: 0.6487\n",
            "- COST: 1477280.\n",
            "===================================\n",
            "\n",
            "\n",
            "K-Neighbors Classifier\n",
            "Model performance for Training set\n",
            "- Accuracy: 0.7428\n",
            "- F1 score: 0.7416\n",
            "- Precision: 0.7473\n",
            "- Recall: 0.7359\n",
            "- Roc Auc Score: 0.7429\n",
            "- COST: 4324490.\n",
            "----------------------------------\n",
            "Model performance for Test set\n",
            "- Accuracy: 0.7122\n",
            "- F1 score: 0.7085\n",
            "- Precision: 0.7096\n",
            "- Recall: 0.7075\n",
            "- Roc Auc Score: 0.7122\n",
            "- COST: 1181950.\n",
            "===================================\n",
            "\n",
            "\n",
            "XGBClassifier\n",
            "Model performance for Training set\n",
            "- Accuracy: 0.6953\n",
            "- F1 score: 0.6595\n",
            "- Precision: 0.7500\n",
            "- Recall: 0.5885\n",
            "- Roc Auc Score: 0.6956\n",
            "- COST: 6676570.\n",
            "----------------------------------\n",
            "Model performance for Test set\n",
            "- Accuracy: 0.6914\n",
            "- F1 score: 0.6530\n",
            "- Precision: 0.7353\n",
            "- Recall: 0.5873\n",
            "- Roc Auc Score: 0.6903\n",
            "- COST: 1652250.\n",
            "===================================\n",
            "\n",
            "\n",
            "CatBoosting Classifier\n",
            "Model performance for Training set\n",
            "- Accuracy: 0.7626\n",
            "- F1 score: 0.7484\n",
            "- Precision: 0.7984\n",
            "- Recall: 0.7043\n",
            "- Roc Auc Score: 0.7627\n",
            "- COST: 4809680.\n",
            "----------------------------------\n",
            "Model performance for Test set\n",
            "- Accuracy: 0.7571\n",
            "- F1 score: 0.7417\n",
            "- Precision: 0.7822\n",
            "- Recall: 0.7051\n",
            "- Roc Auc Score: 0.7566\n",
            "- COST: 1184060.\n",
            "===================================\n",
            "\n",
            "\n",
            "AdaBoost Classifier\n",
            "Model performance for Training set\n",
            "- Accuracy: 0.6801\n",
            "- F1 score: 0.6608\n",
            "- Precision: 0.7054\n",
            "- Recall: 0.6216\n",
            "- Roc Auc Score: 0.6802\n",
            "- COST: 6165970.\n",
            "----------------------------------\n",
            "Model performance for Test set\n",
            "- Accuracy: 0.6779\n",
            "- F1 score: 0.6571\n",
            "- Precision: 0.6936\n",
            "- Recall: 0.6244\n",
            "- Roc Auc Score: 0.6773\n",
            "- COST: 1510360.\n",
            "===================================\n",
            "\n",
            "\n"
          ]
        }
      ]
    },
    {
      "cell_type": "code",
      "source": [
        "report_mice"
      ],
      "metadata": {
        "colab": {
          "base_uri": "https://localhost:8080/",
          "height": 300
        },
        "id": "sF7nLNwXI3-_",
        "outputId": "b62b0a23-add8-4d63-a0ff-6db604f52df4"
      },
      "id": "sF7nLNwXI3-_",
      "execution_count": 165,
      "outputs": [
        {
          "output_type": "execute_result",
          "data": {
            "text/plain": [
              "               Model Name     Cost\n",
              "0           Random Forest  1146220\n",
              "4  K-Neighbors Classifier  1181950\n",
              "6  CatBoosting Classifier  1184060\n",
              "1           Decision Tree  1207770\n",
              "3     Logistic Regression  1477280\n",
              "7     AdaBoost Classifier  1510360\n",
              "2       Gradient Boosting  1612840\n",
              "5           XGBClassifier  1652250"
            ],
            "text/html": [
              "\n",
              "  <div id=\"df-198c38f9-19e9-497e-8e42-620c2b92a985\">\n",
              "    <div class=\"colab-df-container\">\n",
              "      <div>\n",
              "<style scoped>\n",
              "    .dataframe tbody tr th:only-of-type {\n",
              "        vertical-align: middle;\n",
              "    }\n",
              "\n",
              "    .dataframe tbody tr th {\n",
              "        vertical-align: top;\n",
              "    }\n",
              "\n",
              "    .dataframe thead th {\n",
              "        text-align: right;\n",
              "    }\n",
              "</style>\n",
              "<table border=\"1\" class=\"dataframe\">\n",
              "  <thead>\n",
              "    <tr style=\"text-align: right;\">\n",
              "      <th></th>\n",
              "      <th>Model Name</th>\n",
              "      <th>Cost</th>\n",
              "    </tr>\n",
              "  </thead>\n",
              "  <tbody>\n",
              "    <tr>\n",
              "      <th>0</th>\n",
              "      <td>Random Forest</td>\n",
              "      <td>1146220</td>\n",
              "    </tr>\n",
              "    <tr>\n",
              "      <th>4</th>\n",
              "      <td>K-Neighbors Classifier</td>\n",
              "      <td>1181950</td>\n",
              "    </tr>\n",
              "    <tr>\n",
              "      <th>6</th>\n",
              "      <td>CatBoosting Classifier</td>\n",
              "      <td>1184060</td>\n",
              "    </tr>\n",
              "    <tr>\n",
              "      <th>1</th>\n",
              "      <td>Decision Tree</td>\n",
              "      <td>1207770</td>\n",
              "    </tr>\n",
              "    <tr>\n",
              "      <th>3</th>\n",
              "      <td>Logistic Regression</td>\n",
              "      <td>1477280</td>\n",
              "    </tr>\n",
              "    <tr>\n",
              "      <th>7</th>\n",
              "      <td>AdaBoost Classifier</td>\n",
              "      <td>1510360</td>\n",
              "    </tr>\n",
              "    <tr>\n",
              "      <th>2</th>\n",
              "      <td>Gradient Boosting</td>\n",
              "      <td>1612840</td>\n",
              "    </tr>\n",
              "    <tr>\n",
              "      <th>5</th>\n",
              "      <td>XGBClassifier</td>\n",
              "      <td>1652250</td>\n",
              "    </tr>\n",
              "  </tbody>\n",
              "</table>\n",
              "</div>\n",
              "      <button class=\"colab-df-convert\" onclick=\"convertToInteractive('df-198c38f9-19e9-497e-8e42-620c2b92a985')\"\n",
              "              title=\"Convert this dataframe to an interactive table.\"\n",
              "              style=\"display:none;\">\n",
              "        \n",
              "  <svg xmlns=\"http://www.w3.org/2000/svg\" height=\"24px\"viewBox=\"0 0 24 24\"\n",
              "       width=\"24px\">\n",
              "    <path d=\"M0 0h24v24H0V0z\" fill=\"none\"/>\n",
              "    <path d=\"M18.56 5.44l.94 2.06.94-2.06 2.06-.94-2.06-.94-.94-2.06-.94 2.06-2.06.94zm-11 1L8.5 8.5l.94-2.06 2.06-.94-2.06-.94L8.5 2.5l-.94 2.06-2.06.94zm10 10l.94 2.06.94-2.06 2.06-.94-2.06-.94-.94-2.06-.94 2.06-2.06.94z\"/><path d=\"M17.41 7.96l-1.37-1.37c-.4-.4-.92-.59-1.43-.59-.52 0-1.04.2-1.43.59L10.3 9.45l-7.72 7.72c-.78.78-.78 2.05 0 2.83L4 21.41c.39.39.9.59 1.41.59.51 0 1.02-.2 1.41-.59l7.78-7.78 2.81-2.81c.8-.78.8-2.07 0-2.86zM5.41 20L4 18.59l7.72-7.72 1.47 1.35L5.41 20z\"/>\n",
              "  </svg>\n",
              "      </button>\n",
              "      \n",
              "  <style>\n",
              "    .colab-df-container {\n",
              "      display:flex;\n",
              "      flex-wrap:wrap;\n",
              "      gap: 12px;\n",
              "    }\n",
              "\n",
              "    .colab-df-convert {\n",
              "      background-color: #E8F0FE;\n",
              "      border: none;\n",
              "      border-radius: 50%;\n",
              "      cursor: pointer;\n",
              "      display: none;\n",
              "      fill: #1967D2;\n",
              "      height: 32px;\n",
              "      padding: 0 0 0 0;\n",
              "      width: 32px;\n",
              "    }\n",
              "\n",
              "    .colab-df-convert:hover {\n",
              "      background-color: #E2EBFA;\n",
              "      box-shadow: 0px 1px 2px rgba(60, 64, 67, 0.3), 0px 1px 3px 1px rgba(60, 64, 67, 0.15);\n",
              "      fill: #174EA6;\n",
              "    }\n",
              "\n",
              "    [theme=dark] .colab-df-convert {\n",
              "      background-color: #3B4455;\n",
              "      fill: #D2E3FC;\n",
              "    }\n",
              "\n",
              "    [theme=dark] .colab-df-convert:hover {\n",
              "      background-color: #434B5C;\n",
              "      box-shadow: 0px 1px 3px 1px rgba(0, 0, 0, 0.15);\n",
              "      filter: drop-shadow(0px 1px 2px rgba(0, 0, 0, 0.3));\n",
              "      fill: #FFFFFF;\n",
              "    }\n",
              "  </style>\n",
              "\n",
              "      <script>\n",
              "        const buttonEl =\n",
              "          document.querySelector('#df-198c38f9-19e9-497e-8e42-620c2b92a985 button.colab-df-convert');\n",
              "        buttonEl.style.display =\n",
              "          google.colab.kernel.accessAllowed ? 'block' : 'none';\n",
              "\n",
              "        async function convertToInteractive(key) {\n",
              "          const element = document.querySelector('#df-198c38f9-19e9-497e-8e42-620c2b92a985');\n",
              "          const dataTable =\n",
              "            await google.colab.kernel.invokeFunction('convertToInteractive',\n",
              "                                                     [key], {});\n",
              "          if (!dataTable) return;\n",
              "\n",
              "          const docLinkHtml = 'Like what you see? Visit the ' +\n",
              "            '<a target=\"_blank\" href=https://colab.research.google.com/notebooks/data_table.ipynb>data table notebook</a>'\n",
              "            + ' to learn more about interactive tables.';\n",
              "          element.innerHTML = '';\n",
              "          dataTable['output_type'] = 'display_data';\n",
              "          await google.colab.output.renderOutput(dataTable, element);\n",
              "          const docLink = document.createElement('div');\n",
              "          docLink.innerHTML = docLinkHtml;\n",
              "          element.appendChild(docLink);\n",
              "        }\n",
              "      </script>\n",
              "    </div>\n",
              "  </div>\n",
              "  "
            ]
          },
          "metadata": {},
          "execution_count": 165
        }
      ]
    },
    {
      "cell_type": "markdown",
      "source": [
        "**Insights**\n",
        "\n",
        "* For the Experiment 3: Mice imputer has Random Forest as the best Model\n",
        "* Proceeding with further experiments"
      ],
      "metadata": {
        "id": "4gwD0C31JzVR"
      },
      "id": "4gwD0C31JzVR"
    },
    {
      "cell_type": "markdown",
      "source": [
        "# Experiment 4: Simple Imputer with Strategy Constant\n",
        "\n",
        "* Another strategy which can be used is replacing missing values with a fixed (constant) value.\n",
        "* To do this, specify “constant” for strategy and specify the fill value using the fill_value parameter"
      ],
      "metadata": {
        "id": "DQPBNh_xJ7KF"
      },
      "id": "DQPBNh_xJ7KF"
    },
    {
      "cell_type": "code",
      "source": [
        "# Create a pipeline with simple imputer with strategy constant and fill value 0\n",
        "constant_pipeline = Pipeline(steps=[\n",
        "    ('Imputer', SimpleImputer(strategy='constant', fill_value=0)),\n",
        "    ('RobustScaler', RobustScaler())\n",
        "])"
      ],
      "metadata": {
        "id": "SOCJG0vPJ5ep"
      },
      "id": "SOCJG0vPJ5ep",
      "execution_count": 166,
      "outputs": []
    },
    {
      "cell_type": "code",
      "source": [
        "X_const =constant_pipeline.fit_transform(X)"
      ],
      "metadata": {
        "id": "dluJCZevKKlq"
      },
      "id": "dluJCZevKKlq",
      "execution_count": 167,
      "outputs": []
    },
    {
      "cell_type": "code",
      "source": [
        "# Resampling the minority class. The strategy can be changed as required.\n",
        "smt = SMOTETomek(random_state=1,sampling_strategy='minority', n_jobs=-1 )\n",
        "# Fit the model to generate the data.\n",
        "X_res, y_res = smt.fit_resample(X_const, y)"
      ],
      "metadata": {
        "id": "ln9d4YZDKMo0"
      },
      "id": "ln9d4YZDKMo0",
      "execution_count": 168,
      "outputs": []
    },
    {
      "cell_type": "code",
      "source": [
        "# training the models\n",
        "report_const = evaluate_models(X_res, y_res, models)"
      ],
      "metadata": {
        "colab": {
          "base_uri": "https://localhost:8080/"
        },
        "id": "Pail9o4jKV_k",
        "outputId": "0d28f28e-ca5b-4970-9bbe-01133892876d"
      },
      "id": "Pail9o4jKV_k",
      "execution_count": 169,
      "outputs": [
        {
          "output_type": "stream",
          "name": "stdout",
          "text": [
            "Random Forest\n",
            "Model performance for Training set\n",
            "- Accuracy: 0.7984\n",
            "- F1 score: 0.7865\n",
            "- Precision: 0.8385\n",
            "- Recall: 0.7405\n",
            "- Roc Auc Score: 0.7986\n",
            "- COST: 4216350.\n",
            "----------------------------------\n",
            "Model performance for Test set\n",
            "- Accuracy: 0.7572\n",
            "- F1 score: 0.7439\n",
            "- Precision: 0.7773\n",
            "- Recall: 0.7133\n",
            "- Roc Auc Score: 0.7567\n",
            "- COST: 1152200.\n",
            "===================================\n",
            "\n",
            "\n",
            "Decision Tree\n",
            "Model performance for Training set\n",
            "- Accuracy: 0.7984\n",
            "- F1 score: 0.7844\n",
            "- Precision: 0.8457\n",
            "- Recall: 0.7314\n",
            "- Roc Auc Score: 0.7986\n",
            "- COST: 4360400.\n",
            "----------------------------------\n",
            "Model performance for Test set\n",
            "- Accuracy: 0.7533\n",
            "- F1 score: 0.7371\n",
            "- Precision: 0.7788\n",
            "- Recall: 0.6997\n",
            "- Roc Auc Score: 0.7527\n",
            "- COST: 1205750.\n",
            "===================================\n",
            "\n",
            "\n",
            "Gradient Boosting\n",
            "Model performance for Training set\n",
            "- Accuracy: 0.6948\n",
            "- F1 score: 0.6635\n",
            "- Precision: 0.7418\n",
            "- Recall: 0.6001\n",
            "- Roc Auc Score: 0.6950\n",
            "- COST: 6494150.\n",
            "----------------------------------\n",
            "Model performance for Test set\n",
            "- Accuracy: 0.6897\n",
            "- F1 score: 0.6556\n",
            "- Precision: 0.7263\n",
            "- Recall: 0.5975\n",
            "- Roc Auc Score: 0.6887\n",
            "- COST: 1612840.\n",
            "===================================\n",
            "\n",
            "\n",
            "Logistic Regression\n",
            "Model performance for Training set\n",
            "- Accuracy: 0.6405\n",
            "- F1 score: 0.6356\n",
            "- Precision: 0.6463\n",
            "- Recall: 0.6252\n",
            "- Roc Auc Score: 0.6406\n",
            "- COST: 6134000.\n",
            "----------------------------------\n",
            "Model performance for Test set\n",
            "- Accuracy: 0.6489\n",
            "- F1 score: 0.6410\n",
            "- Precision: 0.6481\n",
            "- Recall: 0.6341\n",
            "- Roc Auc Score: 0.6487\n",
            "- COST: 1477280.\n",
            "===================================\n",
            "\n",
            "\n",
            "K-Neighbors Classifier\n",
            "Model performance for Training set\n",
            "- Accuracy: 0.7428\n",
            "- F1 score: 0.7416\n",
            "- Precision: 0.7473\n",
            "- Recall: 0.7359\n",
            "- Roc Auc Score: 0.7429\n",
            "- COST: 4324490.\n",
            "----------------------------------\n",
            "Model performance for Test set\n",
            "- Accuracy: 0.7122\n",
            "- F1 score: 0.7085\n",
            "- Precision: 0.7096\n",
            "- Recall: 0.7075\n",
            "- Roc Auc Score: 0.7122\n",
            "- COST: 1181950.\n",
            "===================================\n",
            "\n",
            "\n",
            "XGBClassifier\n",
            "Model performance for Training set\n",
            "- Accuracy: 0.6953\n",
            "- F1 score: 0.6595\n",
            "- Precision: 0.7500\n",
            "- Recall: 0.5885\n",
            "- Roc Auc Score: 0.6956\n",
            "- COST: 6676570.\n",
            "----------------------------------\n",
            "Model performance for Test set\n",
            "- Accuracy: 0.6914\n",
            "- F1 score: 0.6530\n",
            "- Precision: 0.7353\n",
            "- Recall: 0.5873\n",
            "- Roc Auc Score: 0.6903\n",
            "- COST: 1652250.\n",
            "===================================\n",
            "\n",
            "\n",
            "CatBoosting Classifier\n",
            "Model performance for Training set\n",
            "- Accuracy: 0.7626\n",
            "- F1 score: 0.7484\n",
            "- Precision: 0.7984\n",
            "- Recall: 0.7043\n",
            "- Roc Auc Score: 0.7627\n",
            "- COST: 4809680.\n",
            "----------------------------------\n",
            "Model performance for Test set\n",
            "- Accuracy: 0.7571\n",
            "- F1 score: 0.7417\n",
            "- Precision: 0.7822\n",
            "- Recall: 0.7051\n",
            "- Roc Auc Score: 0.7566\n",
            "- COST: 1184060.\n",
            "===================================\n",
            "\n",
            "\n",
            "AdaBoost Classifier\n",
            "Model performance for Training set\n",
            "- Accuracy: 0.6801\n",
            "- F1 score: 0.6608\n",
            "- Precision: 0.7054\n",
            "- Recall: 0.6216\n",
            "- Roc Auc Score: 0.6802\n",
            "- COST: 6165970.\n",
            "----------------------------------\n",
            "Model performance for Test set\n",
            "- Accuracy: 0.6779\n",
            "- F1 score: 0.6571\n",
            "- Precision: 0.6936\n",
            "- Recall: 0.6244\n",
            "- Roc Auc Score: 0.6773\n",
            "- COST: 1510360.\n",
            "===================================\n",
            "\n",
            "\n"
          ]
        }
      ]
    },
    {
      "cell_type": "code",
      "source": [
        "report_const"
      ],
      "metadata": {
        "colab": {
          "base_uri": "https://localhost:8080/",
          "height": 300
        },
        "id": "irfRjs5hMOP1",
        "outputId": "471d846e-4754-43a8-ca7f-b2cc0308fb01"
      },
      "id": "irfRjs5hMOP1",
      "execution_count": 170,
      "outputs": [
        {
          "output_type": "execute_result",
          "data": {
            "text/plain": [
              "               Model Name     Cost\n",
              "0           Random Forest  1152200\n",
              "4  K-Neighbors Classifier  1181950\n",
              "6  CatBoosting Classifier  1184060\n",
              "1           Decision Tree  1205750\n",
              "3     Logistic Regression  1477280\n",
              "7     AdaBoost Classifier  1510360\n",
              "2       Gradient Boosting  1612840\n",
              "5           XGBClassifier  1652250"
            ],
            "text/html": [
              "\n",
              "  <div id=\"df-87552556-1c6c-4899-b2f2-930931a6c202\">\n",
              "    <div class=\"colab-df-container\">\n",
              "      <div>\n",
              "<style scoped>\n",
              "    .dataframe tbody tr th:only-of-type {\n",
              "        vertical-align: middle;\n",
              "    }\n",
              "\n",
              "    .dataframe tbody tr th {\n",
              "        vertical-align: top;\n",
              "    }\n",
              "\n",
              "    .dataframe thead th {\n",
              "        text-align: right;\n",
              "    }\n",
              "</style>\n",
              "<table border=\"1\" class=\"dataframe\">\n",
              "  <thead>\n",
              "    <tr style=\"text-align: right;\">\n",
              "      <th></th>\n",
              "      <th>Model Name</th>\n",
              "      <th>Cost</th>\n",
              "    </tr>\n",
              "  </thead>\n",
              "  <tbody>\n",
              "    <tr>\n",
              "      <th>0</th>\n",
              "      <td>Random Forest</td>\n",
              "      <td>1152200</td>\n",
              "    </tr>\n",
              "    <tr>\n",
              "      <th>4</th>\n",
              "      <td>K-Neighbors Classifier</td>\n",
              "      <td>1181950</td>\n",
              "    </tr>\n",
              "    <tr>\n",
              "      <th>6</th>\n",
              "      <td>CatBoosting Classifier</td>\n",
              "      <td>1184060</td>\n",
              "    </tr>\n",
              "    <tr>\n",
              "      <th>1</th>\n",
              "      <td>Decision Tree</td>\n",
              "      <td>1205750</td>\n",
              "    </tr>\n",
              "    <tr>\n",
              "      <th>3</th>\n",
              "      <td>Logistic Regression</td>\n",
              "      <td>1477280</td>\n",
              "    </tr>\n",
              "    <tr>\n",
              "      <th>7</th>\n",
              "      <td>AdaBoost Classifier</td>\n",
              "      <td>1510360</td>\n",
              "    </tr>\n",
              "    <tr>\n",
              "      <th>2</th>\n",
              "      <td>Gradient Boosting</td>\n",
              "      <td>1612840</td>\n",
              "    </tr>\n",
              "    <tr>\n",
              "      <th>5</th>\n",
              "      <td>XGBClassifier</td>\n",
              "      <td>1652250</td>\n",
              "    </tr>\n",
              "  </tbody>\n",
              "</table>\n",
              "</div>\n",
              "      <button class=\"colab-df-convert\" onclick=\"convertToInteractive('df-87552556-1c6c-4899-b2f2-930931a6c202')\"\n",
              "              title=\"Convert this dataframe to an interactive table.\"\n",
              "              style=\"display:none;\">\n",
              "        \n",
              "  <svg xmlns=\"http://www.w3.org/2000/svg\" height=\"24px\"viewBox=\"0 0 24 24\"\n",
              "       width=\"24px\">\n",
              "    <path d=\"M0 0h24v24H0V0z\" fill=\"none\"/>\n",
              "    <path d=\"M18.56 5.44l.94 2.06.94-2.06 2.06-.94-2.06-.94-.94-2.06-.94 2.06-2.06.94zm-11 1L8.5 8.5l.94-2.06 2.06-.94-2.06-.94L8.5 2.5l-.94 2.06-2.06.94zm10 10l.94 2.06.94-2.06 2.06-.94-2.06-.94-.94-2.06-.94 2.06-2.06.94z\"/><path d=\"M17.41 7.96l-1.37-1.37c-.4-.4-.92-.59-1.43-.59-.52 0-1.04.2-1.43.59L10.3 9.45l-7.72 7.72c-.78.78-.78 2.05 0 2.83L4 21.41c.39.39.9.59 1.41.59.51 0 1.02-.2 1.41-.59l7.78-7.78 2.81-2.81c.8-.78.8-2.07 0-2.86zM5.41 20L4 18.59l7.72-7.72 1.47 1.35L5.41 20z\"/>\n",
              "  </svg>\n",
              "      </button>\n",
              "      \n",
              "  <style>\n",
              "    .colab-df-container {\n",
              "      display:flex;\n",
              "      flex-wrap:wrap;\n",
              "      gap: 12px;\n",
              "    }\n",
              "\n",
              "    .colab-df-convert {\n",
              "      background-color: #E8F0FE;\n",
              "      border: none;\n",
              "      border-radius: 50%;\n",
              "      cursor: pointer;\n",
              "      display: none;\n",
              "      fill: #1967D2;\n",
              "      height: 32px;\n",
              "      padding: 0 0 0 0;\n",
              "      width: 32px;\n",
              "    }\n",
              "\n",
              "    .colab-df-convert:hover {\n",
              "      background-color: #E2EBFA;\n",
              "      box-shadow: 0px 1px 2px rgba(60, 64, 67, 0.3), 0px 1px 3px 1px rgba(60, 64, 67, 0.15);\n",
              "      fill: #174EA6;\n",
              "    }\n",
              "\n",
              "    [theme=dark] .colab-df-convert {\n",
              "      background-color: #3B4455;\n",
              "      fill: #D2E3FC;\n",
              "    }\n",
              "\n",
              "    [theme=dark] .colab-df-convert:hover {\n",
              "      background-color: #434B5C;\n",
              "      box-shadow: 0px 1px 3px 1px rgba(0, 0, 0, 0.15);\n",
              "      filter: drop-shadow(0px 1px 2px rgba(0, 0, 0, 0.3));\n",
              "      fill: #FFFFFF;\n",
              "    }\n",
              "  </style>\n",
              "\n",
              "      <script>\n",
              "        const buttonEl =\n",
              "          document.querySelector('#df-87552556-1c6c-4899-b2f2-930931a6c202 button.colab-df-convert');\n",
              "        buttonEl.style.display =\n",
              "          google.colab.kernel.accessAllowed ? 'block' : 'none';\n",
              "\n",
              "        async function convertToInteractive(key) {\n",
              "          const element = document.querySelector('#df-87552556-1c6c-4899-b2f2-930931a6c202');\n",
              "          const dataTable =\n",
              "            await google.colab.kernel.invokeFunction('convertToInteractive',\n",
              "                                                     [key], {});\n",
              "          if (!dataTable) return;\n",
              "\n",
              "          const docLinkHtml = 'Like what you see? Visit the ' +\n",
              "            '<a target=\"_blank\" href=https://colab.research.google.com/notebooks/data_table.ipynb>data table notebook</a>'\n",
              "            + ' to learn more about interactive tables.';\n",
              "          element.innerHTML = '';\n",
              "          dataTable['output_type'] = 'display_data';\n",
              "          await google.colab.output.renderOutput(dataTable, element);\n",
              "          const docLink = document.createElement('div');\n",
              "          docLink.innerHTML = docLinkHtml;\n",
              "          element.appendChild(docLink);\n",
              "        }\n",
              "      </script>\n",
              "    </div>\n",
              "  </div>\n",
              "  "
            ]
          },
          "metadata": {},
          "execution_count": 170
        }
      ]
    },
    {
      "cell_type": "markdown",
      "source": [
        "**Insights**\n",
        "\n",
        "* For the Experiment 4: Simple imputer with constant strategy has Random Forest as the best Model\n",
        "* Proceeding with further experiments"
      ],
      "metadata": {
        "id": "nmu2UyviM4yW"
      },
      "id": "nmu2UyviM4yW"
    },
    {
      "cell_type": "markdown",
      "source": [
        "# Experiment 5: Simple Imputer with Strategy Mean\n",
        "\n",
        "* Another strategy which can be used is replacing missing values with mean\n",
        "* Here we replace the missing values with the mean of the column"
      ],
      "metadata": {
        "id": "nBEnKzAbNAp5"
      },
      "id": "nBEnKzAbNAp5"
    },
    {
      "cell_type": "code",
      "source": [
        "# Create a pipeline with Simple imputer with strategy mean\n",
        "mean_pipeline = Pipeline(steps=[\n",
        "    ('Imputer', SimpleImputer(strategy='mean')),\n",
        "    ('RobustScaler', RobustScaler())\n",
        "])"
      ],
      "metadata": {
        "id": "Ky5xNjThM_Xv"
      },
      "id": "Ky5xNjThM_Xv",
      "execution_count": 171,
      "outputs": []
    },
    {
      "cell_type": "code",
      "source": [
        "X_mean = mean_pipeline.fit_transform(X)"
      ],
      "metadata": {
        "id": "GY47RireNMRI"
      },
      "id": "GY47RireNMRI",
      "execution_count": 172,
      "outputs": []
    },
    {
      "cell_type": "code",
      "source": [
        "# Resampling the minority class. The strategy can be changed as required.\n",
        "smt = SMOTETomek(random_state=1,sampling_strategy='minority' , n_jobs=-1)\n",
        "# Fit the model to generate the data.\n",
        "X_res, y_res = smt.fit_resample(X_mean, y)"
      ],
      "metadata": {
        "id": "u3oys9qGNN3o"
      },
      "id": "u3oys9qGNN3o",
      "execution_count": 173,
      "outputs": []
    },
    {
      "cell_type": "code",
      "source": [
        "# Training all models\n",
        "report_mean = evaluate_models(X_res, y_res, models)"
      ],
      "metadata": {
        "colab": {
          "base_uri": "https://localhost:8080/"
        },
        "id": "Yj_Zs01qNQbw",
        "outputId": "0455f1a0-f9cd-4697-ea14-d679b7e889a6"
      },
      "id": "Yj_Zs01qNQbw",
      "execution_count": 174,
      "outputs": [
        {
          "output_type": "stream",
          "name": "stdout",
          "text": [
            "Random Forest\n",
            "Model performance for Training set\n",
            "- Accuracy: 0.7984\n",
            "- F1 score: 0.7864\n",
            "- Precision: 0.8389\n",
            "- Recall: 0.7401\n",
            "- Roc Auc Score: 0.7986\n",
            "- COST: 4223200.\n",
            "----------------------------------\n",
            "Model performance for Test set\n",
            "- Accuracy: 0.7586\n",
            "- F1 score: 0.7447\n",
            "- Precision: 0.7802\n",
            "- Recall: 0.7123\n",
            "- Roc Auc Score: 0.7581\n",
            "- COST: 1155900.\n",
            "===================================\n",
            "\n",
            "\n",
            "Decision Tree\n",
            "Model performance for Training set\n",
            "- Accuracy: 0.7984\n",
            "- F1 score: 0.7844\n",
            "- Precision: 0.8457\n",
            "- Recall: 0.7314\n",
            "- Roc Auc Score: 0.7986\n",
            "- COST: 4360400.\n",
            "----------------------------------\n",
            "Model performance for Test set\n",
            "- Accuracy: 0.7529\n",
            "- F1 score: 0.7366\n",
            "- Precision: 0.7789\n",
            "- Recall: 0.6987\n",
            "- Roc Auc Score: 0.7523\n",
            "- COST: 1209720.\n",
            "===================================\n",
            "\n",
            "\n",
            "Gradient Boosting\n",
            "Model performance for Training set\n",
            "- Accuracy: 0.6948\n",
            "- F1 score: 0.6635\n",
            "- Precision: 0.7418\n",
            "- Recall: 0.6001\n",
            "- Roc Auc Score: 0.6950\n",
            "- COST: 6494150.\n",
            "----------------------------------\n",
            "Model performance for Test set\n",
            "- Accuracy: 0.6897\n",
            "- F1 score: 0.6556\n",
            "- Precision: 0.7263\n",
            "- Recall: 0.5975\n",
            "- Roc Auc Score: 0.6887\n",
            "- COST: 1612840.\n",
            "===================================\n",
            "\n",
            "\n",
            "Logistic Regression\n",
            "Model performance for Training set\n",
            "- Accuracy: 0.6405\n",
            "- F1 score: 0.6356\n",
            "- Precision: 0.6463\n",
            "- Recall: 0.6252\n",
            "- Roc Auc Score: 0.6406\n",
            "- COST: 6134000.\n",
            "----------------------------------\n",
            "Model performance for Test set\n",
            "- Accuracy: 0.6489\n",
            "- F1 score: 0.6410\n",
            "- Precision: 0.6481\n",
            "- Recall: 0.6341\n",
            "- Roc Auc Score: 0.6487\n",
            "- COST: 1477280.\n",
            "===================================\n",
            "\n",
            "\n",
            "K-Neighbors Classifier\n",
            "Model performance for Training set\n",
            "- Accuracy: 0.7428\n",
            "- F1 score: 0.7416\n",
            "- Precision: 0.7473\n",
            "- Recall: 0.7359\n",
            "- Roc Auc Score: 0.7429\n",
            "- COST: 4324490.\n",
            "----------------------------------\n",
            "Model performance for Test set\n",
            "- Accuracy: 0.7122\n",
            "- F1 score: 0.7085\n",
            "- Precision: 0.7096\n",
            "- Recall: 0.7075\n",
            "- Roc Auc Score: 0.7122\n",
            "- COST: 1181950.\n",
            "===================================\n",
            "\n",
            "\n",
            "XGBClassifier\n",
            "Model performance for Training set\n",
            "- Accuracy: 0.6953\n",
            "- F1 score: 0.6595\n",
            "- Precision: 0.7500\n",
            "- Recall: 0.5885\n",
            "- Roc Auc Score: 0.6956\n",
            "- COST: 6676570.\n",
            "----------------------------------\n",
            "Model performance for Test set\n",
            "- Accuracy: 0.6914\n",
            "- F1 score: 0.6530\n",
            "- Precision: 0.7353\n",
            "- Recall: 0.5873\n",
            "- Roc Auc Score: 0.6903\n",
            "- COST: 1652250.\n",
            "===================================\n",
            "\n",
            "\n",
            "CatBoosting Classifier\n",
            "Model performance for Training set\n",
            "- Accuracy: 0.7626\n",
            "- F1 score: 0.7484\n",
            "- Precision: 0.7984\n",
            "- Recall: 0.7043\n",
            "- Roc Auc Score: 0.7627\n",
            "- COST: 4809680.\n",
            "----------------------------------\n",
            "Model performance for Test set\n",
            "- Accuracy: 0.7571\n",
            "- F1 score: 0.7417\n",
            "- Precision: 0.7822\n",
            "- Recall: 0.7051\n",
            "- Roc Auc Score: 0.7566\n",
            "- COST: 1184060.\n",
            "===================================\n",
            "\n",
            "\n",
            "AdaBoost Classifier\n",
            "Model performance for Training set\n",
            "- Accuracy: 0.6801\n",
            "- F1 score: 0.6608\n",
            "- Precision: 0.7054\n",
            "- Recall: 0.6216\n",
            "- Roc Auc Score: 0.6802\n",
            "- COST: 6165970.\n",
            "----------------------------------\n",
            "Model performance for Test set\n",
            "- Accuracy: 0.6779\n",
            "- F1 score: 0.6571\n",
            "- Precision: 0.6936\n",
            "- Recall: 0.6244\n",
            "- Roc Auc Score: 0.6773\n",
            "- COST: 1510360.\n",
            "===================================\n",
            "\n",
            "\n"
          ]
        }
      ]
    },
    {
      "cell_type": "code",
      "source": [
        "report_mean"
      ],
      "metadata": {
        "colab": {
          "base_uri": "https://localhost:8080/",
          "height": 300
        },
        "id": "VbtWrmpENSLJ",
        "outputId": "9e77dc3b-d927-44b5-c9db-31dd6d1543ae"
      },
      "id": "VbtWrmpENSLJ",
      "execution_count": 175,
      "outputs": [
        {
          "output_type": "execute_result",
          "data": {
            "text/plain": [
              "               Model Name     Cost\n",
              "0           Random Forest  1155900\n",
              "4  K-Neighbors Classifier  1181950\n",
              "6  CatBoosting Classifier  1184060\n",
              "1           Decision Tree  1209720\n",
              "3     Logistic Regression  1477280\n",
              "7     AdaBoost Classifier  1510360\n",
              "2       Gradient Boosting  1612840\n",
              "5           XGBClassifier  1652250"
            ],
            "text/html": [
              "\n",
              "  <div id=\"df-229c76a1-740c-4db4-bc9f-5e2043e2dc62\">\n",
              "    <div class=\"colab-df-container\">\n",
              "      <div>\n",
              "<style scoped>\n",
              "    .dataframe tbody tr th:only-of-type {\n",
              "        vertical-align: middle;\n",
              "    }\n",
              "\n",
              "    .dataframe tbody tr th {\n",
              "        vertical-align: top;\n",
              "    }\n",
              "\n",
              "    .dataframe thead th {\n",
              "        text-align: right;\n",
              "    }\n",
              "</style>\n",
              "<table border=\"1\" class=\"dataframe\">\n",
              "  <thead>\n",
              "    <tr style=\"text-align: right;\">\n",
              "      <th></th>\n",
              "      <th>Model Name</th>\n",
              "      <th>Cost</th>\n",
              "    </tr>\n",
              "  </thead>\n",
              "  <tbody>\n",
              "    <tr>\n",
              "      <th>0</th>\n",
              "      <td>Random Forest</td>\n",
              "      <td>1155900</td>\n",
              "    </tr>\n",
              "    <tr>\n",
              "      <th>4</th>\n",
              "      <td>K-Neighbors Classifier</td>\n",
              "      <td>1181950</td>\n",
              "    </tr>\n",
              "    <tr>\n",
              "      <th>6</th>\n",
              "      <td>CatBoosting Classifier</td>\n",
              "      <td>1184060</td>\n",
              "    </tr>\n",
              "    <tr>\n",
              "      <th>1</th>\n",
              "      <td>Decision Tree</td>\n",
              "      <td>1209720</td>\n",
              "    </tr>\n",
              "    <tr>\n",
              "      <th>3</th>\n",
              "      <td>Logistic Regression</td>\n",
              "      <td>1477280</td>\n",
              "    </tr>\n",
              "    <tr>\n",
              "      <th>7</th>\n",
              "      <td>AdaBoost Classifier</td>\n",
              "      <td>1510360</td>\n",
              "    </tr>\n",
              "    <tr>\n",
              "      <th>2</th>\n",
              "      <td>Gradient Boosting</td>\n",
              "      <td>1612840</td>\n",
              "    </tr>\n",
              "    <tr>\n",
              "      <th>5</th>\n",
              "      <td>XGBClassifier</td>\n",
              "      <td>1652250</td>\n",
              "    </tr>\n",
              "  </tbody>\n",
              "</table>\n",
              "</div>\n",
              "      <button class=\"colab-df-convert\" onclick=\"convertToInteractive('df-229c76a1-740c-4db4-bc9f-5e2043e2dc62')\"\n",
              "              title=\"Convert this dataframe to an interactive table.\"\n",
              "              style=\"display:none;\">\n",
              "        \n",
              "  <svg xmlns=\"http://www.w3.org/2000/svg\" height=\"24px\"viewBox=\"0 0 24 24\"\n",
              "       width=\"24px\">\n",
              "    <path d=\"M0 0h24v24H0V0z\" fill=\"none\"/>\n",
              "    <path d=\"M18.56 5.44l.94 2.06.94-2.06 2.06-.94-2.06-.94-.94-2.06-.94 2.06-2.06.94zm-11 1L8.5 8.5l.94-2.06 2.06-.94-2.06-.94L8.5 2.5l-.94 2.06-2.06.94zm10 10l.94 2.06.94-2.06 2.06-.94-2.06-.94-.94-2.06-.94 2.06-2.06.94z\"/><path d=\"M17.41 7.96l-1.37-1.37c-.4-.4-.92-.59-1.43-.59-.52 0-1.04.2-1.43.59L10.3 9.45l-7.72 7.72c-.78.78-.78 2.05 0 2.83L4 21.41c.39.39.9.59 1.41.59.51 0 1.02-.2 1.41-.59l7.78-7.78 2.81-2.81c.8-.78.8-2.07 0-2.86zM5.41 20L4 18.59l7.72-7.72 1.47 1.35L5.41 20z\"/>\n",
              "  </svg>\n",
              "      </button>\n",
              "      \n",
              "  <style>\n",
              "    .colab-df-container {\n",
              "      display:flex;\n",
              "      flex-wrap:wrap;\n",
              "      gap: 12px;\n",
              "    }\n",
              "\n",
              "    .colab-df-convert {\n",
              "      background-color: #E8F0FE;\n",
              "      border: none;\n",
              "      border-radius: 50%;\n",
              "      cursor: pointer;\n",
              "      display: none;\n",
              "      fill: #1967D2;\n",
              "      height: 32px;\n",
              "      padding: 0 0 0 0;\n",
              "      width: 32px;\n",
              "    }\n",
              "\n",
              "    .colab-df-convert:hover {\n",
              "      background-color: #E2EBFA;\n",
              "      box-shadow: 0px 1px 2px rgba(60, 64, 67, 0.3), 0px 1px 3px 1px rgba(60, 64, 67, 0.15);\n",
              "      fill: #174EA6;\n",
              "    }\n",
              "\n",
              "    [theme=dark] .colab-df-convert {\n",
              "      background-color: #3B4455;\n",
              "      fill: #D2E3FC;\n",
              "    }\n",
              "\n",
              "    [theme=dark] .colab-df-convert:hover {\n",
              "      background-color: #434B5C;\n",
              "      box-shadow: 0px 1px 3px 1px rgba(0, 0, 0, 0.15);\n",
              "      filter: drop-shadow(0px 1px 2px rgba(0, 0, 0, 0.3));\n",
              "      fill: #FFFFFF;\n",
              "    }\n",
              "  </style>\n",
              "\n",
              "      <script>\n",
              "        const buttonEl =\n",
              "          document.querySelector('#df-229c76a1-740c-4db4-bc9f-5e2043e2dc62 button.colab-df-convert');\n",
              "        buttonEl.style.display =\n",
              "          google.colab.kernel.accessAllowed ? 'block' : 'none';\n",
              "\n",
              "        async function convertToInteractive(key) {\n",
              "          const element = document.querySelector('#df-229c76a1-740c-4db4-bc9f-5e2043e2dc62');\n",
              "          const dataTable =\n",
              "            await google.colab.kernel.invokeFunction('convertToInteractive',\n",
              "                                                     [key], {});\n",
              "          if (!dataTable) return;\n",
              "\n",
              "          const docLinkHtml = 'Like what you see? Visit the ' +\n",
              "            '<a target=\"_blank\" href=https://colab.research.google.com/notebooks/data_table.ipynb>data table notebook</a>'\n",
              "            + ' to learn more about interactive tables.';\n",
              "          element.innerHTML = '';\n",
              "          dataTable['output_type'] = 'display_data';\n",
              "          await google.colab.output.renderOutput(dataTable, element);\n",
              "          const docLink = document.createElement('div');\n",
              "          docLink.innerHTML = docLinkHtml;\n",
              "          element.appendChild(docLink);\n",
              "        }\n",
              "      </script>\n",
              "    </div>\n",
              "  </div>\n",
              "  "
            ]
          },
          "metadata": {},
          "execution_count": 175
        }
      ]
    },
    {
      "cell_type": "markdown",
      "source": [
        "**Insights**\n",
        "\n",
        "* Experiment: 5 with Simple imputer strategy mean has Random Forest as the best model\n",
        "* Proceeding with further experiments"
      ],
      "metadata": {
        "id": "jMv2Bs0sOjne"
      },
      "id": "jMv2Bs0sOjne"
    },
    {
      "cell_type": "markdown",
      "source": [
        "# Experiment 6: Principle component analysis with imputing median\n",
        "\n",
        "* Principal component analysis is a technique for feature extraction — so it combines our input variables in a specific way, then we can drop the “least important” variables while still retaining the most valuable parts of all of the variables!\n",
        "* As the dataset has 21 columns we can try PCA and check our metrics Cost"
      ],
      "metadata": {
        "id": "l5JiOWsXO1ki"
      },
      "id": "l5JiOWsXO1ki"
    },
    {
      "cell_type": "code",
      "source": [
        "from sklearn.decomposition import PCA"
      ],
      "metadata": {
        "id": "zhFOMJuBNTph"
      },
      "id": "zhFOMJuBNTph",
      "execution_count": 176,
      "outputs": []
    },
    {
      "cell_type": "code",
      "source": [
        "pca_pipeline = Pipeline(steps=[\n",
        "    ('Imputer', SimpleImputer(strategy='constant', fill_value=0)),\n",
        "    ('RobustScaler', RobustScaler())\n",
        "])"
      ],
      "metadata": {
        "id": "rmZhD_uIPJaR"
      },
      "id": "rmZhD_uIPJaR",
      "execution_count": 177,
      "outputs": []
    },
    {
      "cell_type": "code",
      "source": [
        "X_pca = pca_pipeline.fit_transform(X)"
      ],
      "metadata": {
        "id": "rSGm9Z1bPNzB"
      },
      "id": "rSGm9Z1bPNzB",
      "execution_count": 178,
      "outputs": []
    },
    {
      "cell_type": "code",
      "source": [
        "#Applying PCA\n",
        "\n",
        "var_ratio={}\n",
        "for n in range(2,18):\n",
        "    pc=PCA(n_components=n)\n",
        "    df_pca=pc.fit(X_pca)\n",
        "    var_ratio[n]=sum(df_pca.explained_variance_ratio_)"
      ],
      "metadata": {
        "id": "3HFYum3HPR5C"
      },
      "id": "3HFYum3HPR5C",
      "execution_count": 179,
      "outputs": []
    },
    {
      "cell_type": "markdown",
      "source": [
        "**Variance Plot**"
      ],
      "metadata": {
        "id": "KyYWkWsoQVTc"
      },
      "id": "KyYWkWsoQVTc"
    },
    {
      "cell_type": "code",
      "source": [
        "# plotting variance ratio\n",
        "pd.Series(var_ratio).plot()"
      ],
      "metadata": {
        "colab": {
          "base_uri": "https://localhost:8080/",
          "height": 282
        },
        "id": "Ayr7dKHnPXGi",
        "outputId": "170831b3-405c-47e5-c9d2-d4334df97264"
      },
      "id": "Ayr7dKHnPXGi",
      "execution_count": 180,
      "outputs": [
        {
          "output_type": "execute_result",
          "data": {
            "text/plain": [
              "<matplotlib.axes._subplots.AxesSubplot at 0x7f2da1fdc430>"
            ]
          },
          "metadata": {},
          "execution_count": 180
        },
        {
          "output_type": "display_data",
          "data": {
            "text/plain": [
              "<Figure size 432x288 with 1 Axes>"
            ],
            "image/png": "[encoded data removed]"
          },
          "metadata": {
            "needs_background": "light"
          }
        }
      ]
    },
    {
      "cell_type": "markdown",
      "source": [
        "* Kneed algorithm to find the elbow point\n",
        "* Given a set of x and y values, kneed will return the knee point of the function. The knee point is the point of maximum curvature.\n",
        "\n"
      ],
      "metadata": {
        "id": "15R6ZbVJQc38"
      },
      "id": "15R6ZbVJQc38"
    },
    {
      "cell_type": "code",
      "source": [
        "from kneed import KneeLocator\n",
        "\n",
        "i = np.arange(len(var_ratio))\n",
        "variance_ratio= list(var_ratio.values())\n",
        "components=  list(var_ratio.keys())\n",
        "knee = KneeLocator(i, variance_ratio, S=1, curve='concave', interp_method='polynomial')\n",
        "\n",
        "fig = plt.figure(figsize=(5, 5))\n",
        "knee.plot_knee()\n",
        "plt.xlabel(\"Points\")\n",
        "plt.ylabel(\"Distance\")\n",
        "plt.show()\n",
        "k= components[knee.knee]\n",
        "print('Knee Locator k =', k)"
      ],
      "metadata": {
        "colab": {
          "base_uri": "https://localhost:8080/",
          "height": 439
        },
        "id": "zbIF3yMeQYs2",
        "outputId": "b911e477-b9fe-43bb-f6ea-236bf8f7813b"
      },
      "id": "zbIF3yMeQYs2",
      "execution_count": 181,
      "outputs": [
        {
          "output_type": "display_data",
          "data": {
            "text/plain": [
              "<Figure size 360x360 with 0 Axes>"
            ]
          },
          "metadata": {}
        },
        {
          "output_type": "display_data",
          "data": {
            "text/plain": [
              "<Figure size 432x432 with 1 Axes>"
            ],
            "image/png": "[encoded data removed]"
          },
          "metadata": {
            "needs_background": "light"
          }
        },
        {
          "output_type": "stream",
          "name": "stdout",
          "text": [
            "Knee Locator k = 6\n"
          ]
        }
      ]
    },
    {
      "cell_type": "code",
      "source": [
        "# Reducing the dimension of the data\n",
        "\n",
        "pca_final =PCA(n_components = 7, random_state=1).fit(X_res)\n",
        "\n",
        "reduced = pca_final.fit_transform(X_pca)"
      ],
      "metadata": {
        "id": "5L6Ax0NdQ2X4"
      },
      "id": "5L6Ax0NdQ2X4",
      "execution_count": 182,
      "outputs": []
    },
    {
      "cell_type": "code",
      "source": [
        "# Resampling the minority class. The strategy can be changed as required.\n",
        "smt = SMOTETomek(random_state=1,sampling_strategy='minority', n_jobs=-1)\n",
        "# Fit the model to generate the data.\n",
        "X_res, y_res = smt.fit_resample(reduced, y)"
      ],
      "metadata": {
        "id": "U0pGZlN1RXKy"
      },
      "id": "U0pGZlN1RXKy",
      "execution_count": 183,
      "outputs": []
    },
    {
      "cell_type": "code",
      "source": [
        "# Training all models\n",
        "report_pca = evaluate_models(X_res,y_res, models)"
      ],
      "metadata": {
        "colab": {
          "base_uri": "https://localhost:8080/"
        },
        "id": "vGs1Kp0HRa6z",
        "outputId": "4b651d22-cb50-4b69-b2fe-bbf43204933e"
      },
      "id": "vGs1Kp0HRa6z",
      "execution_count": 184,
      "outputs": [
        {
          "output_type": "stream",
          "name": "stdout",
          "text": [
            "Random Forest\n",
            "Model performance for Training set\n",
            "- Accuracy: 0.7992\n",
            "- F1 score: 0.7882\n",
            "- Precision: 0.8323\n",
            "- Recall: 0.7486\n",
            "- Roc Auc Score: 0.7991\n",
            "- COST: 4074310.\n",
            "----------------------------------\n",
            "Model performance for Test set\n",
            "- Accuracy: 0.7473\n",
            "- F1 score: 0.7372\n",
            "- Precision: 0.7732\n",
            "- Recall: 0.7044\n",
            "- Roc Auc Score: 0.7475\n",
            "- COST: 1209680.\n",
            "===================================\n",
            "\n",
            "\n",
            "Decision Tree\n",
            "Model performance for Training set\n",
            "- Accuracy: 0.7992\n",
            "- F1 score: 0.7866\n",
            "- Precision: 0.8379\n",
            "- Recall: 0.7411\n",
            "- Roc Auc Score: 0.7991\n",
            "- COST: 4191400.\n",
            "----------------------------------\n",
            "Model performance for Test set\n",
            "- Accuracy: 0.7405\n",
            "- F1 score: 0.7280\n",
            "- Precision: 0.7703\n",
            "- Recall: 0.6901\n",
            "- Roc Auc Score: 0.7408\n",
            "- COST: 1267610.\n",
            "===================================\n",
            "\n",
            "\n",
            "Gradient Boosting\n",
            "Model performance for Training set\n",
            "- Accuracy: 0.7142\n",
            "- F1 score: 0.6809\n",
            "- Precision: 0.7693\n",
            "- Recall: 0.6107\n",
            "- Roc Auc Score: 0.7141\n",
            "- COST: 6292160.\n",
            "----------------------------------\n",
            "Model performance for Test set\n",
            "- Accuracy: 0.7092\n",
            "- F1 score: 0.6765\n",
            "- Precision: 0.7687\n",
            "- Recall: 0.6040\n",
            "- Roc Auc Score: 0.7099\n",
            "- COST: 1613170.\n",
            "===================================\n",
            "\n",
            "\n",
            "Logistic Regression\n",
            "Model performance for Training set\n",
            "- Accuracy: 0.6354\n",
            "- F1 score: 0.6276\n",
            "- Precision: 0.6403\n",
            "- Recall: 0.6153\n",
            "- Roc Auc Score: 0.6354\n",
            "- COST: 6270690.\n",
            "----------------------------------\n",
            "Model performance for Test set\n",
            "- Accuracy: 0.6355\n",
            "- F1 score: 0.6320\n",
            "- Precision: 0.6424\n",
            "- Recall: 0.6219\n",
            "- Roc Auc Score: 0.6356\n",
            "- COST: 1553950.\n",
            "===================================\n",
            "\n",
            "\n",
            "K-Neighbors Classifier\n",
            "Model performance for Training set\n",
            "- Accuracy: 0.7466\n",
            "- F1 score: 0.7397\n",
            "- Precision: 0.7590\n",
            "- Recall: 0.7214\n",
            "- Roc Auc Score: 0.7465\n",
            "- COST: 4534870.\n",
            "----------------------------------\n",
            "Model performance for Test set\n",
            "- Accuracy: 0.7107\n",
            "- F1 score: 0.7057\n",
            "- Precision: 0.7229\n",
            "- Recall: 0.6893\n",
            "- Roc Auc Score: 0.7108\n",
            "- COST: 1275330.\n",
            "===================================\n",
            "\n",
            "\n",
            "XGBClassifier\n",
            "Model performance for Training set\n",
            "- Accuracy: 0.7076\n",
            "- F1 score: 0.6739\n",
            "- Precision: 0.7603\n",
            "- Recall: 0.6051\n",
            "- Roc Auc Score: 0.7075\n",
            "- COST: 6384600.\n",
            "----------------------------------\n",
            "Model performance for Test set\n",
            "- Accuracy: 0.7008\n",
            "- F1 score: 0.6676\n",
            "- Precision: 0.7571\n",
            "- Recall: 0.5971\n",
            "- Roc Auc Score: 0.7015\n",
            "- COST: 1641960.\n",
            "===================================\n",
            "\n",
            "\n",
            "CatBoosting Classifier\n",
            "Model performance for Training set\n",
            "- Accuracy: 0.7576\n",
            "- F1 score: 0.7396\n",
            "- Precision: 0.7975\n",
            "- Recall: 0.6895\n",
            "- Roc Auc Score: 0.7575\n",
            "- COST: 5028550.\n",
            "----------------------------------\n",
            "Model performance for Test set\n",
            "- Accuracy: 0.7337\n",
            "- F1 score: 0.7155\n",
            "- Precision: 0.7739\n",
            "- Recall: 0.6653\n",
            "- Roc Auc Score: 0.7342\n",
            "- COST: 1366690.\n",
            "===================================\n",
            "\n",
            "\n",
            "AdaBoost Classifier\n",
            "Model performance for Training set\n",
            "- Accuracy: 0.6910\n",
            "- F1 score: 0.6687\n",
            "- Precision: 0.7193\n",
            "- Recall: 0.6248\n",
            "- Roc Auc Score: 0.6909\n",
            "- COST: 6086090.\n",
            "----------------------------------\n",
            "Model performance for Test set\n",
            "- Accuracy: 0.6870\n",
            "- F1 score: 0.6660\n",
            "- Precision: 0.7192\n",
            "- Recall: 0.6202\n",
            "- Roc Auc Score: 0.6874\n",
            "- COST: 1552550.\n",
            "===================================\n",
            "\n",
            "\n"
          ]
        }
      ]
    },
    {
      "cell_type": "code",
      "source": [
        "report_pca"
      ],
      "metadata": {
        "colab": {
          "base_uri": "https://localhost:8080/",
          "height": 300
        },
        "id": "lN-E6U0BRd6D",
        "outputId": "52861845-e5e7-4b59-80e1-49a5bbdeb0d4"
      },
      "id": "lN-E6U0BRd6D",
      "execution_count": 185,
      "outputs": [
        {
          "output_type": "execute_result",
          "data": {
            "text/plain": [
              "               Model Name     Cost\n",
              "0           Random Forest  1209680\n",
              "1           Decision Tree  1267610\n",
              "4  K-Neighbors Classifier  1275330\n",
              "6  CatBoosting Classifier  1366690\n",
              "7     AdaBoost Classifier  1552550\n",
              "3     Logistic Regression  1553950\n",
              "2       Gradient Boosting  1613170\n",
              "5           XGBClassifier  1641960"
            ],
            "text/html": [
              "\n",
              "  <div id=\"df-5bb91bda-7548-4b13-b4d2-fe1eff6cf367\">\n",
              "    <div class=\"colab-df-container\">\n",
              "      <div>\n",
              "<style scoped>\n",
              "    .dataframe tbody tr th:only-of-type {\n",
              "        vertical-align: middle;\n",
              "    }\n",
              "\n",
              "    .dataframe tbody tr th {\n",
              "        vertical-align: top;\n",
              "    }\n",
              "\n",
              "    .dataframe thead th {\n",
              "        text-align: right;\n",
              "    }\n",
              "</style>\n",
              "<table border=\"1\" class=\"dataframe\">\n",
              "  <thead>\n",
              "    <tr style=\"text-align: right;\">\n",
              "      <th></th>\n",
              "      <th>Model Name</th>\n",
              "      <th>Cost</th>\n",
              "    </tr>\n",
              "  </thead>\n",
              "  <tbody>\n",
              "    <tr>\n",
              "      <th>0</th>\n",
              "      <td>Random Forest</td>\n",
              "      <td>1209680</td>\n",
              "    </tr>\n",
              "    <tr>\n",
              "      <th>1</th>\n",
              "      <td>Decision Tree</td>\n",
              "      <td>1267610</td>\n",
              "    </tr>\n",
              "    <tr>\n",
              "      <th>4</th>\n",
              "      <td>K-Neighbors Classifier</td>\n",
              "      <td>1275330</td>\n",
              "    </tr>\n",
              "    <tr>\n",
              "      <th>6</th>\n",
              "      <td>CatBoosting Classifier</td>\n",
              "      <td>1366690</td>\n",
              "    </tr>\n",
              "    <tr>\n",
              "      <th>7</th>\n",
              "      <td>AdaBoost Classifier</td>\n",
              "      <td>1552550</td>\n",
              "    </tr>\n",
              "    <tr>\n",
              "      <th>3</th>\n",
              "      <td>Logistic Regression</td>\n",
              "      <td>1553950</td>\n",
              "    </tr>\n",
              "    <tr>\n",
              "      <th>2</th>\n",
              "      <td>Gradient Boosting</td>\n",
              "      <td>1613170</td>\n",
              "    </tr>\n",
              "    <tr>\n",
              "      <th>5</th>\n",
              "      <td>XGBClassifier</td>\n",
              "      <td>1641960</td>\n",
              "    </tr>\n",
              "  </tbody>\n",
              "</table>\n",
              "</div>\n",
              "      <button class=\"colab-df-convert\" onclick=\"convertToInteractive('df-5bb91bda-7548-4b13-b4d2-fe1eff6cf367')\"\n",
              "              title=\"Convert this dataframe to an interactive table.\"\n",
              "              style=\"display:none;\">\n",
              "        \n",
              "  <svg xmlns=\"http://www.w3.org/2000/svg\" height=\"24px\"viewBox=\"0 0 24 24\"\n",
              "       width=\"24px\">\n",
              "    <path d=\"M0 0h24v24H0V0z\" fill=\"none\"/>\n",
              "    <path d=\"M18.56 5.44l.94 2.06.94-2.06 2.06-.94-2.06-.94-.94-2.06-.94 2.06-2.06.94zm-11 1L8.5 8.5l.94-2.06 2.06-.94-2.06-.94L8.5 2.5l-.94 2.06-2.06.94zm10 10l.94 2.06.94-2.06 2.06-.94-2.06-.94-.94-2.06-.94 2.06-2.06.94z\"/><path d=\"M17.41 7.96l-1.37-1.37c-.4-.4-.92-.59-1.43-.59-.52 0-1.04.2-1.43.59L10.3 9.45l-7.72 7.72c-.78.78-.78 2.05 0 2.83L4 21.41c.39.39.9.59 1.41.59.51 0 1.02-.2 1.41-.59l7.78-7.78 2.81-2.81c.8-.78.8-2.07 0-2.86zM5.41 20L4 18.59l7.72-7.72 1.47 1.35L5.41 20z\"/>\n",
              "  </svg>\n",
              "      </button>\n",
              "      \n",
              "  <style>\n",
              "    .colab-df-container {\n",
              "      display:flex;\n",
              "      flex-wrap:wrap;\n",
              "      gap: 12px;\n",
              "    }\n",
              "\n",
              "    .colab-df-convert {\n",
              "      background-color: #E8F0FE;\n",
              "      border: none;\n",
              "      border-radius: 50%;\n",
              "      cursor: pointer;\n",
              "      display: none;\n",
              "      fill: #1967D2;\n",
              "      height: 32px;\n",
              "      padding: 0 0 0 0;\n",
              "      width: 32px;\n",
              "    }\n",
              "\n",
              "    .colab-df-convert:hover {\n",
              "      background-color: #E2EBFA;\n",
              "      box-shadow: 0px 1px 2px rgba(60, 64, 67, 0.3), 0px 1px 3px 1px rgba(60, 64, 67, 0.15);\n",
              "      fill: #174EA6;\n",
              "    }\n",
              "\n",
              "    [theme=dark] .colab-df-convert {\n",
              "      background-color: #3B4455;\n",
              "      fill: #D2E3FC;\n",
              "    }\n",
              "\n",
              "    [theme=dark] .colab-df-convert:hover {\n",
              "      background-color: #434B5C;\n",
              "      box-shadow: 0px 1px 3px 1px rgba(0, 0, 0, 0.15);\n",
              "      filter: drop-shadow(0px 1px 2px rgba(0, 0, 0, 0.3));\n",
              "      fill: #FFFFFF;\n",
              "    }\n",
              "  </style>\n",
              "\n",
              "      <script>\n",
              "        const buttonEl =\n",
              "          document.querySelector('#df-5bb91bda-7548-4b13-b4d2-fe1eff6cf367 button.colab-df-convert');\n",
              "        buttonEl.style.display =\n",
              "          google.colab.kernel.accessAllowed ? 'block' : 'none';\n",
              "\n",
              "        async function convertToInteractive(key) {\n",
              "          const element = document.querySelector('#df-5bb91bda-7548-4b13-b4d2-fe1eff6cf367');\n",
              "          const dataTable =\n",
              "            await google.colab.kernel.invokeFunction('convertToInteractive',\n",
              "                                                     [key], {});\n",
              "          if (!dataTable) return;\n",
              "\n",
              "          const docLinkHtml = 'Like what you see? Visit the ' +\n",
              "            '<a target=\"_blank\" href=https://colab.research.google.com/notebooks/data_table.ipynb>data table notebook</a>'\n",
              "            + ' to learn more about interactive tables.';\n",
              "          element.innerHTML = '';\n",
              "          dataTable['output_type'] = 'display_data';\n",
              "          await google.colab.output.renderOutput(dataTable, element);\n",
              "          const docLink = document.createElement('div');\n",
              "          docLink.innerHTML = docLinkHtml;\n",
              "          element.appendChild(docLink);\n",
              "        }\n",
              "      </script>\n",
              "    </div>\n",
              "  </div>\n",
              "  "
            ]
          },
          "metadata": {},
          "execution_count": 185
        }
      ]
    },
    {
      "cell_type": "markdown",
      "source": [
        "**Insights**\n",
        "\n",
        "* Experiment: 6 = Principle component analysis with imputing median gas K-Neighbor as the best model"
      ],
      "metadata": {
        "id": "JwrMKkB7SA2K"
      },
      "id": "JwrMKkB7SA2K"
    },
    {
      "cell_type": "code",
      "source": [
        "from prettytable import PrettyTable\n",
        "\n",
        "pt=PrettyTable()\n",
        "pt.field_names=[\"Model\",\"Imputation_method\",\"Total_cost\"]\n",
        "pt.add_row([\"K Neighbor Classifer\",\"KNN imputer\",\"1161480\"])\n",
        "pt.add_row([\"K Neighbor Classifer\",\"Simple Imputer-Mean\",\"1153140\"])\n",
        "pt.add_row([\"K Neighbor Classifer\",\"Mice Imputer\",\"1146220\"])\n",
        "pt.add_row([\"Random Forest\",\"Simple Imputer-Constant\",\"1152200\"])\n",
        "pt.add_row([\"Random Forest\",\"PCA-Mean\",\"1209680\"])\n",
        "print(pt)"
      ],
      "metadata": {
        "colab": {
          "base_uri": "https://localhost:8080/"
        },
        "id": "WcI-0pAZRf-r",
        "outputId": "ab1a78ad-2fdb-4aa9-c498-e0f04d404bbe"
      },
      "id": "WcI-0pAZRf-r",
      "execution_count": 187,
      "outputs": [
        {
          "output_type": "stream",
          "name": "stdout",
          "text": [
            "+----------------------+-------------------------+------------+\n",
            "|        Model         |    Imputation_method    | Total_cost |\n",
            "+----------------------+-------------------------+------------+\n",
            "| K Neighbor Classifer |       KNN imputer       |  1161480   |\n",
            "| K Neighbor Classifer |   Simple Imputer-Mean   |  1153140   |\n",
            "| K Neighbor Classifer |       Mice Imputer      |  1146220   |\n",
            "|    Random Forest     | Simple Imputer-Constant |  1152200   |\n",
            "|    Random Forest     |         PCA-Mean        |  1209680   |\n",
            "+----------------------+-------------------------+------------+\n"
          ]
        }
      ]
    },
    {
      "cell_type": "markdown",
      "source": [
        "**Report**\n",
        "\n",
        "* From the final report we can see than Random Forest with Mice imputer for null values has performed the best with cost of 1146220"
      ],
      "metadata": {
        "id": "GvoUqscMXQYf"
      },
      "id": "GvoUqscMXQYf"
    },
    {
      "cell_type": "markdown",
      "source": [
        "# Fitting the Final Model and get reports"
      ],
      "metadata": {
        "id": "t66AIPmSXoa7"
      },
      "id": "t66AIPmSXoa7"
    },
    {
      "cell_type": "code",
      "source": [
        "final_model = RandomForestClassifier()\n",
        "\n",
        "# Resampling the minority class. The strategy can be changed as required.\n",
        "smt = SMOTETomek(random_state=1,sampling_strategy='minority', n_jobs=-1)\n",
        "# Fit the model to generate the data.\n",
        "X_res, y_res = smt.fit_resample(X_mice, y)"
      ],
      "metadata": {
        "id": "MvCb8VMASpOc"
      },
      "id": "MvCb8VMASpOc",
      "execution_count": 188,
      "outputs": []
    },
    {
      "cell_type": "code",
      "source": [
        "X_train, X_test, y_train, y_test = train_test_split(X_res,y_res,test_size=0.2,random_state=1)\n",
        "\n",
        "final_model = final_model.fit(X_train, y_train)\n",
        "y_pred = final_model.predict(X_test)"
      ],
      "metadata": {
        "id": "IR1I1rgyWfgI"
      },
      "id": "IR1I1rgyWfgI",
      "execution_count": 189,
      "outputs": []
    },
    {
      "cell_type": "code",
      "source": [
        "print(\"Final Random Forest Accuracy Score (Train) :\", final_model.score(X_train,y_train))\n",
        "print(\"Final Random Forest Accuracy Score (Test) :\", accuracy_score(y_pred,y_test))"
      ],
      "metadata": {
        "colab": {
          "base_uri": "https://localhost:8080/"
        },
        "id": "-EID8rCCkNQK",
        "outputId": "fb266472-0b0e-42f3-98fd-a320e5663307"
      },
      "id": "-EID8rCCkNQK",
      "execution_count": 190,
      "outputs": [
        {
          "output_type": "stream",
          "name": "stdout",
          "text": [
            "Final Random Forest Accuracy Score (Train) : 0.8001091788193091\n",
            "Final Random Forest Accuracy Score (Test) : 0.7513257221286418\n"
          ]
        }
      ]
    },
    {
      "cell_type": "code",
      "source": [
        "print(\"Final Random Forest Cost Metric(Test) :\",total_cost(y_test, y_pred))\n"
      ],
      "metadata": {
        "colab": {
          "base_uri": "https://localhost:8080/"
        },
        "id": "xX8gcSQkkZRD",
        "outputId": "bd8f02f1-27ed-4092-a47b-d5d16f07e5c1"
      },
      "id": "xX8gcSQkkZRD",
      "execution_count": 191,
      "outputs": [
        {
          "output_type": "stream",
          "name": "stdout",
          "text": [
            "Final Random Forest Cost Metric(Test) : 1260940\n"
          ]
        }
      ]
    },
    {
      "cell_type": "code",
      "source": [
        "from sklearn.metrics import plot_confusion_matrix\n",
        "\n",
        "#plots Confusion matrix\n",
        "plot_confusion_matrix(final_model, X_test, y_test, cmap='Blues', values_format='d')"
      ],
      "metadata": {
        "colab": {
          "base_uri": "https://localhost:8080/",
          "height": 296
        },
        "id": "jPrRNbUCke1E",
        "outputId": "198b0bc2-bcfa-44a9-fb67-6e97c4db6bf3"
      },
      "id": "jPrRNbUCke1E",
      "execution_count": 192,
      "outputs": [
        {
          "output_type": "execute_result",
          "data": {
            "text/plain": [
              "<sklearn.metrics._plot.confusion_matrix.ConfusionMatrixDisplay at 0x7f2da16c1a30>"
            ]
          },
          "metadata": {},
          "execution_count": 192
        },
        {
          "output_type": "display_data",
          "data": {
            "text/plain": [
              "<Figure size 432x288 with 2 Axes>"
            ],
            "image/png": "[encoded data removed]"
          },
          "metadata": {
            "needs_background": "light"
          }
        }
      ]
    },
    {
      "cell_type": "markdown",
      "source": [
        "# The best Model is Random Forest with 75.1% accuracy and cost of 1260940"
      ],
      "metadata": {
        "id": "ULP0_JJzkyq7"
      },
      "id": "ULP0_JJzkyq7"
    },
    {
      "cell_type": "code",
      "source": [],
      "metadata": {
        "id": "m9pTpIAdk01E"
      },
      "id": "m9pTpIAdk01E",
      "execution_count": null,
      "outputs": []
    }
  ],
  "metadata": {
    "kernelspec": {
      "display_name": "Python 3 (ipykernel)",
      "language": "python",
      "name": "python3"
    },
    "language_info": {
      "codemirror_mode": {
        "name": "ipython",
        "version": 3
      },
      "file_extension": ".py",
      "mimetype": "text/x-python",
      "name": "python",
      "nbconvert_exporter": "python",
      "pygments_lexer": "ipython3",
      "version": "3.9.13"
    },
    "colab": {
      "provenance": []
    }
  },
  "nbformat": 4,
  "nbformat_minor": 5
}