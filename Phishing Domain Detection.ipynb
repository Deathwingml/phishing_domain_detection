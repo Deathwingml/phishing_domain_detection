{
 "cells": [
  {
   "cell_type": "code",
   "execution_count": 3,
   "id": "7a338eea",
   "metadata": {},
   "outputs": [],
   "source": [
    "import pandas as pd\n",
    "from urllib.parse import urlsplit\n",
    "from urllib.parse import urlparse\n",
    "import re"
   ]
  },
  {
   "cell_type": "code",
   "execution_count": 5,
   "id": "3d512960",
   "metadata": {},
   "outputs": [],
   "source": [
    "# Reading Data\n",
    "\n",
    "df = pd.read_csv(\"phishing_site_urls.csv\")"
   ]
  },
  {
   "cell_type": "code",
   "execution_count": 6,
   "id": "6afd26f5",
   "metadata": {},
   "outputs": [
    {
     "data": {
      "text/html": [
       "<div>\n",
       "<style scoped>\n",
       "    .dataframe tbody tr th:only-of-type {\n",
       "        vertical-align: middle;\n",
       "    }\n",
       "\n",
       "    .dataframe tbody tr th {\n",
       "        vertical-align: top;\n",
       "    }\n",
       "\n",
       "    .dataframe thead th {\n",
       "        text-align: right;\n",
       "    }\n",
       "</style>\n",
       "<table border=\"1\" class=\"dataframe\">\n",
       "  <thead>\n",
       "    <tr style=\"text-align: right;\">\n",
       "      <th></th>\n",
       "      <th>URL</th>\n",
       "      <th>Label</th>\n",
       "    </tr>\n",
       "  </thead>\n",
       "  <tbody>\n",
       "    <tr>\n",
       "      <th>0</th>\n",
       "      <td>nobell.it/70ffb52d079109dca5664cce6f317373782/...</td>\n",
       "      <td>bad</td>\n",
       "    </tr>\n",
       "    <tr>\n",
       "      <th>1</th>\n",
       "      <td>www.dghjdgf.com/paypal.co.uk/cycgi-bin/webscrc...</td>\n",
       "      <td>bad</td>\n",
       "    </tr>\n",
       "    <tr>\n",
       "      <th>2</th>\n",
       "      <td>serviciosbys.com/paypal.cgi.bin.get-into.herf....</td>\n",
       "      <td>bad</td>\n",
       "    </tr>\n",
       "    <tr>\n",
       "      <th>3</th>\n",
       "      <td>mail.printakid.com/www.online.americanexpress....</td>\n",
       "      <td>bad</td>\n",
       "    </tr>\n",
       "    <tr>\n",
       "      <th>4</th>\n",
       "      <td>thewhiskeydregs.com/wp-content/themes/widescre...</td>\n",
       "      <td>bad</td>\n",
       "    </tr>\n",
       "  </tbody>\n",
       "</table>\n",
       "</div>"
      ],
      "text/plain": [
       "                                                 URL Label\n",
       "0  nobell.it/70ffb52d079109dca5664cce6f317373782/...   bad\n",
       "1  www.dghjdgf.com/paypal.co.uk/cycgi-bin/webscrc...   bad\n",
       "2  serviciosbys.com/paypal.cgi.bin.get-into.herf....   bad\n",
       "3  mail.printakid.com/www.online.americanexpress....   bad\n",
       "4  thewhiskeydregs.com/wp-content/themes/widescre...   bad"
      ]
     },
     "execution_count": 6,
     "metadata": {},
     "output_type": "execute_result"
    }
   ],
   "source": [
    "# Checking first 5 rows\n",
    "\n",
    "df.head()"
   ]
  },
  {
   "cell_type": "code",
   "execution_count": 7,
   "id": "ff087022",
   "metadata": {},
   "outputs": [
    {
     "data": {
      "text/plain": [
       "(549346, 2)"
      ]
     },
     "execution_count": 7,
     "metadata": {},
     "output_type": "execute_result"
    }
   ],
   "source": [
    "# Number of rows and columns\n",
    "\n",
    "df.shape"
   ]
  },
  {
   "cell_type": "code",
   "execution_count": 8,
   "id": "11a2ce67",
   "metadata": {},
   "outputs": [
    {
     "data": {
      "text/html": [
       "<div>\n",
       "<style scoped>\n",
       "    .dataframe tbody tr th:only-of-type {\n",
       "        vertical-align: middle;\n",
       "    }\n",
       "\n",
       "    .dataframe tbody tr th {\n",
       "        vertical-align: top;\n",
       "    }\n",
       "\n",
       "    .dataframe thead th {\n",
       "        text-align: right;\n",
       "    }\n",
       "</style>\n",
       "<table border=\"1\" class=\"dataframe\">\n",
       "  <thead>\n",
       "    <tr style=\"text-align: right;\">\n",
       "      <th></th>\n",
       "      <th>URL</th>\n",
       "      <th>Label</th>\n",
       "    </tr>\n",
       "  </thead>\n",
       "  <tbody>\n",
       "    <tr>\n",
       "      <th>count</th>\n",
       "      <td>549346</td>\n",
       "      <td>549346</td>\n",
       "    </tr>\n",
       "    <tr>\n",
       "      <th>unique</th>\n",
       "      <td>507195</td>\n",
       "      <td>2</td>\n",
       "    </tr>\n",
       "    <tr>\n",
       "      <th>top</th>\n",
       "      <td>jhomitevd2abj3fk.tor2web.org/</td>\n",
       "      <td>good</td>\n",
       "    </tr>\n",
       "    <tr>\n",
       "      <th>freq</th>\n",
       "      <td>52</td>\n",
       "      <td>392924</td>\n",
       "    </tr>\n",
       "  </tbody>\n",
       "</table>\n",
       "</div>"
      ],
      "text/plain": [
       "                                  URL   Label\n",
       "count                          549346  549346\n",
       "unique                         507195       2\n",
       "top     jhomitevd2abj3fk.tor2web.org/    good\n",
       "freq                               52  392924"
      ]
     },
     "execution_count": 8,
     "metadata": {},
     "output_type": "execute_result"
    }
   ],
   "source": [
    "# Describe the dataset\n",
    "\n",
    "df.describe()"
   ]
  },
  {
   "cell_type": "code",
   "execution_count": 9,
   "id": "926d81d7",
   "metadata": {},
   "outputs": [
    {
     "data": {
      "text/plain": [
       "URL      object\n",
       "Label    object\n",
       "dtype: object"
      ]
     },
     "execution_count": 9,
     "metadata": {},
     "output_type": "execute_result"
    }
   ],
   "source": [
    "# Checking datatypes of the columns\n",
    "\n",
    "df.dtypes"
   ]
  },
  {
   "cell_type": "code",
   "execution_count": 10,
   "id": "0cb9b12c",
   "metadata": {},
   "outputs": [
    {
     "data": {
      "text/plain": [
       "Index(['URL', 'Label'], dtype='object')"
      ]
     },
     "execution_count": 10,
     "metadata": {},
     "output_type": "execute_result"
    }
   ],
   "source": [
    "# Columns in the dataset\n",
    "\n",
    "df.columns"
   ]
  },
  {
   "cell_type": "code",
   "execution_count": null,
   "id": "330ffef3",
   "metadata": {},
   "outputs": [],
   "source": []
  },
  {
   "cell_type": "markdown",
   "id": "3041c055",
   "metadata": {},
   "source": [
    "# Extracting data from the URL"
   ]
  },
  {
   "cell_type": "code",
   "execution_count": 11,
   "id": "33242893",
   "metadata": {},
   "outputs": [
    {
     "data": {
      "text/plain": [
       "Index(['URL', 'Label'], dtype='object')"
      ]
     },
     "execution_count": 11,
     "metadata": {},
     "output_type": "execute_result"
    }
   ],
   "source": [
    "df.columns"
   ]
  },
  {
   "cell_type": "code",
   "execution_count": 12,
   "id": "8e655b0d",
   "metadata": {},
   "outputs": [],
   "source": [
    "# Extracting domain name from the URL\n",
    "def extract_domain(url):\n",
    "    match = re.search(\"^[^/]+\", url)\n",
    "    return match.group() if match else None"
   ]
  },
  {
   "cell_type": "code",
   "execution_count": 13,
   "id": "db55ea25",
   "metadata": {},
   "outputs": [],
   "source": [
    "# Extracting path from the URL\n",
    "\n",
    "def extract_path(url):\n",
    "    match = re.search(\"/[^?]+\", url)\n",
    "    return match.group() if match else None"
   ]
  },
  {
   "cell_type": "code",
   "execution_count": 14,
   "id": "996068af",
   "metadata": {},
   "outputs": [],
   "source": [
    "# Extracting query string from the URL\n",
    "\n",
    "def extract_query_string(url):\n",
    "    match = re.search(\"\\?[^#]+\", url)\n",
    "    return match.group() if match else None"
   ]
  },
  {
   "cell_type": "code",
   "execution_count": 15,
   "id": "99e1c095",
   "metadata": {},
   "outputs": [],
   "source": [
    "# Extracting fragment from the URL\n",
    "\n",
    "def extract_fragment(url):\n",
    "    match = re.search(\"#[^/]+\", url)\n",
    "    return match.group()[1:] if match else None"
   ]
  },
  {
   "cell_type": "code",
   "execution_count": 16,
   "id": "790850b9",
   "metadata": {},
   "outputs": [],
   "source": [
    "# Creating domain name column\n",
    "\n",
    "df[\"domain_name\"] = df[\"URL\"].apply(lambda x: extract_domain(x))"
   ]
  },
  {
   "cell_type": "code",
   "execution_count": 17,
   "id": "bdf08342",
   "metadata": {},
   "outputs": [],
   "source": [
    "# Creating path column\n",
    "\n",
    "df[\"path\"] = df[\"URL\"].apply(lambda x: extract_path(x))"
   ]
  },
  {
   "cell_type": "code",
   "execution_count": 18,
   "id": "9ada3dae",
   "metadata": {},
   "outputs": [],
   "source": [
    "# Creating query string column\n",
    "\n",
    "df[\"query_string\"] = df[\"URL\"].apply(lambda x: extract_query_string(x))"
   ]
  },
  {
   "cell_type": "code",
   "execution_count": 19,
   "id": "6e998e32",
   "metadata": {},
   "outputs": [],
   "source": [
    "# Creating fragment column\n",
    "\n",
    "df[\"fragment\"] = df[\"URL\"].apply(lambda x: extract_fragment(x))"
   ]
  },
  {
   "cell_type": "code",
   "execution_count": 20,
   "id": "2a5cfb4c",
   "metadata": {},
   "outputs": [
    {
     "data": {
      "text/plain": [
       "URL                  0\n",
       "Label                0\n",
       "domain_name          1\n",
       "path             62960\n",
       "query_string    467489\n",
       "fragment        548838\n",
       "dtype: int64"
      ]
     },
     "execution_count": 20,
     "metadata": {},
     "output_type": "execute_result"
    }
   ],
   "source": [
    "df.isnull().sum()"
   ]
  },
  {
   "cell_type": "code",
   "execution_count": null,
   "id": "ef9fb54f",
   "metadata": {},
   "outputs": [],
   "source": []
  },
  {
   "cell_type": "code",
   "execution_count": 24,
   "id": "b0e543be",
   "metadata": {},
   "outputs": [],
   "source": [
    "frag_null = (df[\"fragment\"].isnull().sum()/df.shape[0])*100"
   ]
  },
  {
   "cell_type": "code",
   "execution_count": 25,
   "id": "06a67cd9",
   "metadata": {},
   "outputs": [],
   "source": [
    "domain_null = (df[\"domain_name\"].isnull().sum()/df.shape[0])*100"
   ]
  },
  {
   "cell_type": "code",
   "execution_count": 26,
   "id": "bb2c4fec",
   "metadata": {},
   "outputs": [],
   "source": [
    "path_null = (df[\"path\"].isnull().sum()/df.shape[0])*100"
   ]
  },
  {
   "cell_type": "code",
   "execution_count": 27,
   "id": "2e3bc98d",
   "metadata": {},
   "outputs": [],
   "source": [
    "query_string_null = (df[\"query_string\"].isnull().sum()/df.shape[0])*100"
   ]
  },
  {
   "cell_type": "code",
   "execution_count": 28,
   "id": "b0ed68ce",
   "metadata": {},
   "outputs": [
    {
     "data": {
      "text/plain": [
       "(549346, 6)"
      ]
     },
     "execution_count": 28,
     "metadata": {},
     "output_type": "execute_result"
    }
   ],
   "source": [
    "df.shape"
   ]
  },
  {
   "cell_type": "code",
   "execution_count": null,
   "id": "af8b7a4a",
   "metadata": {},
   "outputs": [],
   "source": []
  },
  {
   "cell_type": "markdown",
   "id": "dbe06bba",
   "metadata": {},
   "source": [
    "# Extracting other features from the URL"
   ]
  },
  {
   "cell_type": "markdown",
   "id": "cd0cadcf",
   "metadata": {},
   "source": [
    "'qty_dot_url', 'qty_hyphen_url', 'qty_underline_url', 'qty_slash_url', 'qty_questionmark_url', 'qty_equal_url', 'qty_at_url', 'qty_and_url', 'qty_exclamation_url', 'qty_space_url', 'qty_tilde_url', 'qty_comma_url', 'qty_plus_url', 'qty_asterisk_url', 'qty_hashtag_url', 'qty_dollar_url', 'qty_percent_url', 'qty_tld_url', 'length_url'"
   ]
  },
  {
   "cell_type": "code",
   "execution_count": 21,
   "id": "b0067e30",
   "metadata": {},
   "outputs": [
    {
     "name": "stdout",
     "output_type": "stream",
     "text": [
      "Number of dots in the URL: 1\n"
     ]
    }
   ],
   "source": [
    "def count_dots(url):\n",
    "    return url.count(\".\")\n",
    "\n",
    "url = \"https://plu.mx/plum/a?mendeley_data_id=72ptz43s9v&theme=plum-bigben-theme\"\n",
    "dot_count = count_dots(url)\n",
    "print(\"Number of dots in the URL:\", dot_count)"
   ]
  },
  {
   "cell_type": "code",
   "execution_count": 31,
   "id": "59163cf6",
   "metadata": {},
   "outputs": [
    {
     "name": "stdout",
     "output_type": "stream",
     "text": [
      "Number of dots in the URL: 2\n"
     ]
    }
   ],
   "source": [
    "def count_hyphen(url):\n",
    "    return url.count(\"-\")\n",
    "\n",
    "hyphen_count = count_hyphen(url)\n",
    "print(\"Number of hyphen in the URL:\", hyphen_count)"
   ]
  },
  {
   "cell_type": "code",
   "execution_count": 40,
   "id": "a451d3b1",
   "metadata": {},
   "outputs": [
    {
     "name": "stdout",
     "output_type": "stream",
     "text": [
      "Number of dots in the URL: 2\n"
     ]
    }
   ],
   "source": [
    "def count_underline(url):\n",
    "    return url.count(\"_\")\n",
    "\n",
    "underline_count = count_underline(url)\n",
    "print(\"Number of underline in the URL:\", underline_count)"
   ]
  },
  {
   "cell_type": "code",
   "execution_count": 42,
   "id": "b78f10a4",
   "metadata": {},
   "outputs": [
    {
     "name": "stdout",
     "output_type": "stream",
     "text": [
      "Number of slash in the URL: 4\n"
     ]
    }
   ],
   "source": [
    "def count_slash(url):\n",
    "    return url.count(\"/\")\n",
    "\n",
    "slash_count = count_slash(url)\n",
    "print(\"Number of slash in the URL:\", slash_count)"
   ]
  },
  {
   "cell_type": "code",
   "execution_count": 44,
   "id": "e69816ab",
   "metadata": {},
   "outputs": [],
   "source": [
    "df[\"qty_dot_url\"] = df[\"URL\"].apply(lambda x: count_dots(x))"
   ]
  },
  {
   "cell_type": "code",
   "execution_count": 45,
   "id": "cd0ea3a7",
   "metadata": {},
   "outputs": [
    {
     "data": {
      "text/plain": [
       "0         6\n",
       "1         5\n",
       "2         7\n",
       "3         6\n",
       "4         1\n",
       "         ..\n",
       "549341    3\n",
       "549342    1\n",
       "549343    1\n",
       "549344    1\n",
       "549345    1\n",
       "Name: qty_dot_url, Length: 549346, dtype: int64"
      ]
     },
     "execution_count": 45,
     "metadata": {},
     "output_type": "execute_result"
    }
   ],
   "source": [
    "df[\"qty_dot_url\"]"
   ]
  },
  {
   "cell_type": "code",
   "execution_count": 46,
   "id": "c541fa53",
   "metadata": {},
   "outputs": [
    {
     "data": {
      "text/plain": [
       "'nobell.it/70ffb52d079109dca5664cce6f317373782/login.SkyPe.com/en/cgi-bin/verification/login/70ffb52d079109dca5664cce6f317373/index.php?cmd=_profile-ach&outdated_page_tmpl=p/gen/failed-to-load&nav=0.5.1&login_access=1322408526'"
      ]
     },
     "execution_count": 46,
     "metadata": {},
     "output_type": "execute_result"
    }
   ],
   "source": [
    "df[\"URL\"][0]"
   ]
  },
  {
   "cell_type": "code",
   "execution_count": null,
   "id": "4c53a66e",
   "metadata": {},
   "outputs": [],
   "source": [
    " "
   ]
  }
 ],
 "metadata": {
  "kernelspec": {
   "display_name": "Python 3 (ipykernel)",
   "language": "python",
   "name": "python3"
  },
  "language_info": {
   "codemirror_mode": {
    "name": "ipython",
    "version": 3
   },
   "file_extension": ".py",
   "mimetype": "text/x-python",
   "name": "python",
   "nbconvert_exporter": "python",
   "pygments_lexer": "ipython3",
   "version": "3.9.12"
  }
 },
 "nbformat": 4,
 "nbformat_minor": 5
}
