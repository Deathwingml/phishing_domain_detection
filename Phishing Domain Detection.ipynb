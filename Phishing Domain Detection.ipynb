{
 "cells": [
  {
   "cell_type": "code",
   "execution_count": 1,
   "id": "7a338eea",
   "metadata": {},
   "outputs": [],
   "source": [
    "import pandas as pd\n",
    "from urllib.parse import urlsplit\n",
    "from urllib.parse import urlparse\n",
    "import re"
   ]
  },
  {
   "cell_type": "code",
   "execution_count": 2,
   "id": "3d512960",
   "metadata": {},
   "outputs": [],
   "source": [
    "# Reading Data\n",
    "\n",
    "df = pd.read_csv(\"phishing_site_urls.csv\")"
   ]
  },
  {
   "cell_type": "code",
   "execution_count": 3,
   "id": "6afd26f5",
   "metadata": {},
   "outputs": [
    {
     "data": {
      "text/html": [
       "<div>\n",
       "<style scoped>\n",
       "    .dataframe tbody tr th:only-of-type {\n",
       "        vertical-align: middle;\n",
       "    }\n",
       "\n",
       "    .dataframe tbody tr th {\n",
       "        vertical-align: top;\n",
       "    }\n",
       "\n",
       "    .dataframe thead th {\n",
       "        text-align: right;\n",
       "    }\n",
       "</style>\n",
       "<table border=\"1\" class=\"dataframe\">\n",
       "  <thead>\n",
       "    <tr style=\"text-align: right;\">\n",
       "      <th></th>\n",
       "      <th>URL</th>\n",
       "      <th>Label</th>\n",
       "    </tr>\n",
       "  </thead>\n",
       "  <tbody>\n",
       "    <tr>\n",
       "      <th>0</th>\n",
       "      <td>nobell.it/70ffb52d079109dca5664cce6f317373782/...</td>\n",
       "      <td>bad</td>\n",
       "    </tr>\n",
       "    <tr>\n",
       "      <th>1</th>\n",
       "      <td>www.dghjdgf.com/paypal.co.uk/cycgi-bin/webscrc...</td>\n",
       "      <td>bad</td>\n",
       "    </tr>\n",
       "    <tr>\n",
       "      <th>2</th>\n",
       "      <td>serviciosbys.com/paypal.cgi.bin.get-into.herf....</td>\n",
       "      <td>bad</td>\n",
       "    </tr>\n",
       "    <tr>\n",
       "      <th>3</th>\n",
       "      <td>mail.printakid.com/www.online.americanexpress....</td>\n",
       "      <td>bad</td>\n",
       "    </tr>\n",
       "    <tr>\n",
       "      <th>4</th>\n",
       "      <td>thewhiskeydregs.com/wp-content/themes/widescre...</td>\n",
       "      <td>bad</td>\n",
       "    </tr>\n",
       "  </tbody>\n",
       "</table>\n",
       "</div>"
      ],
      "text/plain": [
       "                                                 URL Label\n",
       "0  nobell.it/70ffb52d079109dca5664cce6f317373782/...   bad\n",
       "1  www.dghjdgf.com/paypal.co.uk/cycgi-bin/webscrc...   bad\n",
       "2  serviciosbys.com/paypal.cgi.bin.get-into.herf....   bad\n",
       "3  mail.printakid.com/www.online.americanexpress....   bad\n",
       "4  thewhiskeydregs.com/wp-content/themes/widescre...   bad"
      ]
     },
     "execution_count": 3,
     "metadata": {},
     "output_type": "execute_result"
    }
   ],
   "source": [
    "# Checking first 5 rows\n",
    "\n",
    "df.head()"
   ]
  },
  {
   "cell_type": "code",
   "execution_count": 4,
   "id": "ff087022",
   "metadata": {},
   "outputs": [
    {
     "data": {
      "text/plain": [
       "(549346, 2)"
      ]
     },
     "execution_count": 4,
     "metadata": {},
     "output_type": "execute_result"
    }
   ],
   "source": [
    "# Number of rows and columns\n",
    "\n",
    "df.shape"
   ]
  },
  {
   "cell_type": "code",
   "execution_count": 5,
   "id": "11a2ce67",
   "metadata": {},
   "outputs": [
    {
     "data": {
      "text/html": [
       "<div>\n",
       "<style scoped>\n",
       "    .dataframe tbody tr th:only-of-type {\n",
       "        vertical-align: middle;\n",
       "    }\n",
       "\n",
       "    .dataframe tbody tr th {\n",
       "        vertical-align: top;\n",
       "    }\n",
       "\n",
       "    .dataframe thead th {\n",
       "        text-align: right;\n",
       "    }\n",
       "</style>\n",
       "<table border=\"1\" class=\"dataframe\">\n",
       "  <thead>\n",
       "    <tr style=\"text-align: right;\">\n",
       "      <th></th>\n",
       "      <th>URL</th>\n",
       "      <th>Label</th>\n",
       "    </tr>\n",
       "  </thead>\n",
       "  <tbody>\n",
       "    <tr>\n",
       "      <th>count</th>\n",
       "      <td>549346</td>\n",
       "      <td>549346</td>\n",
       "    </tr>\n",
       "    <tr>\n",
       "      <th>unique</th>\n",
       "      <td>507195</td>\n",
       "      <td>2</td>\n",
       "    </tr>\n",
       "    <tr>\n",
       "      <th>top</th>\n",
       "      <td>jhomitevd2abj3fk.tor2web.org/</td>\n",
       "      <td>good</td>\n",
       "    </tr>\n",
       "    <tr>\n",
       "      <th>freq</th>\n",
       "      <td>52</td>\n",
       "      <td>392924</td>\n",
       "    </tr>\n",
       "  </tbody>\n",
       "</table>\n",
       "</div>"
      ],
      "text/plain": [
       "                                  URL   Label\n",
       "count                          549346  549346\n",
       "unique                         507195       2\n",
       "top     jhomitevd2abj3fk.tor2web.org/    good\n",
       "freq                               52  392924"
      ]
     },
     "execution_count": 5,
     "metadata": {},
     "output_type": "execute_result"
    }
   ],
   "source": [
    "# Describe the dataset\n",
    "\n",
    "df.describe()"
   ]
  },
  {
   "cell_type": "code",
   "execution_count": 6,
   "id": "926d81d7",
   "metadata": {},
   "outputs": [
    {
     "data": {
      "text/plain": [
       "URL      object\n",
       "Label    object\n",
       "dtype: object"
      ]
     },
     "execution_count": 6,
     "metadata": {},
     "output_type": "execute_result"
    }
   ],
   "source": [
    "# Checking datatypes of the columns\n",
    "\n",
    "df.dtypes"
   ]
  },
  {
   "cell_type": "code",
   "execution_count": 7,
   "id": "0cb9b12c",
   "metadata": {},
   "outputs": [
    {
     "data": {
      "text/plain": [
       "Index(['URL', 'Label'], dtype='object')"
      ]
     },
     "execution_count": 7,
     "metadata": {},
     "output_type": "execute_result"
    }
   ],
   "source": [
    "# Columns in the dataset\n",
    "\n",
    "df.columns"
   ]
  },
  {
   "cell_type": "code",
   "execution_count": null,
   "id": "330ffef3",
   "metadata": {},
   "outputs": [],
   "source": []
  },
  {
   "cell_type": "markdown",
   "id": "3041c055",
   "metadata": {},
   "source": [
    "# Extracting data from the URL"
   ]
  },
  {
   "cell_type": "code",
   "execution_count": 8,
   "id": "33242893",
   "metadata": {},
   "outputs": [
    {
     "data": {
      "text/plain": [
       "Index(['URL', 'Label'], dtype='object')"
      ]
     },
     "execution_count": 8,
     "metadata": {},
     "output_type": "execute_result"
    }
   ],
   "source": [
    "df.columns"
   ]
  },
  {
   "cell_type": "code",
   "execution_count": 9,
   "id": "8e655b0d",
   "metadata": {},
   "outputs": [],
   "source": [
    "# Extracting domain name from the URL\n",
    "def extract_domain(url):\n",
    "    match = re.search(\"^[^/]+\", url)\n",
    "    return match.group() if match else None"
   ]
  },
  {
   "cell_type": "code",
   "execution_count": 10,
   "id": "db55ea25",
   "metadata": {},
   "outputs": [],
   "source": [
    "# Extracting path from the URL\n",
    "\n",
    "def extract_path(url):\n",
    "    match = re.search(\"/[^?]+\", url)\n",
    "    return match.group() if match else None"
   ]
  },
  {
   "cell_type": "code",
   "execution_count": 11,
   "id": "996068af",
   "metadata": {},
   "outputs": [],
   "source": [
    "# Extracting query string from the URL\n",
    "\n",
    "def extract_query_string(url):\n",
    "    match = re.search(\"\\?[^#]+\", url)\n",
    "    return match.group() if match else None"
   ]
  },
  {
   "cell_type": "code",
   "execution_count": 12,
   "id": "99e1c095",
   "metadata": {},
   "outputs": [],
   "source": [
    "# Extracting fragment from the URL\n",
    "\n",
    "def extract_fragment(url):\n",
    "    match = re.search(\"#[^/]+\", url)\n",
    "    return match.group()[1:] if match else None"
   ]
  },
  {
   "cell_type": "code",
   "execution_count": 13,
   "id": "790850b9",
   "metadata": {},
   "outputs": [],
   "source": [
    "# Creating domain name column\n",
    "\n",
    "df[\"domain_name\"] = df[\"URL\"].apply(lambda x: extract_domain(x))"
   ]
  },
  {
   "cell_type": "code",
   "execution_count": 14,
   "id": "bdf08342",
   "metadata": {},
   "outputs": [],
   "source": [
    "# Creating path column\n",
    "\n",
    "df[\"path\"] = df[\"URL\"].apply(lambda x: extract_path(x))"
   ]
  },
  {
   "cell_type": "code",
   "execution_count": 15,
   "id": "9ada3dae",
   "metadata": {},
   "outputs": [],
   "source": [
    "# Creating query string column\n",
    "\n",
    "df[\"query_string\"] = df[\"URL\"].apply(lambda x: extract_query_string(x))"
   ]
  },
  {
   "cell_type": "code",
   "execution_count": 16,
   "id": "6e998e32",
   "metadata": {},
   "outputs": [],
   "source": [
    "# Creating fragment column\n",
    "\n",
    "df[\"fragment\"] = df[\"URL\"].apply(lambda x: extract_fragment(x))"
   ]
  },
  {
   "cell_type": "code",
   "execution_count": 17,
   "id": "2a5cfb4c",
   "metadata": {},
   "outputs": [
    {
     "data": {
      "text/plain": [
       "URL                  0\n",
       "Label                0\n",
       "domain_name          1\n",
       "path             62960\n",
       "query_string    467489\n",
       "fragment        548838\n",
       "dtype: int64"
      ]
     },
     "execution_count": 17,
     "metadata": {},
     "output_type": "execute_result"
    }
   ],
   "source": [
    "df.isnull().sum()"
   ]
  },
  {
   "cell_type": "code",
   "execution_count": null,
   "id": "b0067e30",
   "metadata": {},
   "outputs": [],
   "source": [
    "def count_dots(url):\n",
    "    return url.count(\".\")\n",
    "\n",
    "url = \"https://plu.mx/plum/a?mendeley_data_id=72ptz43s9v&theme=plum-bigben-theme\"\n",
    "dot_count = count_dots(url)\n",
    "print(\"Number of dots in the URL:\", dot_count)"
   ]
  },
  {
   "cell_type": "code",
   "execution_count": 18,
   "id": "59163cf6",
   "metadata": {},
   "outputs": [],
   "source": [
    "def count_slash(url):\n",
    "    return url.count(\"/\")"
   ]
  },
  {
   "cell_type": "code",
   "execution_count": 19,
   "id": "ef9fb54f",
   "metadata": {},
   "outputs": [
    {
     "ename": "NameError",
     "evalue": "name 'url' is not defined",
     "output_type": "error",
     "traceback": [
      "\u001b[1;31m---------------------------------------------------------------------------\u001b[0m",
      "\u001b[1;31mNameError\u001b[0m                                 Traceback (most recent call last)",
      "\u001b[1;32m~\\AppData\\Local\\Temp\\ipykernel_18548\\3848843174.py\u001b[0m in \u001b[0;36m<module>\u001b[1;34m\u001b[0m\n\u001b[1;32m----> 1\u001b[1;33m \u001b[0mslash_count\u001b[0m \u001b[1;33m=\u001b[0m \u001b[0mcount_slash\u001b[0m\u001b[1;33m(\u001b[0m\u001b[0murl\u001b[0m\u001b[1;33m)\u001b[0m\u001b[1;33m\u001b[0m\u001b[1;33m\u001b[0m\u001b[0m\n\u001b[0m\u001b[0;32m      2\u001b[0m \u001b[0mprint\u001b[0m\u001b[1;33m(\u001b[0m\u001b[1;34m\"Number of dots in the URL:\"\u001b[0m\u001b[1;33m,\u001b[0m \u001b[0mslash_count\u001b[0m\u001b[1;33m)\u001b[0m\u001b[1;33m\u001b[0m\u001b[1;33m\u001b[0m\u001b[0m\n",
      "\u001b[1;31mNameError\u001b[0m: name 'url' is not defined"
     ]
    }
   ],
   "source": [
    "slash_count = count_slash(url)\n",
    "print(\"Number of dots in the URL:\", slash_count)"
   ]
  },
  {
   "cell_type": "code",
   "execution_count": 20,
   "id": "afeeb011",
   "metadata": {},
   "outputs": [
    {
     "data": {
      "text/html": [
       "<div>\n",
       "<style scoped>\n",
       "    .dataframe tbody tr th:only-of-type {\n",
       "        vertical-align: middle;\n",
       "    }\n",
       "\n",
       "    .dataframe tbody tr th {\n",
       "        vertical-align: top;\n",
       "    }\n",
       "\n",
       "    .dataframe thead th {\n",
       "        text-align: right;\n",
       "    }\n",
       "</style>\n",
       "<table border=\"1\" class=\"dataframe\">\n",
       "  <thead>\n",
       "    <tr style=\"text-align: right;\">\n",
       "      <th></th>\n",
       "      <th>URL</th>\n",
       "      <th>Label</th>\n",
       "      <th>domain_name</th>\n",
       "      <th>path</th>\n",
       "      <th>query_string</th>\n",
       "      <th>fragment</th>\n",
       "    </tr>\n",
       "  </thead>\n",
       "  <tbody>\n",
       "    <tr>\n",
       "      <th>0</th>\n",
       "      <td>nobell.it/70ffb52d079109dca5664cce6f317373782/...</td>\n",
       "      <td>bad</td>\n",
       "      <td>nobell.it</td>\n",
       "      <td>/70ffb52d079109dca5664cce6f317373782/login.Sky...</td>\n",
       "      <td>?cmd=_profile-ach&amp;outdated_page_tmpl=p/gen/fai...</td>\n",
       "      <td>None</td>\n",
       "    </tr>\n",
       "    <tr>\n",
       "      <th>1</th>\n",
       "      <td>www.dghjdgf.com/paypal.co.uk/cycgi-bin/webscrc...</td>\n",
       "      <td>bad</td>\n",
       "      <td>www.dghjdgf.com</td>\n",
       "      <td>/paypal.co.uk/cycgi-bin/webscrcmd=_home-custom...</td>\n",
       "      <td>None</td>\n",
       "      <td>None</td>\n",
       "    </tr>\n",
       "    <tr>\n",
       "      <th>2</th>\n",
       "      <td>serviciosbys.com/paypal.cgi.bin.get-into.herf....</td>\n",
       "      <td>bad</td>\n",
       "      <td>serviciosbys.com</td>\n",
       "      <td>/paypal.cgi.bin.get-into.herf.secure.dispatch3...</td>\n",
       "      <td>None</td>\n",
       "      <td>None</td>\n",
       "    </tr>\n",
       "    <tr>\n",
       "      <th>3</th>\n",
       "      <td>mail.printakid.com/www.online.americanexpress....</td>\n",
       "      <td>bad</td>\n",
       "      <td>mail.printakid.com</td>\n",
       "      <td>/www.online.americanexpress.com/index.html</td>\n",
       "      <td>None</td>\n",
       "      <td>None</td>\n",
       "    </tr>\n",
       "    <tr>\n",
       "      <th>4</th>\n",
       "      <td>thewhiskeydregs.com/wp-content/themes/widescre...</td>\n",
       "      <td>bad</td>\n",
       "      <td>thewhiskeydregs.com</td>\n",
       "      <td>/wp-content/themes/widescreen/includes/temp/pr...</td>\n",
       "      <td>?84784787824HDJNDJDSJSHD//2724782784/</td>\n",
       "      <td>None</td>\n",
       "    </tr>\n",
       "  </tbody>\n",
       "</table>\n",
       "</div>"
      ],
      "text/plain": [
       "                                                 URL Label  \\\n",
       "0  nobell.it/70ffb52d079109dca5664cce6f317373782/...   bad   \n",
       "1  www.dghjdgf.com/paypal.co.uk/cycgi-bin/webscrc...   bad   \n",
       "2  serviciosbys.com/paypal.cgi.bin.get-into.herf....   bad   \n",
       "3  mail.printakid.com/www.online.americanexpress....   bad   \n",
       "4  thewhiskeydregs.com/wp-content/themes/widescre...   bad   \n",
       "\n",
       "           domain_name                                               path  \\\n",
       "0            nobell.it  /70ffb52d079109dca5664cce6f317373782/login.Sky...   \n",
       "1      www.dghjdgf.com  /paypal.co.uk/cycgi-bin/webscrcmd=_home-custom...   \n",
       "2     serviciosbys.com  /paypal.cgi.bin.get-into.herf.secure.dispatch3...   \n",
       "3   mail.printakid.com         /www.online.americanexpress.com/index.html   \n",
       "4  thewhiskeydregs.com  /wp-content/themes/widescreen/includes/temp/pr...   \n",
       "\n",
       "                                        query_string fragment  \n",
       "0  ?cmd=_profile-ach&outdated_page_tmpl=p/gen/fai...     None  \n",
       "1                                               None     None  \n",
       "2                                               None     None  \n",
       "3                                               None     None  \n",
       "4              ?84784787824HDJNDJDSJSHD//2724782784/     None  "
      ]
     },
     "execution_count": 20,
     "metadata": {},
     "output_type": "execute_result"
    }
   ],
   "source": [
    "df.head()"
   ]
  },
  {
   "cell_type": "code",
   "execution_count": null,
   "id": "87c9acf9",
   "metadata": {},
   "outputs": [],
   "source": []
  },
  {
   "cell_type": "code",
   "execution_count": 21,
   "id": "b0e543be",
   "metadata": {},
   "outputs": [],
   "source": [
    "frag_null = (df[\"fragment\"].isnull().sum()/df.shape[0])*100"
   ]
  },
  {
   "cell_type": "code",
   "execution_count": 22,
   "id": "131ec308",
   "metadata": {},
   "outputs": [
    {
     "data": {
      "text/plain": [
       "99.90752640412418"
      ]
     },
     "execution_count": 22,
     "metadata": {},
     "output_type": "execute_result"
    }
   ],
   "source": [
    "frag_null"
   ]
  },
  {
   "cell_type": "code",
   "execution_count": 24,
   "id": "06a67cd9",
   "metadata": {},
   "outputs": [
    {
     "data": {
      "text/plain": [
       "0.00018203463755083317"
      ]
     },
     "execution_count": 24,
     "metadata": {},
     "output_type": "execute_result"
    }
   ],
   "source": [
    "(df[\"domain_name\"].isnull().sum()/df.shape[0])*100"
   ]
  },
  {
   "cell_type": "code",
   "execution_count": 25,
   "id": "bb2c4fec",
   "metadata": {},
   "outputs": [
    {
     "data": {
      "text/plain": [
       "11.460900780200456"
      ]
     },
     "execution_count": 25,
     "metadata": {},
     "output_type": "execute_result"
    }
   ],
   "source": [
    "(df[\"path\"].isnull().sum()/df.shape[0])*100"
   ]
  },
  {
   "cell_type": "code",
   "execution_count": 26,
   "id": "2e3bc98d",
   "metadata": {},
   "outputs": [
    {
     "data": {
      "text/plain": [
       "85.09919067400145"
      ]
     },
     "execution_count": 26,
     "metadata": {},
     "output_type": "execute_result"
    }
   ],
   "source": [
    "(df[\"query_string\"].isnull().sum()/df.shape[0])*100"
   ]
  },
  {
   "cell_type": "code",
   "execution_count": 27,
   "id": "b0ed68ce",
   "metadata": {},
   "outputs": [
    {
     "data": {
      "text/plain": [
       "(549346, 6)"
      ]
     },
     "execution_count": 27,
     "metadata": {},
     "output_type": "execute_result"
    }
   ],
   "source": [
    "df.shape"
   ]
  },
  {
   "cell_type": "code",
   "execution_count": 29,
   "id": "410b1eac",
   "metadata": {},
   "outputs": [
    {
     "name": "stdout",
     "output_type": "stream",
     "text": [
      "<class 'pandas.core.frame.DataFrame'>\n",
      "RangeIndex: 549346 entries, 0 to 549345\n",
      "Data columns (total 6 columns):\n",
      " #   Column        Non-Null Count   Dtype \n",
      "---  ------        --------------   ----- \n",
      " 0   URL           549346 non-null  object\n",
      " 1   Label         549346 non-null  object\n",
      " 2   domain_name   549345 non-null  object\n",
      " 3   path          486386 non-null  object\n",
      " 4   query_string  81857 non-null   object\n",
      " 5   fragment      508 non-null     object\n",
      "dtypes: object(6)\n",
      "memory usage: 25.1+ MB\n"
     ]
    }
   ],
   "source": [
    "df.info()"
   ]
  },
  {
   "cell_type": "code",
   "execution_count": 30,
   "id": "d45892fb",
   "metadata": {},
   "outputs": [
    {
     "data": {
      "text/html": [
       "<div>\n",
       "<style scoped>\n",
       "    .dataframe tbody tr th:only-of-type {\n",
       "        vertical-align: middle;\n",
       "    }\n",
       "\n",
       "    .dataframe tbody tr th {\n",
       "        vertical-align: top;\n",
       "    }\n",
       "\n",
       "    .dataframe thead th {\n",
       "        text-align: right;\n",
       "    }\n",
       "</style>\n",
       "<table border=\"1\" class=\"dataframe\">\n",
       "  <thead>\n",
       "    <tr style=\"text-align: right;\">\n",
       "      <th></th>\n",
       "      <th>URL</th>\n",
       "      <th>Label</th>\n",
       "      <th>domain_name</th>\n",
       "      <th>path</th>\n",
       "      <th>query_string</th>\n",
       "      <th>fragment</th>\n",
       "    </tr>\n",
       "  </thead>\n",
       "  <tbody>\n",
       "    <tr>\n",
       "      <th>count</th>\n",
       "      <td>549346</td>\n",
       "      <td>549346</td>\n",
       "      <td>549345</td>\n",
       "      <td>486386</td>\n",
       "      <td>81857</td>\n",
       "      <td>508</td>\n",
       "    </tr>\n",
       "    <tr>\n",
       "      <th>unique</th>\n",
       "      <td>507195</td>\n",
       "      <td>2</td>\n",
       "      <td>190302</td>\n",
       "      <td>366823</td>\n",
       "      <td>64498</td>\n",
       "      <td>257</td>\n",
       "    </tr>\n",
       "    <tr>\n",
       "      <th>top</th>\n",
       "      <td>jhomitevd2abj3fk.tor2web.org/</td>\n",
       "      <td>good</td>\n",
       "      <td>en.wikipedia.org</td>\n",
       "      <td>/watch</td>\n",
       "      <td>?m=login</td>\n",
       "      <td>n=1252899642&amp;fid=1&amp;fav=1</td>\n",
       "    </tr>\n",
       "    <tr>\n",
       "      <th>freq</th>\n",
       "      <td>52</td>\n",
       "      <td>392924</td>\n",
       "      <td>13206</td>\n",
       "      <td>8552</td>\n",
       "      <td>1157</td>\n",
       "      <td>187</td>\n",
       "    </tr>\n",
       "  </tbody>\n",
       "</table>\n",
       "</div>"
      ],
      "text/plain": [
       "                                  URL   Label       domain_name    path  \\\n",
       "count                          549346  549346            549345  486386   \n",
       "unique                         507195       2            190302  366823   \n",
       "top     jhomitevd2abj3fk.tor2web.org/    good  en.wikipedia.org  /watch   \n",
       "freq                               52  392924             13206    8552   \n",
       "\n",
       "       query_string                  fragment  \n",
       "count         81857                       508  \n",
       "unique        64498                       257  \n",
       "top        ?m=login  n=1252899642&fid=1&fav=1  \n",
       "freq           1157                       187  "
      ]
     },
     "execution_count": 30,
     "metadata": {},
     "output_type": "execute_result"
    }
   ],
   "source": [
    "df.describe()"
   ]
  },
  {
   "cell_type": "code",
   "execution_count": null,
   "id": "af8b7a4a",
   "metadata": {},
   "outputs": [],
   "source": []
  }
 ],
 "metadata": {
  "kernelspec": {
   "display_name": "Python 3 (ipykernel)",
   "language": "python",
   "name": "python3"
  },
  "language_info": {
   "codemirror_mode": {
    "name": "ipython",
    "version": 3
   },
   "file_extension": ".py",
   "mimetype": "text/x-python",
   "name": "python",
   "nbconvert_exporter": "python",
   "pygments_lexer": "ipython3",
   "version": "3.9.13"
  }
 },
 "nbformat": 4,
 "nbformat_minor": 5
}
